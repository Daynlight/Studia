{
 "cells": [
  {
   "cell_type": "markdown",
   "metadata": {},
   "source": [
    "# Algebra liniowa z zastosowaniami 1\n",
    "\n",
    "## Ćwiczenia w sali komputerowej nr 4"
   ]
  },
  {
   "cell_type": "markdown",
   "metadata": {},
   "source": [
    "Uzupełnij swoje dane i sprawdź, czy wyświetlają się poprawnie:"
   ]
  },
  {
   "cell_type": "code",
   "execution_count": 1,
   "metadata": {},
   "outputs": [
    {
     "name": "stdout",
     "output_type": "stream",
     "text": [
      "Daniel Stodulski\n"
     ]
    }
   ],
   "source": [
    "IMIE_NAZWISKO = \"Daniel Stodulski\"\n",
    "\n",
    "print(IMIE_NAZWISKO)"
   ]
  },
  {
   "cell_type": "markdown",
   "metadata": {},
   "source": [
    "Standardowo zaczniemy od wczytania biblioteki NumPy:"
   ]
  },
  {
   "cell_type": "code",
   "execution_count": 2,
   "metadata": {},
   "outputs": [],
   "source": [
    "import numpy as np"
   ]
  },
  {
   "cell_type": "markdown",
   "metadata": {},
   "source": [
    "Podczas rozwiązywania zadań nie wykorzystuj funkcji innych bibliotek, np. SciPy lub SymPy. O ile nie jest to podane wprost w treści zadania, nie korzystaj również z modułu `linalg` biblioteki NumPy."
   ]
  },
  {
   "cell_type": "markdown",
   "metadata": {},
   "source": [
    "### 1. Jak macierzy przyporządkować liczbę?\n",
    "\n",
    "W czasie dotychczasowych zajęć widzieliśmy, w jaki sposób układy równań liniowych można wyrażać w formie równań macierzowych. Działania na macierzach (np. mnożenie macierzy) służyły znalezieniu rozwiązania układu równań (np. metodą eliminacji Gaussa). Celem niniejszych zajęć jest omówienie pojęcia wyznacznika oraz poznanie nowej metody rozwiązywania układów równań – metody wyznacznikowej.\n",
    "\n",
    "Na samym początku zwróćmy uwagę, że wyznacznik odnosi się **wyłącznie do macierzy kwadratowej**. Intuicja stojąca za wyznacznikiem nie jest prosta do wyjaśnienia (w skrócie wyznacznik można interpretować jako objętość bryły, w wolnej chwili zapoznaj się z tym [materiałem](https://textbooks.math.gatech.edu/ila/determinants-volumes.html)). Nam teraz wystarczy znajomość tego, że  wyznacznik jest *liczbą*, która wyliczana jest z *elementów macierzy*. \n",
    "\n",
    "Sposobów przyporządkowania macierzy (czyli tablicy liczb) jednej liczby jest wiele. Moglibyśmy na przykład sumować wartości bezwzględne elementów w wierszach i spośród otrzymanych liczb wybierać największą. Jeśli macierz $A$ jest postaci \n",
    "$$\n",
    "A = \\begin{bmatrix}\n",
    "a_{11} & a_{12} & \\dots & a_{1n}\\\\\n",
    "a_{21} & a_{22} & \\dots & a_{2n}\\\\\n",
    "\\vdots & \\vdots & \\ddots & \\vdots\\\\\n",
    "a_{n1} & a_{n2} & \\dots & a_{nn} \n",
    "\\end{bmatrix},\n",
    "$$\n",
    "to liczylibyśmy wyrażenie $\\|A\\|$\n",
    "$$\n",
    "\\|A\\| = \\max _{i}\\sum _{j}|a_{ij}|.\n",
    "$$"
   ]
  },
  {
   "cell_type": "markdown",
   "metadata": {},
   "source": [
    "##### **Zadanie 1** (1 pkt)\n",
    "\n",
    "Uzupełnij poniższą funkcję `matrix_norm()` zliczającą wartości $\\|A\\|$ dla macierzy kwadratowej $A$."
   ]
  },
  {
   "cell_type": "markdown",
   "metadata": {},
   "source": [
    "Przykładowe przypadki testowe, które powinien przejść Twój kod:\n",
    "\n",
    "```python\n",
    "# przypadek testowy 1\n",
    "np.random.seed(1337)\n",
    "A = np.random.rand(4, 4)\n",
    "print(matrix_norm(A))\n",
    "```\n",
    "\n",
    "Oczekiwany wynik:\n",
    "\n",
    "```plaintext\n",
    "2.34139\n",
    "```\n",
    "\n",
    "```python\n",
    "# przypadek testowy 2\n",
    "np.random.seed(1337)\n",
    "A = np.random.rand(5, 5)\n",
    "print(matrix_norm(A))\n",
    "```\n",
    "\n",
    "Oczekiwany wynik:\n",
    "\n",
    "```plaintext\n",
    "2.94530\n",
    "```"
   ]
  },
  {
   "cell_type": "code",
   "execution_count": 3,
   "metadata": {},
   "outputs": [
    {
     "name": "stdout",
     "output_type": "stream",
     "text": [
      "2.341389742148272\n",
      "2.9453005579142397\n"
     ]
    }
   ],
   "source": [
    "def matrix_norm(A):\n",
    "    # WPISZ SWÓJ KOD TUTAJ\n",
    "    max = 0\n",
    "    for row in A:\n",
    "        sum = 0\n",
    "        for element in row:\n",
    "            sum += abs(element)\n",
    "        if(max < sum):\n",
    "            max = sum\n",
    "    return max\n",
    "\n",
    "np.random.seed(1337)\n",
    "A = np.random.rand(4, 4)\n",
    "print(matrix_norm(A))\n",
    "\n",
    "np.random.seed(1337)\n",
    "A = np.random.rand(5, 5)\n",
    "print(matrix_norm(A))"
   ]
  },
  {
   "cell_type": "markdown",
   "metadata": {},
   "source": [
    "----"
   ]
  },
  {
   "cell_type": "markdown",
   "metadata": {},
   "source": [
    "Zauważmy, że powyższa procedura przypisuje macierzy liczbę nieujemną, a do tego spełnia kilka ważnych własności (przyjmuje wartość zero tylko dla macierzy zerowej, jest jednorodna oraz spełnia tzw. nierówność trójkąta). Jest ona przykładem [normy macierzy](https://en.wikipedia.org/wiki/Matrix_norm) i ma swoje znaczenie w obliczeniach numerycznych, ale o tym kiedy indziej. [Norma](https://en.wikipedia.org/wiki/Norm_(mathematics)) jest sposobem liczenia długości wektorów, czy określania rzędu wielkości wszystkich elementów macierzy i jest uogólnieniem znanego ze szkoły pojęcia wartości bezwzględnej na obiekty znacznie bardziej złożone niż liczby (np. wektory, macierze, czy funkcje)."
   ]
  },
  {
   "cell_type": "markdown",
   "metadata": {},
   "source": [
    "### 2. Wyznacznik macierzy\n",
    "\n",
    "Przedstawimy teraz znacznie bardziej skomplikowany sposób przypisania macierzy pewnej liczby, zwanej wyznacznikiem macierzy. Zaczniemy od definicji, a następnie zilustrujemy ją obliczaniem wyznacznika dla macierzy $2\\times 2$ oraz $3\\times 3$. Poniższe rozważania widzieliście już zapewne na wykładzie oraz ćwiczeniach tablicowych, ale warto zapoznać się z nimi raz jeszcze – ćwiczymy w ten sposób rozumienie formalnego matematycznego tekstu.\n",
    "\n",
    "**Wyznacznikiem macierzy** $A$,\n",
    "$$\n",
    "A = \\begin{bmatrix}\n",
    "a_{11} & a_{12} & \\dots & a_{1n}\\\\\n",
    "a_{21} & a_{22} & \\dots & a_{2n}\\\\\n",
    "\\vdots & \\vdots & \\ddots & \\vdots\\\\\n",
    "a_{n1} & a_{n2} & \\dots & a_{nn} \n",
    "\\end{bmatrix},\n",
    "$$\n",
    "nazwiemy liczbę $\\det A$ spełniającą warunki \n",
    "\n",
    "1. jeśli $n=1$, to \n",
    "$$\n",
    "\\det A = a_{11}\n",
    "$$\n",
    "2.  jeśli $n>1$, to \n",
    "$$\n",
    " \\det A=\\sum _{i=1}^{n}(-1)^{i+j}a_{ij}\\det A_{i,j},\n",
    "$$ \n",
    "przy czym $j$ to dowolna liczba naturalna z przedziału $j\\in [1,n]$, natomiast  $A_{i,j}$  podmacierz stopnia  $n-1$, powstała z macierzy $A$ poprzez skreślenie $i$-tego wiersza oraz  $j$-tej kolumny.\n",
    "\n",
    "Zobaczmy, w jaki sposób powyższy wzór pozwala obliczyć wyznaczniki macierzy $2\\times 2$ oraz $3\\times 3$. Zacznijmy od macierzy $2\\times 2$.\n",
    "\n",
    "Niech \n",
    "$$\n",
    "A = \n",
    "\\begin{bmatrix}\n",
    "a_{11} & a_{12}\\\\\n",
    "a_{21} & a_{22}\n",
    "\\end{bmatrix}\n",
    "$$\n",
    "i spośród liczb $1,2$ wybierzmy $2$ (to wybór liczby $j$ w drugim punkcie powyższej definicji).\n",
    "Korzystając z definicji (ważne! przeczytaj ze zrozumieniem poniższe rachunki, jeśli coś nie jest jasne, zapytaj prowadzącego) dostajemy \n",
    "\\begin{align*}\n",
    "\\det A  & = \\sum _{i=1}^{2}(-1)^{i+2}a_{i2}\\det A_{i,2}\\\\\n",
    "        & = -a_{12} \\det A_{1,2} + a_{22} \\det A_{2,2}\\\\\n",
    "        & = a_{11}a_{22} - a_{12}a_{21}. \n",
    "\\end{align*}\n",
    "Okazuje się, że dla macierzy $2\\times 2$ jej wyznacznik to różnica iloczynów elementów na głownej przekątnej oraz dwóch pozostałych elementów macierzy. Można zauważyć (ale to proszę sprawdź samodzielnie poza zajęciami), że wybór $j=1$ w miejsce $j=2$ nie zmieniłoby wyniku działania!.\n",
    "\n",
    "Niech teraz \n",
    "$$\n",
    "A = \n",
    "\\begin{bmatrix}\n",
    "a_{11} & a_{12} & a_{13}\\\\\n",
    "a_{21} & a_{22} & a_{23}\\\\\n",
    "a_{21} & a_{22} & a_{33}\n",
    "\\end{bmatrix}.\n",
    "$$\n",
    "Wybierzmy ponownie liczbę $j=2$ (moglibyśmy $j=1$ lub $j=3$). Mamy\n",
    "\\begin{align*}\n",
    " \\det A & = \\sum _{i=1}^{3}(-1)^{i+2}a_{i2}\\det A_{i,2}\\\\\n",
    "        & = -a_{12}\\det A_{1,2} + a_{22}\\det A_{2,2} - a_{32}\\det A_{3,2}.\n",
    "\\end{align*}\n",
    "Macierze \n",
    "\\begin{align*}\n",
    "A_{1,2} = \n",
    "\\begin{bmatrix}\n",
    "a_{21} & a_{23}\\\\\n",
    "a_{31} & a_{33}\n",
    "\\end{bmatrix},\\quad  \n",
    "A_{2,2} = \n",
    "\\begin{bmatrix}\n",
    "a_{11} & a_{13}\\\\\n",
    "a_{31} & a_{33}\n",
    "\\end{bmatrix},\\quad  \n",
    "A_{3,2} = \n",
    "\\begin{bmatrix}\n",
    "a_{11} & a_{13}\\\\\n",
    "a_{21} & a_{23}\n",
    "\\end{bmatrix}\n",
    "\\end{align*}\n",
    "są macierzami wymiaru $2\\times 2$, stąd możemy wyznaczniki obliczyć wzorem wyprowadzonym powyżej by otrzymać\n",
    "\\begin{align*}\n",
    " \\det A & = \\sum _{i=1}^{3}(-1)^{i+2}a_{i2}\\det A_{i,2}\\\\\n",
    "        & = -a_{12}\\det A_{1,2} + a_{22}\\det A_{2,2} - a_{32}\\det A_{3,2}\\\\\n",
    "        & = -a_{12}a_{21}a_{33} + a_{12} a_{23}a_{31} + a_{22}a_{11}a_{33}-a_{22}a_{13}a_{31}-a_{32}a_{11}a_{23}+ a_{32}a_{13}a_{21}.\n",
    "\\end{align*}\n",
    "Uporządkujmy jeszcze powyższe wyrażenie tak, by dostrzec pewną prawidłowość pozwalającą wzór na obliczanie wyznacznika macierzy $3\\times 3$ łatwo zapamiętać. \n",
    "\\begin{align*}\n",
    "\\det A & = a_{11}a_{22}a_{33}+ a_{12} a_{23}a_{31}+a_{13}a_{21}a_{32} - a_{13}a_{22}a_{31} - a_{23}a_{32}a_{11} - a_{12}a_{21}a_{33}.\n",
    "\\end{align*}\n",
    "\n",
    "![Schemat Sarrusa](https://mleczko.faculty.wmi.amu.edu.pl/dydaktyka/sarrus-schemas.png)"
   ]
  },
  {
   "cell_type": "markdown",
   "metadata": {},
   "source": [
    "##### **Zadanie 2** (2 pkt.)\n",
    "\n",
    "Uzupełnij poniższą funkcję `my_det()` obliczającą wyznacznik macierzy $2\\times 2$ oraz $3\\times 3$ korzystający z powyższych wzorów."
   ]
  },
  {
   "cell_type": "markdown",
   "metadata": {},
   "source": [
    "Przykładowe przypadki testowe, które powinien przejść Twój kod:\n",
    "\n",
    "```python\n",
    "# przypadek testowy 1\n",
    "A = np.array([\n",
    "    [1, 0],\n",
    "    [0, 1]\n",
    "    ], dtype=np.float64)\n",
    "print(my_det(A))\n",
    "```\n",
    "\n",
    "Oczekiwany wynik:\n",
    "\n",
    "```plaintext\n",
    "1.0\n",
    "```\n",
    "\n",
    "```python\n",
    "# przypadek testowy 2\n",
    "B = np.array([\n",
    "    [1, 2, 3],\n",
    "    [4, 5, 6],\n",
    "    [7, 8, 9]\n",
    "    ], dtype=np.float64)\n",
    "print(my_det(B))\n",
    "```\n",
    "\n",
    "Oczekiwany wynik:\n",
    "\n",
    "```plaintext\n",
    "0.0\n",
    "```"
   ]
  },
  {
   "cell_type": "code",
   "execution_count": 4,
   "metadata": {},
   "outputs": [
    {
     "name": "stdout",
     "output_type": "stream",
     "text": [
      "1.0\n",
      "0.0\n"
     ]
    }
   ],
   "source": [
    "def my_det(A):\n",
    "    n = np.shape(A)\n",
    "    if n == (2,2):\n",
    "        # WPISZ SWÓJ KOD TUTAJ\n",
    "        return A[0][0] * A[1][1] - A[0][1] * A[1][0]\n",
    "    \n",
    "    else:\n",
    "        # WPISZ SWÓJ KOD TUTAJ\n",
    "        return A[0][0] * A[1][1] * A[2][2] + A[0][1] * A[1][2] * A[2][0] + A[0][2] * A[1][0] * A[2][1] - A[0][2] * A[1][1] * A[2][0] - A[0][1] * A[1][0] * A[2][2] - A[0][0] * A[1][2] * A[2][1]\n",
    "\n",
    "A = np.array([\n",
    "    [1, 0],\n",
    "    [0, 1]\n",
    "    ], dtype=np.float64)\n",
    "print(my_det(A))\n",
    "\n",
    "B = np.array([\n",
    "    [1, 2, 3],\n",
    "    [4, 5, 6],\n",
    "    [7, 8, 9]\n",
    "    ], dtype=np.float64)\n",
    "print(my_det(B))\n"
   ]
  },
  {
   "cell_type": "markdown",
   "metadata": {},
   "source": [
    "#### Wyznaczniki macierzy wyższych stopni\n",
    "\n",
    "Nie będziemy pisać programów obliczających wyznaczniki macierzy wyższych stopni (choć jest to ciekawe zadanie programistyczne), gdyż w większości języków programowania funkcja obliczająca wyznacznik jest juz zaimplementowana. Dla przykładu w bibliotece NumPy istnieje moduł [`np.linalg`](https://numpy.org/doc/stable/reference/routines.linalg.html) zawierający podstawowe funkcje związane z algebrą liniową (wyznacznik obliczany jest za pomocą funkcji [`np.linalg.det()`](https://numpy.org/doc/stable/reference/generated/numpy.linalg.det.html)).    "
   ]
  },
  {
   "cell_type": "code",
   "execution_count": 5,
   "metadata": {},
   "outputs": [
    {
     "name": "stdout",
     "output_type": "stream",
     "text": [
      "Wyznacznik macierzy A: 1.0\n",
      "Wyznacznik macierzy B: 0.0\n"
     ]
    }
   ],
   "source": [
    "# WYKONAJ PONIŻSZY KOD\n",
    "\n",
    "A = np.array([\n",
    "    [1, 0],\n",
    "    [0, 1]\n",
    "    ], dtype=np.float64)\n",
    "\n",
    "B = np.array([\n",
    "    [1, 2, 3],\n",
    "    [4, 5, 6],\n",
    "    [7, 8, 9]\n",
    "    ], dtype=np.float64)\n",
    "\n",
    "print(f'Wyznacznik macierzy A: {np.linalg.det(A)}')\n",
    "print(f'Wyznacznik macierzy B: {np.linalg.det(B)}')"
   ]
  },
  {
   "cell_type": "markdown",
   "metadata": {},
   "source": [
    "Spodziewany wynik:\n",
    "\n",
    "$$\n",
    "\\det A = 1,\\quad \\det B = 0.\n",
    "$$\n",
    "\n",
    "Uwaga: na niektórych starszych architekturach procesorów możemy otrzymać wyznacznik macierzy $B$ numerycznie różny od zera, np. $\\det B = 6{,}66133814775094\\cdot 10^{-16}$. Wrócimy jednak do tego problemu na innych zajęciach."
   ]
  },
  {
   "cell_type": "markdown",
   "metadata": {},
   "source": [
    "### 3. ,,Wielkość elementów\" macierzy – wyznacznik a norma\n",
    "\n",
    "Zwróćmy uwagę na to, że wyznacznik *nie jest* bezpośrednio związany z wielkością elementów macierzy, czyli macierze o dużych elementach niekoniecznie będą miały duże wyznaczniki. Jeśli chcemy badać wielkość elementów macierzy, znacznie lepiej do tego użyć normy macierzy. Ilustruje to poniższy przykład macierzy $A$ oraz $B$\n",
    "$$\n",
    "A = \n",
    "\\begin{bmatrix}\n",
    "    0{,}01 & 0 & 0 & 0 & 0\\\\\n",
    "    0& 0{,}01 & 0 & 0 & 0\\\\\n",
    "    0 & 0 & 0{,}01 & 0 & 0\\\\\n",
    "    0 & 0 & 0 & 0{,}01 & 0\\\\\n",
    "    0 & 0 & 0 & 0 & 0{,}01\\\\\n",
    "\\end{bmatrix},\\quad\n",
    "B = \n",
    "\\begin{bmatrix}\n",
    "    100000 & 100000 & 100000 & 100000 & 100000\\\\\n",
    "    0 & 100000 & 100000 & 100000 & 100000\\\\\n",
    "    0 & 0 & 100000 & 100000 & 100000\\\\\n",
    "    0 & 0 & 0 & 100000 & 100000\\\\\n",
    "    0 & 0 & 0 & 0 & 0\n",
    "\\end{bmatrix}.\n",
    "$$"
   ]
  },
  {
   "cell_type": "code",
   "execution_count": 6,
   "metadata": {},
   "outputs": [
    {
     "name": "stdout",
     "output_type": "stream",
     "text": [
      "Wyznacznik macierzy A: 1.0000000000000031e-10\n",
      "Norma macierzy A: 0.01\n",
      "Wyznacznik macierzy B: 0.0\n",
      "Norma macierzy B: 500000\n"
     ]
    }
   ],
   "source": [
    "# WYKONAJ PONIŻSZY KOD\n",
    "\n",
    "x = np.array([0.01, 0.01, 0.01, 0.01, 0.01])\n",
    "A = np.diag(x)\n",
    "\n",
    "B0 = np.array([\n",
    "    [10, 10, 10, 10, 10],\n",
    "    [ 0, 10, 10, 10, 10],\n",
    "    [ 0,  0, 10, 10, 10],\n",
    "    [ 0,  0,  0, 10, 10],\n",
    "    [ 0,  0,  0,  0,  0]\n",
    "]) \n",
    "B = np.power(B0, 5)\n",
    "\n",
    "print(f'Wyznacznik macierzy A: {np.linalg.det(A)}')\n",
    "print(f'Norma macierzy A: {matrix_norm(A)}')\n",
    "\n",
    "print(f'Wyznacznik macierzy B: {np.linalg.det(B)}')\n",
    "print(f'Norma macierzy B: {matrix_norm(B)}')"
   ]
  },
  {
   "cell_type": "markdown",
   "metadata": {},
   "source": [
    "### 4. Znaczenie wyznacznika\n",
    "\n",
    "W tym punkcie poznamy dwa ważne zastosowania wyznacznika, w zasadzie oba pozwalające rozwiązywać układy równań liniowych.\n",
    "\n",
    "Przypomnijmy, że na poprzednich zajęciach mówiliśmy o tym, że każdy układ równań liniowych można przedstawić w postaci macierzowej. Na przykład mając układ $n$ równań z $n$ niewiadomymi\n",
    "$$\n",
    "    \\left\\{ \n",
    "        \\begin{matrix}\n",
    "            a_{11} x_1 +  a_{12} x_2 + \\dots + a_{1n}x_n = b_1\\\\\n",
    "            a_{21} x_1 + a_{22} x_2  + \\dots + a_{2n}x_n = b_2\\\\\n",
    "            \\vdots\\\\\n",
    "            a_{n1} x_1 + a_{n2} x_2 + \\dots + a_{nn}x_n = b_n\\\\\n",
    "        \\end{matrix}\n",
    "     \\right.\n",
    "$$\n",
    "możemy układ ten zapisać w postaci\n",
    "$$\n",
    "A x  = b,\n",
    "$$\n",
    "przy czym\n",
    "$$\n",
    "A = \n",
    "    \\begin{bmatrix} \n",
    "        a_{11} &  a_{12} & \\dots & a_{1n}\\\\\n",
    "        a_{21} &  a_{22} & \\dots & a_{2n}\\\\\n",
    "        \\dots  & \\dots   & \\ddots& \\vdots\\\\\n",
    "        a_{n1} &  a_{n2} & \\dots & a_{nn}\n",
    "    \\end{bmatrix},\\qquad \n",
    "x = \n",
    "    \\begin{bmatrix}\n",
    "        x_1\\\\\n",
    "        x_2\\\\\n",
    "        \\vdots\\\\\n",
    "        x_n\n",
    "    \\end{bmatrix},\\qquad\n",
    "    b = \n",
    "    \\begin{bmatrix}\n",
    "        b_1\\\\\n",
    "        b_2\\\\\n",
    "        \\vdots\\\\\n",
    "        b_n\n",
    "    \\end{bmatrix}.\n",
    "$$\n",
    "Macierz $A$ to tzw. *macierz układu*. "
   ]
  },
  {
   "cell_type": "markdown",
   "metadata": {},
   "source": [
    "##### **Zadanie 3** (2 pkt.)\n",
    "\n",
    "Uzupełnij poniższą funkcję `cramer()` rozwiązującą układ $n$ równań z $n$ niewiadomymi za pomocą [wzorów Cramera](https://en.wikipedia.org/wiki/Cramer%27s_rule). Możesz skorzystać z funkcji [`np.linalg.det()`](https://numpy.org/doc/stable/reference/generated/numpy.linalg.det.html). Na wyjściu zwróć listę rozwiązań. Jeśli wejściowa macierz współczynników jest osobliwa, to zwróć `None`.\n",
    "\n",
    "Np. dla\n",
    "\n",
    "$$\n",
    "\\left\\{ \n",
    "    \\begin{matrix}\n",
    "   \\phantom{2}x_1+\\phantom{2}x_2+\\phantom{2}x_3+\\phantom{2}x_4 & = 3\\\\ \n",
    "   x_1+2x_2+3x_3+4x_4 & = 5\\\\\n",
    "   2x_1+4x_2+x_3+5x_4 & = 3\\\\\n",
    "   3x_1+5x_2 + 2 x_3 +7 x_4 & = 5\n",
    "   \\end{matrix}\n",
    "\\right.\n",
    "$$\n",
    "\n",
    "wynik dokładny to\n",
    "\n",
    "$$\n",
    "x_1 = 1,\\quad x_2 = 1,\\quad x_3 = 2,\\quad x_4 = -1,\n",
    "$$\n",
    "\n",
    "Otrzymane rozwiązania mogą różnić się ze względu na błędy przybliżeń."
   ]
  },
  {
   "cell_type": "markdown",
   "metadata": {},
   "source": [
    "Przykładowe przypadki testowe, które powinien przejść Twój kod:\n",
    "\n",
    "```python\n",
    "# przypadek testowy 1\n",
    "A = np.array([\n",
    "    [1, 1, 1, 1],\n",
    "    [1, 2, 3, 4],\n",
    "    [2, 4, 1, 5],\n",
    "    [3, 5, 2, 7]\n",
    "])\n",
    "b = np.array([3, 5, 3, 5])\n",
    "print_cramer_solutions(cramer(A, b))\n",
    "```\n",
    "\n",
    "Oczekiwany wynik:\n",
    "\n",
    "```plaintext\n",
    "x1 = -1.00000\n",
    "x2 = 1.00000\n",
    "x3 = 1.00000\n",
    "x4 = 2.00000\n",
    "```\n",
    "\n",
    "```python\n",
    "# przypadek testowy 2\n",
    "A = np.array([\n",
    "    [1, 2, 3],\n",
    "    [4, 5, 6],\n",
    "    [7, 8, 9]\n",
    "])\n",
    "b = np.array([1, 2, 3])\n",
    "print_cramer_solutions(cramer(A, b)\n",
    "```\n",
    "\n",
    "Oczekiwany wynik:\n",
    "\n",
    "```plaintext\n",
    "No solutions\n",
    "```"
   ]
  },
  {
   "cell_type": "code",
   "execution_count": 7,
   "metadata": {},
   "outputs": [
    {
     "name": "stdout",
     "output_type": "stream",
     "text": [
      "x1 = -1.00000\n",
      "x2 = 1.00000\n",
      "x3 = 1.00000\n",
      "x4 = 2.00000\n",
      "No solutions\n"
     ]
    }
   ],
   "source": [
    "def print_cramer_solutions(solutions):\n",
    "    if solutions is not None:\n",
    "        # rozwiązania układu równań\n",
    "        for i, sol in enumerate(sorted(solutions)):\n",
    "            print(f\"x{i+1} = {sol:.5f}\")\n",
    "    else:\n",
    "        print(\"No solutions\")\n",
    "\n",
    "def cramer(A, B):\n",
    "    # WPISZ SWÓJ KOD TUTAJ\n",
    "    C = []\n",
    "    det_A = np.linalg.det(A)\n",
    "    if(det_A == 0): return None\n",
    "    for i in range(0, len(A)):\n",
    "        t_A = A.copy()\n",
    "        for j in range(0, len(A)):\n",
    "            t_A[j][i] = B[j]\n",
    "        det_t = np.linalg.det(t_A)\n",
    "        C.append(det_t/det_A)\n",
    "    return C\n",
    "\n",
    "\n",
    "A = np.array([\n",
    "    [1, 1, 1, 1],\n",
    "    [1, 2, 3, 4],\n",
    "    [2, 4, 1, 5],\n",
    "    [3, 5, 2, 7]\n",
    "])\n",
    "b = np.array([3, 5, 3, 5])\n",
    "print_cramer_solutions(cramer(A, b))\n",
    "\n",
    "A = np.array([\n",
    "    [1, 2, 3],\n",
    "    [4, 5, 6],\n",
    "    [7, 8, 9]\n",
    "])\n",
    "b = np.array([1, 2, 3])\n",
    "print_cramer_solutions(cramer(A, b))"
   ]
  },
  {
   "cell_type": "markdown",
   "metadata": {},
   "source": [
    "### 5. Odwrotność macierzy\n",
    "\n",
    "Na pewnym etapie naszej edukacji w szkole podstawowej poznaliśmy pojęcia liczby przeciwnej oraz odwrotnej. Przypomnijmy, że liczba rzeczywista $a$ jest przeciwna do liczby $b$, jeśli $a+b=0$. Podobnie, liczba rzeczywista $a$ jest odwrotna względem liczby $b$, jeśli $a\\cdot b=1$ (zauważmy jeszcze, że słowo *przeciwny* związany jest z dodawaniem, a *odwrotny* z mnożeniem).  Czy podobne pojęcia mają sens dla obiektów o bardziej złożonej naturze niż liczby, na przykład dla macierzy? Okazuje się, że tak (przy okazji, ta część matematyki, która zajmuje się działaniami i strukturami nazywa się [algebrą](https://pl.wikipedia.org/wiki/Algebra) i będziemy jeszcze mieli szansę bliżej zapoznać się z jej metodami, choć już nie w ramach przedmiotu z algebry liniowej).\n",
    "\n",
    "Przyjmijmy, że mamy macierz kwadratową $A$, \n",
    "$$\n",
    "A = \\begin{bmatrix}\n",
    "a_{11} & a_{12} & \\dots & a_{1n}\\\\\n",
    "a_{21} & a_{22} & \\dots & a_{2n}\\\\\n",
    "\\vdots & \\vdots & \\ddots & \\vdots\\\\\n",
    "a_{n1} & a_{n2} & \\dots & a_{nn} \n",
    "\\end{bmatrix}.\n",
    "$$\n",
    "\n",
    "Czy istnieje taka macierz $B$, że \n",
    "$$\n",
    "A\\cdot B=1?\n",
    "$$\n",
    "Macierz $B$ w powyższym wzorze nazywać będziemy macierzą odwrotną względem $A$ i oznaczać zwykle symbolem $A^{-1}$ lub $\\operatorname{inv} A$.\n",
    "\n",
    "Z powyższym pytaniem związanych jest kilka kwestii. \n",
    "\n",
    "1. *Czym jest jedynka stojąca w powyższym wzorze?* Innymi słowy, używając języka teorii działań, co jest [elementem neutralnym](https://pl.wikipedia.org/wiki/Element_neutralny) mnożenia macierzy? Jest nim tzw. macierz jednostkowa $I_n$, czyli macierz diagonalna stopnia $n\\times n$ mająca wszędzie zera poza główną przekątną, gdzie znajdują się jedynki, tzn.\n",
    "$$\n",
    "I = I_n = \n",
    "\\begin{bmatrix}\n",
    "    1 & 0 & 0 & \\dots & 0\\\\\n",
    "    0 & 1 & 0 & \\dots & 0\\\\\n",
    "    \\vdots & \\vdots & \\vdots & \\ddots & \\vdots\\\\\n",
    "    0 & 0 & 0 & \\dots & 1 \n",
    "\\end{bmatrix}.\n",
    "$$\n",
    "\n",
    "2. *Czy dla dowolnej macierzy istnieje jej macierz odwrotna?*  Tutaj odpowiedź jest związana z wyznacznikiem. Otóż macierz odwrotna względem macierzy $A$ istnieje wtedy i tylko wtedy, gdy $A$ ma niezerowy wyznacznik (o takiej macierzy powiemy, że jest macierzą *nieosobliwą* lub *niesingularną*). \n",
    "\n",
    "3. *W jaki sposób wyznaczyć macierz odwrotną do macierzy $A$?* Istnieje ogólny wzór\n",
    "$$\n",
    "    A^{-1} = \\frac{1}{\\det A} A^D,\n",
    "$$\n",
    "przy czym $A^D$ jest [transponowaną](https://pl.wikipedia.org/wiki/Macierz_transponowana) macierzą [dopełnień algebraicznych](https://pl.wikipedia.org/wiki/Dope%C5%82nienie_algebraiczne). \n",
    "\n",
    "Dodajmy, że w czasie zajęć ,,przy tablicy'' poznaliśmy sposób wyznaczania macierzy odwrotnej za pomocą przekształceń elementarnych.  \n"
   ]
  },
  {
   "cell_type": "markdown",
   "metadata": {},
   "source": [
    "##### **Zadanie 4** (1 pkt)\n",
    "\n",
    "Uzupełnij poniższą funkcję `my_inv()` wyznaczającą macierz odwrotną dla macierzy $2\\times 2$ (za pomocą dopełnień algebraicznych, jak na stronie [Wikipedii](https://pl.wikipedia.org/wiki/Macierz_odwrotna)). Możesz skorzystać z funkcji [`np.linalg.det()`](https://numpy.org/doc/stable/reference/generated/numpy.linalg.det.html). Jeśli nie można obliczyć odwrotności, zwróć `None`."
   ]
  },
  {
   "cell_type": "markdown",
   "metadata": {},
   "source": [
    "Przykładowe przypadki testowe, które powinien przejść Twój kod:\n",
    "\n",
    "```python\n",
    "# przypadek testowy 1\n",
    "A = np.array([\n",
    "    [1, 0],\n",
    "    [0, 1],\n",
    "])\n",
    "print(my_inv(A))\n",
    "```\n",
    "\n",
    "Oczekiwany wynik:\n",
    "\n",
    "```plaintext\n",
    "[[1. 0.]\n",
    " [0. 1.]]\n",
    "```\n",
    "\n",
    "```python\n",
    "# przypadek testowy 2\n",
    "B = np.array([\n",
    "    [ 9999, 9998],\n",
    "    [10000, 9999],\n",
    "])\n",
    "print(my_inv(B))\n",
    "```\n",
    "\n",
    "Oczekiwany wynik:\n",
    "\n",
    "```plaintext\n",
    "[[  9999.00007072  -9998.00007071]\n",
    " [-10000.00007072   9999.00007072]]\n",
    "```\n",
    "\n",
    "```python\n",
    "# przypadek testowy 3\n",
    "C = np.array([\n",
    "    [2, 4],\n",
    "    [4, 8],\n",
    "])\n",
    "print(my_inv(C))\n",
    "```\n",
    "\n",
    "Oczekiwany wynik:\n",
    "\n",
    "```plaintext\n",
    "None\n",
    "```"
   ]
  },
  {
   "cell_type": "code",
   "execution_count": 8,
   "metadata": {},
   "outputs": [
    {
     "name": "stdout",
     "output_type": "stream",
     "text": [
      "[[1. 0.]\n",
      " [0. 1.]]\n",
      "[[  9999.00007072  -9998.00007071]\n",
      " [-10000.00007072   9999.00007072]]\n",
      "None\n"
     ]
    }
   ],
   "source": [
    "def my_inv(A):\n",
    "    # WPISZ SWÓJ KOD TUTAJ  \n",
    "    det = np.linalg.det(A)\n",
    "    if det == 0:\n",
    "        return None\n",
    "    inv = np.array([\n",
    "        [ A[1][1] / det, -A[0][1] / det],\n",
    "        [-A[1][0] / det,  A[0][0] / det]\n",
    "    ])\n",
    "    return inv\n",
    "\n",
    "A = np.array([\n",
    "    [1, 0],\n",
    "    [0, 1],\n",
    "])\n",
    "print(my_inv(A))\n",
    "B = np.array([\n",
    "    [ 9999, 9998],\n",
    "    [10000, 9999],\n",
    "])\n",
    "print(my_inv(B))\n",
    "C = np.array([\n",
    "    [2, 4],\n",
    "    [4, 8],\n",
    "])\n",
    "print(my_inv(C))"
   ]
  },
  {
   "cell_type": "markdown",
   "metadata": {},
   "source": [
    "----"
   ]
  },
  {
   "cell_type": "markdown",
   "metadata": {},
   "source": [
    "W praktyce wykorzystuje się funkcję [`np.linalg.inv()`](https://numpy.org/doc/stable/reference/generated/numpy.linalg.inv.html). Jeśli macierz jest osobliwa, to rzucany jest wyjątek [`np.linalg.LinAlgError`](https://numpy.org/doc/stable/reference/generated/numpy.linalg.LinAlgError.html):"
   ]
  },
  {
   "cell_type": "code",
   "execution_count": 9,
   "metadata": {},
   "outputs": [
    {
     "name": "stdout",
     "output_type": "stream",
     "text": [
      "Macierz odwrotna do macierzy A: [[1. 0.]\n",
      " [0. 1.]]\n",
      "Macierz odwrotna do macierzy B: [[  9999.00007072  -9998.00007071]\n",
      " [-10000.00007072   9999.00007072]]\n",
      "Singular matrix\n",
      "Singular matrix\n"
     ]
    }
   ],
   "source": [
    "# WYKONAJ PONIŻSZY KOD\n",
    "A = np.array([\n",
    "    [1, 0],\n",
    "    [0, 1],\n",
    "])\n",
    "B = np.array([\n",
    "    [ 9999, 9998],\n",
    "    [10000, 9999],\n",
    "])\n",
    "C = np.array([\n",
    "    [2, 4],\n",
    "    [4, 8],\n",
    "])\n",
    "D = np.array([\n",
    "    [1, 2, 3],\n",
    "    [4, 5, 6],\n",
    "    [7, 8, 9]\n",
    "    ], dtype=np.float64)\n",
    "\n",
    "print(f'Macierz odwrotna do macierzy A: {np.linalg.inv(A)}')\n",
    "print(f'Macierz odwrotna do macierzy B: {np.linalg.inv(B)}')\n",
    "try:\n",
    "    print(f'Macierz odwrotna do macierzy C: {np.linalg.inv(C)}')\n",
    "except np.linalg.LinAlgError as e:\n",
    "    print(e)\n",
    "try:\n",
    "    print(f'Macierz odwrotna do macierzy D: {np.linalg.inv(D)}')\n",
    "except np.linalg.LinAlgError as e:\n",
    "    print(e)"
   ]
  },
  {
   "cell_type": "markdown",
   "metadata": {},
   "source": [
    "W przypadku macierzy $C$ i $D$ najprawdopodbniej dostaniemy wyjątek o treści \"Singular matrix\", ale na niektórych architekturach i wersjach Numpy może się okazać, że jednak została policzona odwrotność macierzy $D$, choć jest to macierz, której wyznacznik jest równy zero (numerycznie jest różny od zera). Przykład macierzy $B$ przeanalizujemy dokładniej. Sprawdzimy, na ile otrzymane wyniki różnią się od prawdziwych wyników. W tym celu zbadamy wielkość (a więc normy!) macierzy \n",
    "$$\n",
    "  X1 = BB^{-1}-I,\\quad X2 = B^{-1}B-I,\\quad X3 = BB^{-1}_N-I,\\quad X4 = B^{-1}_NB-I,  \n",
    "$$\n",
    "przy czym $B^{-1}$ to dokładna odwrotność macierzy $B$, natomiast $B^{-1}_N$ to jej odwrotność numeryczna. W zasadzie badamy więc na ile iloczyny macierzy i macierzy odwrotnej różnią się od macierzy identycznościowej. Należy spodziewać się zera lub liczby bardzo bliskiej zeru. Zauważmy bowiem, że jeśli $B^{-1}$ jest macierzą odwrotną macierzy $B$, to napis $B B^{-1}=I$ jest równoważmy formule $BB^{-1}-I=0$. "
   ]
  },
  {
   "cell_type": "code",
   "execution_count": 10,
   "metadata": {},
   "outputs": [
    {
     "name": "stdout",
     "output_type": "stream",
     "text": [
      "Norma macierzy X1: 1.7782440409064293e-08\n",
      "Norma macierzy X1: 1.7782440409064293e-08\n",
      "Norma macierzy X1: 2.412707544863224e-08\n",
      "Norma macierzy X1: 2.863635018002242e-08\n"
     ]
    }
   ],
   "source": [
    "# WYKONAJ PONIŻSZY KOD\n",
    "\n",
    "x = np.array([1, 1])\n",
    "I = np.diag(x)\n",
    "\n",
    "B = np.array([\n",
    "    [ 9999, 9998],\n",
    "    [10000, 9999],\n",
    "])\n",
    "B_inv = my_inv(B)\n",
    "BN = np.linalg.inv(B)\n",
    "\n",
    "X1 = B @ B_inv - I\n",
    "X2 = B_inv @ B - I\n",
    "X3 = B @ BN - I \n",
    "X4 = BN @ B - I\n",
    "\n",
    "print(f'Norma macierzy X1: {matrix_norm(X1)}')\n",
    "print(f'Norma macierzy X1: {matrix_norm(X2)}')\n",
    "print(f'Norma macierzy X1: {matrix_norm(X3)}')\n",
    "print(f'Norma macierzy X1: {matrix_norm(X4)}')"
   ]
  },
  {
   "cell_type": "markdown",
   "metadata": {},
   "source": [
    "#### Odwrotność macierzy a rozwiązywanie układów równań liniowych\n",
    "\n",
    "Umiejętność obliczania macierzy odwrotnej pozwala na znalezienie rozwiązania takiego układu. Zauważmy, że jeśli macierz $A$ ma niezerowy wyznacznik, to równanie\n",
    "$$\n",
    "Ax=b\n",
    "$$\n",
    "możemy pomnożyć stronami przez $A^{-1}$ i otrzymamy formułę\n",
    "$$\n",
    "A^{-1}Ax =A^{-1} b,\n",
    "$$\n",
    "czyli ($A^{-1}A=I$, $Ix=x$)\n",
    "$$\n",
    "x = A^{-1}b.\n",
    "$$"
   ]
  },
  {
   "cell_type": "markdown",
   "metadata": {},
   "source": [
    "##### **Zadanie 5** (1 pkt)\n",
    "\n",
    "Uzupełnij poniższą funkcję `by_inverse()` rozwiązującą układ równań opisaną powyżej metodą. Możesz skorzystać z funkcji [`np.linalg.inv()`](https://numpy.org/doc/stable/reference/generated/numpy.linalg.inv.html). W przypadku błędu zwróć `None`.\n",
    "\n",
    "Np. dla poniższego układu równań\n",
    "\n",
    "$$\n",
    "\\left\\{ \n",
    "    \\begin{matrix}\n",
    "   \\phantom{2}x_1+\\phantom{2}x_2+\\phantom{2}x_3+\\phantom{2}x_4 & = 3\\\\ \n",
    "   x_1+2x_2+3x_3+4x_4 & = 5\\\\\n",
    "   2x_1+4x_2+x_3+5x_4 & = 3\\\\\n",
    "   3x_1+5x_2 + 2 x_3 +7 x_4 & = 5\n",
    "   \\end{matrix}\n",
    "\\right.\n",
    "$$\n",
    "\n",
    "spodziewany wynik to\n",
    "$$\n",
    "x_1 = 1,\\quad x_2 = 1,\\quad x_3 = 2,\\quad x_4 = -1 \\; .\n",
    "$$"
   ]
  },
  {
   "cell_type": "markdown",
   "metadata": {},
   "source": [
    "Przykładowe przypadki testowe, które powinien przejść Twój kod:\n",
    "\n",
    "```python\n",
    "# przypadek testowy 1\n",
    "A = np.array([\n",
    "    [1, 1, 1, 1],\n",
    "    [1, 2, 3, 4],\n",
    "    [2, 4, 1, 5],\n",
    "    [3, 5, 2, 7]\n",
    "])\n",
    "b = np.array([3, 5, 3, 5])\n",
    "print(by_inverse(A, b))\n",
    "```\n",
    "\n",
    "Oczekiwany wynik:\n",
    "\n",
    "```plaintext\n",
    "[ 1.  1.  2. -1.]\n",
    "```\n",
    "\n",
    "```python\n",
    "# przypadek testowy 2\n",
    "A = np.array([\n",
    "    [1, 2],\n",
    "    [2, 4]\n",
    "])\n",
    "b = np.array([3, 6])\n",
    "print(by_inverse(A, b))\n",
    "```\n",
    "\n",
    "Oczekiwany wynik:\n",
    "\n",
    "```plaintext\n",
    "None\n",
    "```"
   ]
  },
  {
   "cell_type": "code",
   "execution_count": 11,
   "metadata": {},
   "outputs": [
    {
     "name": "stdout",
     "output_type": "stream",
     "text": [
      "[ 1.  1.  2. -1.]\n",
      "None\n"
     ]
    }
   ],
   "source": [
    "def by_inverse(A, B):\n",
    "    # WPISZ SWÓJ KOD TUTAJ\n",
    "    det = np.linalg.det(A)\n",
    "    if det == 0:\n",
    "        return None\n",
    "    A_inv = np.linalg.inv(A)\n",
    "    res = A_inv@B\n",
    "    return res\n",
    "\n",
    "A = np.array([\n",
    "    [1, 1, 1, 1],\n",
    "    [1, 2, 3, 4],\n",
    "    [2, 4, 1, 5],\n",
    "    [3, 5, 2, 7]\n",
    "])\n",
    "b = np.array([3, 5, 3, 5])\n",
    "print(by_inverse(A, b))\n",
    "A = np.array([\n",
    "    [1, 2],\n",
    "    [2, 4]\n",
    "])\n",
    "b = np.array([3, 6])\n",
    "print(by_inverse(A, b))"
   ]
  },
  {
   "cell_type": "markdown",
   "metadata": {},
   "source": [
    "### 6. Niestabilność numeryczna wyznacznika\n",
    "\n",
    "Algorytm numeryczny określamy jako *niestabilny*, jeśli małe błędy popełnione na pewnym etapie obliczeń rosną w kolejnych i poważnie zniekształcają ostateczne wyniki. Zagadnienie obliczania wyznacznika i jego niestabilność zilustrujemy następującym przykładem, będącym formą eksperymentu numerycznego. \n",
    "\n",
    "W ramach działania poniższego programu generować będziemy kwadratowe macierze losowe o wymiarach od $3\\times 3$ aź do $30\\times 30$, przy czym dla każdego wymiaru wygenerujemy 100 macierzy. Za każdym razem liczyć będziemy wyznaczniki otrzymanych macierzy (funkcją [`np.linalg.det()`](https://numpy.org/doc/stable/reference/generated/numpy.linalg.det.html)), a do prezentacji wyniku brać będziemy średnią arytmetyczną wyznaczników macierzy ustalonego wymiaru. Na każdej z wygenerowanych macierzy dokonamy istotnej operacji: skopiujemy drugą kolumnę i wpiszemy ją w miejce pierwszej. W ten sposób macierze dla których liczyć będziemy wyznaczniki będa miały dwie takie same kolumny. Jakich wartości wyznaczników powinniśmy się spodziewać? Oczywiście zero! Spróbuj uzasadnić to stwierdzenie korzystając z informacji z wykładu.\n",
    "\n",
    "Wynik eksperymentu prezentujemy na poniższej ilustracji. Wartości średnie wyznaczników dla danych wymiarów prezentowane są po zlogarytmizowaniu. Czynimy tak dla przejrzystości – jak się okazuje – wartości średnie wyznaczników rosną logarytmicznie."
   ]
  },
  {
   "cell_type": "code",
   "execution_count": 12,
   "metadata": {},
   "outputs": [
    {
     "data": {
      "image/png": "[encoded data removed]",
      "text/plain": [
       "<Figure size 640x480 with 1 Axes>"
      ]
     },
     "metadata": {},
     "output_type": "display_data"
    }
   ],
   "source": [
    "# WYKONAJ PONIŻSZY KOD\n",
    "\n",
    "import matplotlib.pyplot as plt\n",
    "\n",
    "ns = np.arange(3,31)\n",
    "iters = 100\n",
    "dets = np.zeros((len(ns), iters))\n",
    "\n",
    "for ni in range (len(ns)):\n",
    "    for i in range (iters):\n",
    "        A = np.random.randn(ns[ni], ns[ni]) # step 1\n",
    "        A[ : , 0] = A[ :, 1] # step 2\n",
    "        dets[ni , i]=np.abs(np.linalg.det(A)) # step3\n",
    "\n",
    "plt.plot(ns, np.log(np.mean(dets,axis =1)))\n",
    "plt.xlabel('Rozmiar macierzy')\n",
    "plt.ylabel('Wartość log(det)');"
   ]
  },
  {
   "cell_type": "markdown",
   "metadata": {},
   "source": [
    "Jak widać na powyższym rysunku wartości średnie wyznaczników rosną wraz ze wzrostem wymiaru macierzy. Błędy zaokrągleń mają ogromny wpływ na otrzymany wynik."
   ]
  },
  {
   "cell_type": "markdown",
   "metadata": {},
   "source": [
    "### 7. Zastosowanie macierzy do znajdowania rozwiązania zagadnienia regresji liniowej\n",
    "\n",
    "Na poprzednich zajęciach zobaczyliśmy, że rozwiązywanie układów równań liniowych może być wykorzystane do rozwiązywania problemów interpolacji wielomianowej (czyli znajdowania wielomianów, których wykresy przechodzą przez z góry zadane punkty). \n",
    "\n",
    "Dzisiaj zamierzamy wskazać na inne zagadnienie polegające na wyznaczenie linii prostej leżącej najbliżej danych w układzie współrzędnych punktów (taką linię nazwać moglibyśmy linią trendu; tutaj mierzyć się będziemy z sytuacją nadmiarowej informacji, funkcja liniowa ma jedną zmienną niezależną, a punktów ,,interpolacji'' będzie znacznie więcej).  Chcielibyśmy przy tym, żeby błąd, czyli odległość wartości teoretycznych (wyznaczonych przez linię trendu) od wartości faktycznych był jak najmniejszy. Istnieją poważne powody do tego by błędy sumować po podniesieniu ich wcześniej do kwadratu (na przykład dlatego, że funkcja kwadratowa jest różniczkowalna lub dlatego, że podnoszenie do kwadratu można wyrażać za pomocą [iloczynu skalarnego](https://pl.wikipedia.org/wiki/Iloczyn_skalarny)).\n",
    "\n",
    "Zacznijmy od przykładu. W poniższej tabeli zebrano zużycie paliwa oraz wagi wybranych modeli pewnych marek samochodów ([Audi](https://www.audi.pl/pl/web/pl.html), [AMC](https://en.wikipedia.org/wiki/American_Motors_Corporation), [BMW](https://www.bmw.pl/pl/index.html), [Buick](https://www.buick.com/), [Cadillac](https://www.cadillac.com/), [Chevrolet](https://www.chevrolet.pl/), [Datsun](https://pl.wikipedia.org/wiki/Datsun)). Naszym zadaniem jest wyznaczyć prostą wskazującą na zależność między wagą samochodu (w tonach) a jego zużyciem paliwa (w litrach na 100 kilometrów).\n",
    "    \n",
    "| Marka     | zużycie paliwa [l/km] | waga [t]   |\n",
    "|-----------|-----------------------|------------|\n",
    "| AMC\t    | 10,69\t                | 1,3185     |\n",
    "| AMC\t    | 13,84   \t            | 1,5075     |\n",
    "| AMC\t    | 10,69\t                | 1,188      |\n",
    "| Audi      |\t13,84               | 1,2735     |\n",
    "| Audi      |\t10,23\t            | 0,9315     |\n",
    "| BMW\t    | 9,41                  | 1,1925     |\n",
    "| Buick\t    |  11,76                | 1,4625     |\n",
    "| Buick\t    | 15,68                 | 1,836      |\n",
    "| Buick\t    | 13,07\t                | 1,6515     |\n",
    "| Buick\t    | 9,05\t                | 1,0035     |\n",
    "| Buick\t    | 11,76\t                | 1,476      |\n",
    "| Buick\t    | 14,7\t                | 1,746      |\n",
    "| Buick\t    | 12,38\t                | 1,53       |\n",
    "| Cadillac  |    16,8       \t    | 1,9485     |\n",
    "| Cadillac  |\t16,8\t            | 1,755      |\n",
    "| Cadillac  |\t11,2\t            | 1,9305     |\n",
    "| Chevrolet |\t8,11\t            | 0,9495     |\n",
    "| Chevrolet\t| 14,7\t                | 1,6605     |\n",
    "| Chevrolet\t| 10,69             \t| 1,431      |\n",
    "| Chevrolet\t| 10,69\t                | 1,449      |\n",
    "| Chevrolet\t| 9,8\t                | 1,2375     |\n",
    "| Chevrolet\t| 12,38\t                | 1,5435     |\n",
    "| Datsun\t| 10,23\t                | 1,0665     |\n",
    "| Datsun\t| 6,72\t                | 0,909      |   \n",
    "| Datsun\t| 9,8\t                | 1,026      |\n",
    "| Datsun\t| 11,2\t                | 1,2375     |\n",
    "\n",
    "\n",
    "\n",
    "Narysujmy w układzie współrzędnych punkty, przy czym pierwszą współrzędną jest waga pojazdu, a drugą – zużycie paliwa. Jaka prosta o równaniu $y = ax + b$ dopasowana będzie w najlepszym stopniu do tych punktów?  Spróbuj wybrać – według Ciebie – najlepiej dopasowaną prostą. Możesz zmieniać wartości $a$ i $b$ na poniższym rysunku (by uruchomić rysunek trzeba będzie prawdopodobnie zainstalować pakiet ```ipywidgets```).  "
   ]
  },
  {
   "cell_type": "code",
   "execution_count": 13,
   "metadata": {},
   "outputs": [
    {
     "data": {
      "application/vnd.jupyter.widget-view+json": {
       "model_id": "68bb3dea5d35467b94136859612c3926",
       "version_major": 2,
       "version_minor": 0
      },
      "text/plain": [
       "interactive(children=(FloatSlider(value=5.0, description='a', max=12.0, min=-2.0), FloatSlider(value=2.0, desc…"
      ]
     },
     "execution_count": 13,
     "metadata": {},
     "output_type": "execute_result"
    }
   ],
   "source": [
    "# WYKONAJ PONIŻSZY KOD\n",
    "\n",
    "import matplotlib.pyplot as plt\n",
    "from ipywidgets import interactive\n",
    "\n",
    "# Definicja punktów\n",
    "points = np.array([\n",
    "(1.3185, 10.69),\n",
    "(1.5075,13.84),\n",
    "(1.188,10.69),\n",
    "(1.2735,13.84),\n",
    "(0.9315,10.23),\n",
    "(1.1925,9.41),\n",
    "(1.4625,11.76),\n",
    "(1.836,15.68),\n",
    "(1.6515,13.07),\n",
    "(1.0035,9.05),\n",
    "(1.476,11.76),\n",
    "(1.746,14.70),\n",
    "(1.53,12.38),\n",
    "(1.9485,16.80),\n",
    "(1.755,16.80),\n",
    "(1.9305,11.20),\n",
    "(0.9495,8.11),\n",
    "(1.6605,14.70),\n",
    "(1.431,10.69),\n",
    "(1.449,10.69),\n",
    "(1.2375,9.80),\n",
    "(1.5435,12.38),\n",
    "(1.0665,10.23),\n",
    "(0.909,6.72),\n",
    "(1.026,9.80),\n",
    "(1.2375,11.20),\n",
    "])\n",
    "\n",
    "# Funkcja rysująca wykres\n",
    "def plot_line(a, b):\n",
    "    # Rysowanie punktów\n",
    "    plt.scatter(points[:, 0], points[:, 1], color='red', label='Punkty')\n",
    "    \n",
    "    # Zakres dla osi x\n",
    "    x = np.linspace(0, 6, 100)\n",
    "    \n",
    "    # Obliczanie wartości y dla prostej\n",
    "    y = a * x + b\n",
    "        \n",
    "    # Rysowanie prostej\n",
    "    plt.plot(x, y, label=f'Linia trendu: y = {a}x + {b}')\n",
    "    \n",
    "    # Dodanie legendy\n",
    "    plt.legend()\n",
    "    \n",
    "    # Ustawienie etykiet osi\n",
    "    plt.xlabel('waga pojazdu w tonach')\n",
    "    plt.ylabel('zużycie paliwa na 100 km')\n",
    "    \n",
    "    # Ustawienie zakresów osi\n",
    "    plt.xlim(0, 3)\n",
    "    plt.ylim(0, 20)\n",
    "    \n",
    "    # Wyświetlenie wykresu\n",
    "    plt.show()\n",
    "\n",
    "interactive_plot = interactive(plot_line, a=(-2.0, 12.0), b=(-2.0, 6.0))\n",
    "output = interactive_plot.children[-1]\n",
    "output.layout.height = '450px'\n",
    "interactive_plot"
   ]
  },
  {
   "cell_type": "markdown",
   "metadata": {},
   "source": [
    "Poniżej wpisz wskazane przez Ciebie wartości $a$ oraz $b$ i wykonaj kod. Otrzymasz sumę kwadratów błędów. W dalszym ciągu podamy ogólną metodę znajdowania optymalnych parametrów $a$ oraz $b$, będziesz wówczas mógł sprawdzić na ile się pomyliłaś/eś. "
   ]
  },
  {
   "cell_type": "code",
   "execution_count": 14,
   "metadata": {},
   "outputs": [
    {
     "name": "stdout",
     "output_type": "stream",
     "text": [
      "Kwadratowy błąd wynosi: 55.89689556000004\n"
     ]
    }
   ],
   "source": [
    "# UZUPEŁNIJ WARTOŚCI a ORAZ b I WYKONAJ PONIŻSZY KOD\n",
    "\n",
    "e = np.array([\n",
    "    [1.3185, 10.69],\n",
    "    [1.5075,13.84],\n",
    "    [1.188,10.69],\n",
    "    [1.2735,13.84],\n",
    "    [0.9315,10.23],\n",
    "    [1.1925,9.41],\n",
    "    [1.4625,11.76],\n",
    "    [1.836,15.68],\n",
    "    [1.6515,13.07],\n",
    "    [1.0035,9.05],\n",
    "    [1.476,11.76],\n",
    "    [1.746,14.70],\n",
    "    [1.53,12.38],\n",
    "    [1.9485,16.80],\n",
    "    [1.755,16.80],\n",
    "    [1.9305,11.20],\n",
    "    [0.9495,8.11],\n",
    "    [1.6605,14.70],\n",
    "    [1.431,10.69],\n",
    "    [1.449,10.69],\n",
    "    [1.2375,9.80],\n",
    "    [1.5435,12.38],\n",
    "    [1.0665,10.23],\n",
    "    [0.909,6.72],\n",
    "    [1.026,9.80],\n",
    "    [1.2375,11.20],\n",
    "])\n",
    "def error(a, b, e):\n",
    "    n = np.shape(e)\n",
    "    err = 0\n",
    "    for i in range(n[0]):\n",
    "        err += np.power(e[i,1] - a*e[i,0]-b,2)\n",
    "    return err\n",
    "\n",
    "a = 7.9\n",
    "b = 0.8\n",
    "\n",
    "print(f'Kwadratowy błąd wynosi: {error(a, b, e)}')"
   ]
  },
  {
   "cell_type": "markdown",
   "metadata": {},
   "source": [
    "Zaprezentujemy sposób wyliczenia optymalnych współczynników $a,b$ bazujący na rozwiązaniu układu równań liniowych. Przypuśćmy, że mamy układ $n$ punktów\n",
    "$$\n",
    "(x_1,y_1),\\quad (x_2,y_2),\\dots,\\quad (x_n,y_n),\n",
    "$$\n",
    "a naszym celem jest znalezienie takich współczynników $a,b$, że dla prostej\n",
    "$$\n",
    "f(x) = ax+b\n",
    "$$\n",
    "suma kwadratów błędów \n",
    "$$\n",
    "(y_1-f(x_1))^2 + (y_2-f(x_2))^2+\\dots+(y_n-f(x_n))^2\n",
    "$$\n",
    "jest najmniejsza.\n",
    "\n",
    "Zauważmy, że zachodzą równania\n",
    "\\begin{align*}\n",
    "    y_1 & = f(x_1) + (y_1-f(x_1))\\\\\n",
    "    y_2 & = f(x_2) + (y_2-f(x_2))\\\\\n",
    "        & \\vdots\\\\\n",
    "    y_n & = f(x_n) + (y_n-f(x_n)),\n",
    "\\end{align*}\n",
    "przy czym wyrażenie stojące po prawej stronie w nawiasie w każdym z równań jest błędem przybliżenia realnej wartości $y_i$ przez wartość funkcji $f$. Zapiszmy ten błąd jako $e_i$ i podstawmy wzór funkcji w miejsce $f$. Wówczas układ równań przybierze postać\n",
    "\\begin{align*}\n",
    "    y_1 & = (b+ax_1) + e_1\\\\\n",
    "    y_2 & = (b+ax_2) + e_2\\\\\n",
    "        & \\vdots\\\\\n",
    "    y_n & = (b+ax_n) + e_n.\n",
    "\\end{align*}\n",
    "Przyjmijmy teraz oznaczenia\n",
    "$$\n",
    "Y = \n",
    "\\begin{bmatrix} \n",
    "    y_1\\\\ \n",
    "    y_2\\\\ \n",
    "    \\vdots\\\\ \n",
    "    y_n\n",
    "\\end{bmatrix}, \\quad\n",
    "X = \n",
    "\\begin{bmatrix}\n",
    "    1 & x_1\\\\\n",
    "    1 & x_2\\\\\n",
    "    \\vdots & \\vdots\\\\\n",
    "    1 & x_n\n",
    "\\end{bmatrix},\\quad\n",
    "A = \n",
    "\\begin{bmatrix}\n",
    "    b\\\\ \n",
    "    a\n",
    "\\end{bmatrix},\\quad \n",
    "E = \n",
    "\\begin{bmatrix}\n",
    "    e_1\\\\ \n",
    "    e_2\\\\\n",
    "    \\vdots\\\\ \n",
    "    e_n\n",
    "\\end{bmatrix}.\n",
    "$$\n",
    "Wówczas układ równań można zapisac w postaci równania macierzowego\n",
    "$$\n",
    "Y = XA + E.\n",
    "$$\n",
    "Jak znaleźć wartość elementów macierzy $A$? Niestety wyjaśnienie metody wskazania macierzy $A$ przekracza ramy tych zajęć, podamy więc wzór na obliczenie macierzy $A$. Mamy (porównaj [artykuł w Wikipedii](https://en.wikipedia.org/wiki/Linear_regression))\n",
    "$$\n",
    "A = (X^TX)^{-1}X^TY,\n",
    "$$\n",
    "przy czym $X^T$ oznacza macierz transponowaną do macierzy $X$.\n",
    "\n"
   ]
  },
  {
   "cell_type": "markdown",
   "metadata": {},
   "source": [
    "##### **Zadanie 6** (1 pkt)\n",
    "\n",
    "Uzupełnij poniższy kod tak, by znaleźć optymalne współczynniki funkcji liniowej realizującej zagadnienie regresji liniowej dla danych\n",
    "\n",
    "$$\n",
    "\\begin{align*}\n",
    "& (1.3185, 10.69),\\  (1.5075,13.84),\\  (1.188,10.69),\\  (1.2735,13.84),\\\\\n",
    "& (0.9315,10.23),\\  (1.1925,9.41),\\  (1.4625,11.76),\\  (1.836,15.68),\\\\\n",
    "& (1.6515,13.07),\\  (1.0035,9.05),\\  (1.476,11.76),\\  (1.746,14.70),\\\\\n",
    "& (1.53,12.38),\\  (1.9485,16.80),\\  (1.755,16.80),\\  (1.9305,11.20),\\\\\n",
    "& (0.9495,8.11),\\  (1.6605,14.70),\\  (1.431,10.69),\\  (1.449,10.69),\\\\ \n",
    "& (1.2375,9.80),\\  (1.5435,12.38),\\  (1.0665,10.23),\\  (0.909,6.72),\\\\\n",
    "& (1.026,9.80),\\ (1.2375,11.20).\n",
    "\\end{align*}\n",
    "$$\n",
    "\n",
    "Dane są już wczytane wcześniej w zmiennej `e`.\n",
    "\n",
    "Spodziewany wynik:\n",
    "\n",
    "```plaintext\n",
    "Równanie prostej regresji ma postać: y = 6.7419x + 2.3750\n",
    "Minimalny bład kwadratowy wynosi: 52.5749\n",
    "```"
   ]
  },
  {
   "cell_type": "code",
   "execution_count": 15,
   "metadata": {},
   "outputs": [
    {
     "name": "stdout",
     "output_type": "stream",
     "text": [
      "Równanie prostej regresji ma postać: y = 6.7419x + 2.3750\n",
      "Minimalny bład kwadratowy wynosi: 52.5749\n"
     ]
    }
   ],
   "source": [
    "# UMIEŚĆ SWÓJ KOD TUTAJ\n",
    "# ...\n",
    "X = np.array([[1, e[i,0]] for i in range(len(e))])\n",
    "Y = np.array([e[i,1] for i in range(len(e))])\n",
    "# ---------------------\n",
    "\n",
    "A = np.linalg.inv(X.T @ X) @ X.T @ Y\n",
    "\n",
    "a = A[1]\n",
    "b = A[0]\n",
    "\n",
    "print(f'Równanie prostej regresji ma postać: y = {a:.4f}x + {b:.4f}')\n",
    "print(f'Minimalny bład kwadratowy wynosi: {error(a, b, e):.4f}')"
   ]
  },
  {
   "cell_type": "markdown",
   "metadata": {},
   "source": [
    "### 8. Zastosowanie odwrotności macierzy do deszyfrowania informacji\n",
    "\n",
    "Zaproponujemy teraz wykorzystanie macierzy do szyfrowania informacji. Umówmy się, że literom alfabetu odpowiadać będą liczby wedle następującego przyporządkowania\n",
    "\n",
    "| **Litera alfabetu** | *spacja* | A | B | C | D | E | F | G | H | I | J | K | L | M | N | O | P | Q | R | S | T | U | V | W | X | Y | Z |\n",
    "|---------------------|----------|---|---|---|---|---|---|---|---|---|---|---|---|---|---|---|---|---|---|---|---|---|---|---|---|---|---|\n",
    "| **Liczba**          |     0    | 1 | 2 | 3 | 4 | 5 | 6 | 7 | 8 | 9 | 10| 11| 12| 13| 14| 15| 16| 17| 18| 19| 20| 21| 22| 23| 24| 25| 26|\n"
   ]
  },
  {
   "cell_type": "markdown",
   "metadata": {},
   "source": [
    "\n",
    "\n",
    "Przypuśćmy, że chcemy zaszyfrować pewną wiadomość. Dla przykładu niech będzie to tekst ,,wyznacznik macierzy''. Naszą pracę podzielimy na etapy.\n",
    "\n",
    "1. Zapiszemy tekst w postaci ciągu liczb. Korzystając z tabeli powyżej otrzymujemy\n",
    "\n",
    "| tekst jawny | w | y | z | n | a | c | z | n | i | k |   | m | a | c | i | e | r | z | y |\n",
    "|-------------|---|---|---|---|---|---|---|---|---|---|---|---|---|---|---|---|---|---|---|\n",
    "|ciąg liczb   | 23| 25| 26| 14| 1 | 3 | 26| 14| 9 | 11| 0 | 13| 1 | 3 | 9 | 5 | 18| 26| 25|\n",
    "\n",
    "Wiadomością do zaszyfrowania będzie więc ciąg \n",
    "\n",
    "```\n",
    "23 25 26 14 1 3 26 14 9 11 0 13 1 3 9 5 18 26 25\n",
    "```\n",
    "Faktycznie, uruchom poniższy program."
   ]
  },
  {
   "cell_type": "code",
   "execution_count": 16,
   "metadata": {},
   "outputs": [
    {
     "name": "stdout",
     "output_type": "stream",
     "text": [
      "[23, 25, 26, 14, 1, 3, 26, 14, 9, 11, 0, 13, 1, 3, 9, 5, 18, 26, 25]\n"
     ]
    }
   ],
   "source": [
    "# WYKONAJ PONIŻSZY KOD\n",
    "\n",
    "def sentence_to_numbers(sentence, alphabet_dict):\n",
    "    sentence = sentence.upper()\n",
    "    numbers = []\n",
    "\n",
    "    for char in sentence:\n",
    "        if char.isalpha():\n",
    "            numbers.append(alphabet_dict[char])\n",
    "        elif char.isspace():\n",
    "            numbers.append(0)\n",
    "\n",
    "    return numbers\n",
    "\n",
    "alphabet_dict = {\n",
    "    'A': 1, 'B': 2, 'C': 3, 'D': 4, 'E': 5, 'F': 6, 'G': 7, 'H': 8, 'I': 9, 'J': 10,\n",
    "    'K': 11, 'L': 12, 'M': 13, 'N': 14, 'O': 15, 'P': 16, 'Q': 17, 'R': 18, 'S': 19, 'T': 20,\n",
    "    'U': 21, 'V': 22, 'W': 23, 'X': 24, 'Y': 25, 'Z': 26\n",
    "}\n",
    "\n",
    "sentence = \"wyznacznik macierzy\"\n",
    "\n",
    "result = sentence_to_numbers(sentence, alphabet_dict)\n",
    "\n",
    "print(result)"
   ]
  },
  {
   "cell_type": "markdown",
   "metadata": {},
   "source": [
    "\n",
    "2. Wybierzemy klucz, którym będzie nieosobliwa macierz kwadratowa $A$ np. stopnia trzy. Ważne z punktu wiedzenia obliczeń numerycznych jest to, żeby macierz była o elementach całkowitych i wyznaczniku równym $1$ lub $-1.$ Wówczas macierz odwrotna będzie również macierzą o elementach całkowitych i unikniemy problemów wynikających z zakrąglania elementów macierzy odwrotnej, która ma służyć do deszyfrowania wiadomości.\n",
    "\n",
    "   Jak wyznaczyć macierz wyznaczniku równym $1$ lub $-1$?\n",
    "\n",
    "   Należy skonstruować macierz $C$: trójkątną górną, lub trójkątną dolną lub diagonalną o elementach całkowitych i wynaczniku równym $1$ lub $-1.$ Za pomocą operacji elementarnej nie zmieniającej wyznacznika i/lub operacji elementarnej zmieniającej tylko znak wyznacznika należy przekształcić macierz $B$ macierz pełną $A,$ której wyznacznik oczywiście będzie równy $1$ lub $-1.$\n",
    "\n",
    "   Niech\n",
    "$$\n",
    "    A = \n",
    "    \\begin{bmatrix}\n",
    "        1 & -2 & 0\\\\\n",
    "        2 & -3 & 4\\\\\n",
    "        1 & -1 & 3\n",
    "    \\end{bmatrix}.\n",
    "$$\n",
    "\n",
    "4. Ze względu na stopień macierzy $A$, podzielimy wiadomość na wektory długości trzy, uzupełniając jeśli konieczne o zera (czyli spacje) na końcu. Otrzymujemy wektory\n",
    "```\n",
    "[23 25 26]  [14 1 3]  [26 14 9]  [11 0 13]  [1 3 9]  [5 18 26]  [25 0 0],\n",
    "```\n",
    "które zapiszemy jako kolumny macierzy $B.$"
   ]
  },
  {
   "cell_type": "code",
   "execution_count": 17,
   "metadata": {},
   "outputs": [
    {
     "name": "stdout",
     "output_type": "stream",
     "text": [
      "Wynik w postaci tablicy numpy:\n",
      "[[23 14 26 11  1  5 25]\n",
      " [25  1 14  0  3 18  0]\n",
      " [26  3  9 13  9 26  0]]\n"
     ]
    }
   ],
   "source": [
    "# WYKONAJ PONIŻSZY KOD\n",
    "\n",
    "def columned(A):\n",
    "    num_rows = 3\n",
    "    num_cols = len(A) // num_rows + (1 if len(A) % num_rows != 0 else 0)\n",
    "    padded_result = np.zeros((num_rows, num_cols), dtype=int)\n",
    "\n",
    "    for i, num in enumerate(A):\n",
    "        row = i % num_rows\n",
    "        col = i // num_rows\n",
    "        padded_result[row, col] = num\n",
    "    return padded_result\n",
    "\n",
    "print(\"Wynik w postaci tablicy numpy:\")\n",
    "print(columned(result))\n"
   ]
  },
  {
   "cell_type": "markdown",
   "metadata": {},
   "source": [
    "4. **Szyfrogram** (czyli zaszyfrowana informacja) powstanie przez  pomnożenie macierzy $B$ z lewej strony przez macierz $A$ (**klucz**). Mamy\n",
    "$$\n",
    "B = \n",
    "\\begin{bmatrix}\n",
    "    23 & 14 & 26 & 11 & 1 & 5 & 25\\\\\n",
    "    25 &  1 & 14 &  0 & 3 & 18 & 0\\\\\n",
    "    26 & 3 & 9 & 13 & 9 & 26 & 0  \n",
    "\\end{bmatrix}.\n",
    "$$\n",
    "W wyniku mnożenia $AB$ otrzymujemy\n",
    "$$\n",
    "AB = \n",
    "\\begin{bmatrix}\n",
    "    -27&   12&  -2&    11&  -5&   -31&   25\\\\\n",
    "    75&   37&   46&   74&   29&   60&   50\\\\\n",
    "    76&   22&   39&   50&   25&   65&   25 \n",
    "\\end{bmatrix}\n",
    "$$\n",
    "Faktycznie, sprawdźmy:"
   ]
  },
  {
   "cell_type": "code",
   "execution_count": 18,
   "metadata": {},
   "outputs": [
    {
     "name": "stdout",
     "output_type": "stream",
     "text": [
      "[[-27  12  -2  11  -5 -31  25]\n",
      " [ 75  37  46  74  29  60  50]\n",
      " [ 76  22  39  50  25  65  25]]\n"
     ]
    }
   ],
   "source": [
    "# WYKONAJ PONIŻSZY KOD\n",
    "\n",
    "A = np.array([\n",
    "    [1,-2,0],\n",
    "    [2,-3,4],\n",
    "    [1,-1,3]\n",
    "])\n",
    "\n",
    "S = A @ columned(result)\n",
    "\n",
    "print(S)"
   ]
  },
  {
   "cell_type": "markdown",
   "metadata": {},
   "source": [
    "\n",
    "Czytając powyższą macierz kolumnami otrzymujemy szyfrogram\n",
    "```\n",
    "25 80 -106 18 -4  1 16 15 -24 37 28 -41 13 29 -38 21 91 -117 25 -25 25\n",
    "```\n",
    "\n",
    "5. **Deszyfrowanie** polega na pomnożeniu (z lewej strony) macierzy szyfrogramu przez odwrotność macierzy $A$. Zwróćmy uwagę na to, że ze względu fakt, że wyznacznik niekoniecznie jest liczony dokładnie (korzystamy z funkcji ```numpy.linalg.inv```), użyliśmy funkcji zaokrąglającej wynik działania na macierzach do liczb całkowitych (funkcja ```numpy.rint```).   "
   ]
  },
  {
   "cell_type": "code",
   "execution_count": 19,
   "metadata": {},
   "outputs": [
    {
     "name": "stdout",
     "output_type": "stream",
     "text": [
      "Zdeszyfrowana wiadomość:\n",
      "WYZNACZNIK MACIERZY  \n"
     ]
    }
   ],
   "source": [
    "# WYKONAJ PONIŻSZY KOD\n",
    "\n",
    "cipher_message = np.rint(np.linalg.inv(A) @ S)\n",
    "\n",
    "def numbers_to_words(numbers, alphabet_dict):\n",
    "    words = []\n",
    "    for num in numbers.flatten():\n",
    "        if num == 0:\n",
    "            words.append(' ')\n",
    "        else:\n",
    "            words.append(alphabet_dict[num])\n",
    "    return ''.join(words)\n",
    "\n",
    "integer_dict = {\n",
    "    1: 'A', 2: 'B', 3: 'C', 4: 'D', 5: 'E', 6: 'F', 7: 'G', 8: 'H', 9: 'I', 10: 'J',\n",
    "    11: 'K', 12: 'L', 13: 'M', 14: 'N', 15: 'O', 16: 'P', 17: 'Q', 18: 'R', 19: 'S', 20: 'T',\n",
    "    21: 'U', 22: 'V', 23: 'W', 24: 'X', 25: 'Y', 26: 'Z', 0: ' '\n",
    "}\n",
    "\n",
    "result = numbers_to_words(cipher_message.T, integer_dict)\n",
    "\n",
    "print(\"Zdeszyfrowana wiadomość:\")\n",
    "print(result)"
   ]
  },
  {
   "cell_type": "markdown",
   "metadata": {},
   "source": [
    "##### **Zadanie 7** (2 pkt.)\n",
    "\n",
    "Kluczem szyfrującym jest macierz \n",
    "$$\n",
    "A = \n",
    "\\begin{bmatrix}\n",
    "    -5 & -6 & -59\\\\\n",
    "    \\phantom{-}1 & \\phantom{-}1 & \\phantom{-}12\\\\\n",
    "    \\phantom{-}2 & \\phantom{-}3 & \\phantom{-}22    \n",
    "\\end{bmatrix}\n",
    "$$\n",
    "Proszę podać treść szyfrogramu\n",
    "\n",
    "```\n",
    "-110 19 53 -338 65 141 -1557 316 583 -640 127 250 -5  1 2\n",
    "```\n",
    "\n",
    "zaszyfrowanego macierzą $A$. Uzupełnij poniższą funkcję `decipher()`."
   ]
  },
  {
   "cell_type": "code",
   "execution_count": 20,
   "metadata": {},
   "outputs": [
    {
     "name": "stdout",
     "output_type": "stream",
     "text": [
      "DO ZOBACZENIA  \n"
     ]
    }
   ],
   "source": [
    "def decipher(A, cryptogram):\n",
    "    #UMIEŚĆ SWÓJ KOD TUTAJ\n",
    "        \n",
    "    C = columned(cryptogram[0])\n",
    "    INV = np.linalg.inv(A)\n",
    "    B = np.rint(INV@C)\n",
    "\n",
    "    return numbers_to_words(B.T, integer_dict)\n",
    "\n",
    "A = np.array([\n",
    "    [-5, -6, -59],\n",
    "    [ 1,  1,  12],\n",
    "    [ 2,  3,  22]\n",
    "])\n",
    "cryptogram = np.array([[\n",
    "    -110, 19, 53, -338, 65, 141, -1557, 316, 583, -640, 127, 250, -5, 1, 2\n",
    "]])\n",
    "\n",
    "print(decipher(A, cryptogram))"
   ]
  },
  {
   "cell_type": "code",
   "execution_count": null,
   "metadata": {},
   "outputs": [],
   "source": []
  }
 ],
 "metadata": {
  "kernelspec": {
   "display_name": ".venv",
   "language": "python",
   "name": "python3"
  },
  "language_info": {
   "codemirror_mode": {
    "name": "ipython",
    "version": 3
   },
   "file_extension": ".py",
   "mimetype": "text/x-python",
   "name": "python",
   "nbconvert_exporter": "python",
   "pygments_lexer": "ipython3",
   "version": "3.13.3"
  }
 },
 "nbformat": 4,
 "nbformat_minor": 4
}
