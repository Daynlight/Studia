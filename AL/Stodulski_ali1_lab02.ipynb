{
 "cells": [
  {
   "cell_type": "markdown",
   "id": "91403d54-dd03-4a02-8b16-9176e45d069a",
   "metadata": {},
   "source": [
    "# Algebra liniowa z zastosowaniami 1\n",
    "\n",
    "## Ćwiczenia w sali komputerowej nr 2\n",
    "\n",
    "Uzupełnij poniżej swoje dane i sprawdź czy wyświetlają się poprawnie:"
   ]
  },
  {
   "cell_type": "code",
   "execution_count": 210,
   "id": "31e3f240-3bfa-4142-80a1-944472db632a",
   "metadata": {},
   "outputs": [
    {
     "name": "stdout",
     "output_type": "stream",
     "text": [
      "Daniel Stodulski\n"
     ]
    }
   ],
   "source": [
    "IMIE_NAZWISKO = \"Daniel Stodulski\"\n",
    "\n",
    "print(IMIE_NAZWISKO)"
   ]
  },
  {
   "cell_type": "markdown",
   "id": "3e4addb9-7b9c-4f9f-b008-37d67c813f10",
   "metadata": {},
   "source": [
    "Przed dalszą pracą załadujmy bibliotekę Numpy i poprawmy czytelność wyników ustawiając szerokość wyświetlanych danych, tak aby nie było zawijania wierszy:"
   ]
  },
  {
   "cell_type": "code",
   "execution_count": 211,
   "id": "44d39697-4951-4750-9126-772cbe79b7da",
   "metadata": {},
   "outputs": [],
   "source": [
    "import numpy as np\n",
    "np.set_printoptions(linewidth=150)"
   ]
  },
  {
   "cell_type": "markdown",
   "id": "debeff9b-3e98-4282-8d1d-2998f15086e2",
   "metadata": {
    "tags": []
   },
   "source": [
    "### Obliczenia numeryczne\n",
    "\n",
    "Podczas zajęć wykorzystamy nieco bardziej rozbudowaną funkcję pomocniczą, która będzie wyświetlać nam odpowiednio sformatowane bity liczby zmiennoprzecinkowej (32- lub 64-bitowej), kolejno znak, wykładnik i mantysę:"
   ]
  },
  {
   "cell_type": "code",
   "execution_count": 212,
   "id": "0c879937-8e8c-44bc-aa88-15d896f2500e",
   "metadata": {},
   "outputs": [],
   "source": [
    "import struct\n",
    "def float_to_binary(num, prec):\n",
    "    assert prec in (32, 64)\n",
    "    \n",
    "    if prec == 32:\n",
    "        pack_format = '!f'  # Format dla float32\n",
    "        unpack_format = '!I'  # Unsigned int 32-bit\n",
    "        bits_format = '032b'\n",
    "        splitpos = 8 + 1  # 1 bit znaku, 8 bitów wykładnika dla float32\n",
    "    elif prec == 64:\n",
    "        pack_format = '!d'  # Format dla float64\n",
    "        unpack_format = '!Q'  # Unsigned long long 64-bit\n",
    "        bits_format = '064b'\n",
    "        splitpos = 11 + 1  # 1 bit znaku, 11 bitów wykładnika dla float64\n",
    "    else:\n",
    "        return None\n",
    "    \n",
    "    # Konwersja liczby zmiennoprzecinkowej na ciąg bitów\n",
    "    packed_num = struct.pack(pack_format, num)\n",
    "    unpacked_num = struct.unpack(unpack_format, packed_num)[0]\n",
    "    bits = format(unpacked_num, bits_format)\n",
    "    \n",
    "    sign = bits[0]\n",
    "    exponent = bits[1:splitpos]\n",
    "    fraction = bits[splitpos:]\n",
    "    \n",
    "    return f\"{sign} {exponent} {fraction}\""
   ]
  },
  {
   "cell_type": "markdown",
   "id": "33875ec3-e9df-4cef-8bdb-6e1226ed74c7",
   "metadata": {},
   "source": [
    "Poniżej znajduje się przykład użycia dla 32-bitowej liczby `0.15625` (możesz porównać wynik z przykładem na stronie [Single-precision floating-point format. IEEE 754 standard: binary32](https://en.wikipedia.org/wiki/Single-precision_floating-point_format#IEEE_754_standard:_binary32)):"
   ]
  },
  {
   "cell_type": "code",
   "execution_count": 213,
   "id": "d5bd809e-ec8b-4549-8ae6-0eff440fc23a",
   "metadata": {},
   "outputs": [
    {
     "name": "stdout",
     "output_type": "stream",
     "text": [
      "0 01111100 01000000000000000000000\n"
     ]
    }
   ],
   "source": [
    "print(float_to_binary(0.15625, 32))"
   ]
  },
  {
   "cell_type": "markdown",
   "id": "bb7a8209-5ef8-4902-996f-6e11d6c5070a",
   "metadata": {},
   "source": [
    "Jak widać, mamy tu kolejno bit znaku `0`, potem bity wykładnika `01111100` i bity mantysy `01000000000000000000000`. Obserwacja tych bitów pomoże nam nieco w rozróżnieniu i prezentacji niektórych liczb zmiennopozycyjnych występujących w dalszej części materiałów."
   ]
  },
  {
   "cell_type": "markdown",
   "id": "b2722462-1fae-4aea-a7dc-6dcee61e843c",
   "metadata": {},
   "source": [
    "#### Odejmowanie liczb bliskich sobie"
   ]
  },
  {
   "cell_type": "markdown",
   "id": "f5367415-4a79-45de-95b7-917f0401e51e",
   "metadata": {},
   "source": [
    "##### Zadanie 1 (2 pkt.)\n",
    "\n",
    "Podczas operacji na liczbach zmiennopozycyjnych, które są blisko siebie, mogą dawać nieoczywiste wyniki.\n",
    "\n",
    "Na początek stwórz dwie zmienne `x1` i `y1` zawierające liczby `1.000000000000002` i `1.000000000000001` typu [`np.float64`](https://numpy.org/doc/stable/reference/arrays.scalars.html#numpy.float64), odejmij je od siebie zapisując wynik w `z1`. Dla porównania stwórz zmienną `w1` o wartości `0.000000000000001` typu [`np.float64`](https://numpy.org/doc/stable/reference/arrays.scalars.html#numpy.float64). Użyj funkcji `float_to_binary()` do utworzenia reprezentacji binarnych powyższych zmiennych i zapisz wyniki w zmiennych `x1_f2b`, `y1_f2b`, `z1_f2b` i `w1_f2b`.\n",
    "\n",
    "Przykładowe przypadki testowe, które powinien przejść Twój kod:\n",
    "\n",
    "| Przypadek testowy | Oczekiwany wynik |\n",
    "| ----------------- | ---------------- |\n",
    "| `print(x1_f2b, x1)` | `0 01111111111 0000000000000000000000000000000000000000000000001001 1.000000000000002` |\n",
    "| `print(y1_f2b, y1)` | `0 01111111111 0000000000000000000000000000000000000000000000000101 1.000000000000001` |\n",
    "| `print(z1_f2b, z1)` | `0 01111001101 0000000000000000000000000000000000000000000000000000 8.881784197001252e-16` |\n",
    "| `print(w1_f2b, w1)` | `0 01111001101 0010000000111010111110011110111001110101011000010110 1e-15` |"
   ]
  },
  {
   "cell_type": "code",
   "execution_count": 214,
   "id": "ff4fcf6e-0d84-41b5-87b1-4605f0d832f0",
   "metadata": {},
   "outputs": [
    {
     "name": "stdout",
     "output_type": "stream",
     "text": [
      "0 01111111111 0000000000000000000000000000000000000000000000001001 1.000000000000002\n",
      "0 01111111111 0000000000000000000000000000000000000000000000000101 1.000000000000001\n",
      "0 01111001101 0000000000000000000000000000000000000000000000000000 8.881784197001252e-16\n",
      "0 01111001101 0010000000111010111110011110111001110101011000010110 1e-15\n"
     ]
    }
   ],
   "source": [
    "# UMIEŚĆ SWÓJ KOD TUTAJ\n",
    "x1 = np.float64(1.000000000000002)\n",
    "y1 = np.float64(1.000000000000001)\n",
    "z1 = x1 - y1\n",
    "w1 = np.float64(0.000000000000001)\n",
    "\n",
    "x1_f2b = float_to_binary(x1, 64)\n",
    "y1_f2b = float_to_binary(y1, 64)\n",
    "z1_f2b = float_to_binary(z1, 64)\n",
    "w1_f2b = float_to_binary(w1, 64)\n",
    "\n",
    "print(x1_f2b, x1)\n",
    "print(y1_f2b, y1)\n",
    "print(z1_f2b, z1)\n",
    "print(w1_f2b, w1)\n"
   ]
  },
  {
   "cell_type": "markdown",
   "id": "6eb0c95d-d93e-49f9-9162-958e6a606bfc",
   "metadata": {},
   "source": [
    "Skoncentrujemy się teraz na liczbach `9999999999999999` i `9999999999999998` oraz ich różnicy (powinna wynieść `1`) z uwzględnieniem różnych reprezentacji.\n",
    "\n",
    "Stwórz dwie zmienne zawierające te dwie liczby jako zmienne odpowiednio `x2` i `y2` typu [`np.int64`](https://numpy.org/doc/stable/reference/arrays.scalars.html#numpy.int64), i odejmij je od siebie zapisując wynik w zmiennej `z2`.\n",
    "\n",
    "Przykładowe przypadki testowe, które powinien przejść Twój kod:\n",
    "\n",
    "| Przypadek testowy | Oczekiwany wynik |\n",
    "| ----------------- | ---------------- |\n",
    "| `print(x2)` | `9999999999999999` |\n",
    "| `print(y2)` | `9999999999999998` |\n",
    "| `print(z2)` | `1` |"
   ]
  },
  {
   "cell_type": "code",
   "execution_count": 215,
   "id": "6740af18-3fe0-4714-b784-2a60636ea45b",
   "metadata": {},
   "outputs": [
    {
     "name": "stdout",
     "output_type": "stream",
     "text": [
      "9999999999999999\n",
      "9999999999999998\n",
      "1\n"
     ]
    }
   ],
   "source": [
    "# UMIEŚĆ SWÓJ KOD TUTAJ\n",
    "x2 = np.int64(9999999999999999)\n",
    "y2 = np.int64(9999999999999998)\n",
    "z2 = x2 - y2\n",
    "\n",
    "print(x2)\n",
    "print(y2)\n",
    "print(z2)\n"
   ]
  },
  {
   "cell_type": "markdown",
   "id": "c05eb7a1-8ef8-498e-8c31-e329627fbb3c",
   "metadata": {},
   "source": [
    "Stwórz następnie dwie zmienne zawierające te dwie liczby jako zmienne `x3` i `y3` typu [`np.int32`](https://numpy.org/doc/stable/reference/arrays.scalars.html#numpy.int32) (nastąpi przepełnienie wartości) i odejmij je od siebie zapisując wynik w zmiennej `z3`. Jeśli zostanie rzucony wyjątek `OverflowError`, to ustaw wszystkim zmiennym wartość `-1`.\n",
    "\n",
    "Przykładowe przypadki testowe, które powinien przejść Twój kod:\n",
    "\n",
    "(jeśli nie będzie rzuconego wyjątku `OverflowError`)\n",
    "\n",
    "| Przypadek testowy | Oczekiwany wynik |\n",
    "| ----------------- | ---------------- |\n",
    "| `print(x3)` | `1874919423` |\n",
    "| `print(y3)` | `1874919422` |\n",
    "| `print(z3)` | `1` |\n",
    "\n",
    "(jeśli będzie rzucony wyjątek `OverflowError`)\n",
    "\n",
    "| Przypadek testowy | Oczekiwany wynik |\n",
    "| ----------------- | ---------------- |\n",
    "| `print(x3)` | `-1` |\n",
    "| `print(y3)` | `-1` |\n",
    "| `print(z3)` | `-1` |"
   ]
  },
  {
   "cell_type": "code",
   "execution_count": 216,
   "id": "64f00ac2-76d5-4877-b301-00f3e5a5f086",
   "metadata": {},
   "outputs": [
    {
     "name": "stdout",
     "output_type": "stream",
     "text": [
      "-1\n",
      "-1\n",
      "-1\n"
     ]
    }
   ],
   "source": [
    "# UMIEŚĆ SWÓJ KOD TUTAJ\n",
    "# x3 = np.int32(9999999999999999)\n",
    "# y3 = np.int32(9999999999999998)\n",
    "# z3 = x3 - y3\n",
    "\n",
    "x3 = -1\n",
    "y3 = -1\n",
    "z3 = -1\n",
    "\n",
    "print(x3)\n",
    "print(y3)\n",
    "print(z3)"
   ]
  },
  {
   "cell_type": "markdown",
   "id": "b7a70660-6fe4-496b-9b3f-7e0671e5cc82",
   "metadata": {},
   "source": [
    "Teraz utwórz dwie zmienne `x4` i `y4` zawierające te dwie liczby jako zmienne typu [`np.float32`](https://numpy.org/doc/stable/reference/arrays.scalars.html#numpy.float32) i odejmij je od siebie zapisując wynik w zmiennej `z4`. Użyj funkcji `float_to_binary()` do utworzenia reprezentacji binarnych powyższych zmiennych i zapisz wyniki w zmiennych `x4_f2b`, `y4_f2b` i `z4_f2b`.\n",
    "\n",
    "Przykładowe przypadki testowe, które powinien przejść Twój kod:\n",
    "\n",
    "| Przypadek testowy | Oczekiwany wynik |\n",
    "| ----------------- | ---------------- |\n",
    "| `print(x4_f2b, x4)` | `0 10110100 00011100001101111001010 1e+16` |\n",
    "| `print(y4_f2b, y4)` | `0 10110100 00011100001101111001010 1e+16` |\n",
    "| `print(z4_f2b, z4)` | `0 00000000 00000000000000000000000 0.0` |"
   ]
  },
  {
   "cell_type": "code",
   "execution_count": 217,
   "id": "3e3060a5-7fa7-4d30-b14f-51fdbea29e7f",
   "metadata": {},
   "outputs": [
    {
     "name": "stdout",
     "output_type": "stream",
     "text": [
      "0 10110100 00011100001101111001010 1e+16\n",
      "0 10110100 00011100001101111001010 1e+16\n",
      "0 00000000 00000000000000000000000 0.0\n"
     ]
    }
   ],
   "source": [
    "# UMIEŚĆ SWÓJ KOD TUTAJ\n",
    "x4 = np.float32(9999999999999999)\n",
    "y4 = np.float32(9999999999999998)\n",
    "z4 = x4 - y4\n",
    "\n",
    "x4_f2b = float_to_binary(x4, 32)\n",
    "y4_f2b = float_to_binary(y4, 32)\n",
    "z4_f2b = float_to_binary(z4, 32)\n",
    "\n",
    "print(x4_f2b, x4)\n",
    "print(y4_f2b, y4)\n",
    "print(z4_f2b, z4)\n"
   ]
  },
  {
   "cell_type": "markdown",
   "id": "19b31a5e-38a9-4ebe-bf35-0beff809a7a9",
   "metadata": {},
   "source": [
    "Spróbuj teraz utworzyć dwie zmienne `x5` i `y5` zawierające te dwie liczby jako zmienne typu [`np.float64`](https://numpy.org/doc/stable/reference/arrays.scalars.html#numpy.float64) i odejmij je od siebie zapisując wyniki w zmiennej `z5`. Użyj funkcji `float_to_binary()` do utworzenia reprezentacji binarnych powyższych zmiennych i zapisz wyniki w zmiennych `x5_f2b`, `y5_f2b` i `z5_f2b`.\n",
    "\n",
    "Przykładowe przypadki testowe, które powinien przejść Twój kod:\n",
    "\n",
    "| Przypadek testowy | Oczekiwany wynik |\n",
    "| ----------------- | ---------------- |\n",
    "| `print(x5_f2b, x5)` | `0 10000110100 0001110000110111100100110111111000001000000000000000 1e+16` |\n",
    "| `print(y5_f2b, y5)` | `0 10000110100 0001110000110111100100110111111000000111111111111111 9999999999999998.0` |\n",
    "| `print(z5_f2b, z5)` | `0 10000000000 0000000000000000000000000000000000000000000000000000 2.0` |"
   ]
  },
  {
   "cell_type": "code",
   "execution_count": 218,
   "id": "7401d203-87ee-4a89-9f9b-50bd713eb41a",
   "metadata": {},
   "outputs": [
    {
     "name": "stdout",
     "output_type": "stream",
     "text": [
      "0 10000110100 0001110000110111100100110111111000001000000000000000 1e+16\n",
      "0 10000110100 0001110000110111100100110111111000000111111111111111 9999999999999998.0\n",
      "0 10000000000 0000000000000000000000000000000000000000000000000000 2.0\n"
     ]
    }
   ],
   "source": [
    "# UMIEŚĆ SWÓJ KOD TUTAJ\n",
    "x5 = np.float64(9999999999999999)\n",
    "y5 = np.float64(9999999999999998)\n",
    "z5 = x5 - y5\n",
    "\n",
    "x5_f2b = float_to_binary(x5, 64)\n",
    "y5_f2b = float_to_binary(y5, 64)\n",
    "z5_f2b = float_to_binary(z5, 64)\n",
    "\n",
    "print(x5_f2b, x5)\n",
    "print(y5_f2b, y5)\n",
    "print(z5_f2b, z5)"
   ]
  },
  {
   "cell_type": "markdown",
   "id": "08b4de1c-8118-4a66-9f6c-0bad6a3786ea",
   "metadata": {},
   "source": [
    "Ostatecznie sprawdź typ [`np.longdouble`](https://numpy.org/doc/stable/reference/arrays.scalars.html#numpy.longdouble) dla tych liczb i operacji odejmowania (jeśli pracujesz pod Linuxem, to możesz użyć aliasu [`np.float128`](https://numpy.org/doc/stable/reference/arrays.scalars.html#numpy.float128)). Wyniki zapisz w zmiennych `x6`, `y6` i `z6`.\n",
    "\n",
    "Wyniki będą się różnić w zależności od systemu (wrócimy do tego problemu w dalszej części zajęć).\n",
    "\n",
    "Przykładowe przypadki testowe, które powinien przejść Twój kod pod Linuxem:\n",
    "\n",
    "| Przypadek testowy | Oczekiwany wynik |\n",
    "| ----------------- | ---------------- |\n",
    "| `print(x6)` | `9999999999999999.0` |\n",
    "| `print(y6)` | `9999999999999998.0` |\n",
    "| `print(z6)` | `1.0` |\n",
    "\n",
    "Przykładowe przypadki testowe, które powinien przejść Twój kod pod Windowsem:\n",
    "\n",
    "| Przypadek testowy | Oczekiwany wynik |\n",
    "| ----------------- | ---------------- |\n",
    "| `print(x6)` | `1e+16` |\n",
    "| `print(y6)` | `9999999999999998.0` |\n",
    "| `print(z6)` | `2.0` |"
   ]
  },
  {
   "cell_type": "code",
   "execution_count": 219,
   "id": "1a29bf63-5c78-4734-89e6-5f30f78e47a3",
   "metadata": {},
   "outputs": [
    {
     "name": "stdout",
     "output_type": "stream",
     "text": [
      "1e+16\n",
      "9999999999999998.0\n",
      "2.0\n"
     ]
    }
   ],
   "source": [
    "# UMIEŚĆ SWÓJ KOD TUTAJ\n",
    "x6  = np.longdouble(9999999999999999)\n",
    "y6  = np.longdouble(9999999999999998)\n",
    "z6 = x6 - y6\n",
    "\n",
    "print(x6)\n",
    "print(y6)\n",
    "print(z6)"
   ]
  },
  {
   "cell_type": "markdown",
   "id": "5fc1fcdf-6a18-40aa-8d6a-27d57d65e13d",
   "metadata": {},
   "source": [
    "#### Obliczenie epsilonu maszynowego"
   ]
  },
  {
   "cell_type": "markdown",
   "id": "ceda4b10-99e7-4a62-91eb-7acba7fe2311",
   "metadata": {},
   "source": [
    "##### Zadanie 2 (1 pkt)\n",
    "\n",
    "[Epsilon maszynowy](https://pl.wikipedia.org/wiki/Epsilon_maszynowy) $\\epsilon$ może być ujęty jako najmniejsza liczba, która po dodaniu do jeden daje liczbę większą niż jeden. Algorytm obliczający $\\epsilon$ można przedstawić następująco:\n",
    "\n",
    "1. $\\epsilon := 1$.\n",
    "2. Jeżeli $1 + \\epsilon$ jest mniejsze lub równe $1$, to przejdź do kroku 5.; w przeciwnym razie kontynuuj krok 3.\n",
    "3. $\\epsilon := \\dfrac{\\epsilon}{2}$.\n",
    "4. Wróć do kroku 2.\n",
    "5. $\\epsilon := 2\\epsilon$.\n",
    "\n",
    "Zaimplementuj powyższy algorytm, zapisując przy tym liczbę iteracji oraz obliczony $\\epsilon$ w zmiennych `no_iter` i `eps`.\n",
    "\n",
    "Przykładowe przypadki testowe, które powinien przejść Twój kod:\n",
    "\n",
    "| Przypadek testowy | Oczekiwany wynik |\n",
    "| ----------------- | ---------------- |\n",
    "| `print('liczba iteracji =', no_iter)` | `liczba iteracji = 5` |\n",
    "| `print('szacowany epsilon =', eps)` | `szacowany epsilon = 2.220446049250313e-16` |\n",
    "| `print('NumPy epsilon =', np.finfo(np.float64).eps)` | `NumPy epsilon = 2.220446049250313e-16` |\n",
    "| `print(float_to_binary(eps, 64))` | `0 01111001011 0000000000000000000000000000000000000000000000000000` |"
   ]
  },
  {
   "cell_type": "code",
   "execution_count": 220,
   "id": "2d9acff9-a3d5-4dd1-b5c9-f31be2b2d2df",
   "metadata": {},
   "outputs": [
    {
     "name": "stdout",
     "output_type": "stream",
     "text": [
      "liczba iteracji = 53\n",
      "szacowant epsilon = 2.220446049250313e-16\n",
      "NumPy epsilon = 2.220446049250313e-16\n",
      "0 01111001011 0000000000000000000000000000000000000000000000000000\n"
     ]
    }
   ],
   "source": [
    "# UMIEŚĆ SWÓJ KOD TUTAJ\n",
    "no_iter = 0\n",
    "eps = 1\n",
    "while(eps + 1 > 1):\n",
    "  no_iter += 1\n",
    "  eps = eps/2\n",
    "eps = 2 * eps\n",
    "\n",
    "print('liczba iteracji =', no_iter)\n",
    "print('szacowant epsilon =', eps)\n",
    "print('NumPy epsilon =', np.finfo(np.float64).eps)\n",
    "print(float_to_binary(eps, 64))"
   ]
  },
  {
   "cell_type": "markdown",
   "id": "5b98d62d-d5ab-4119-bdbc-4c8eb5ca45be",
   "metadata": {},
   "source": [
    "#### Ograniczenia maszynowe dla typów zmiennopozycyjnych"
   ]
  },
  {
   "cell_type": "markdown",
   "id": "4b5fecd5-6720-4dc5-a207-6cade103091b",
   "metadata": {},
   "source": [
    "Użyjemy funkcji [`np.finfo()`](https://numpy.org/doc/stable/reference/generated/numpy.finfo.html) do wyświetlenia ograniczeń maszynowych dla poszczególnych typów zmiennoprzecinkowych."
   ]
  },
  {
   "cell_type": "markdown",
   "id": "b91e3893-2db3-4a56-a84d-f1f2f96b6f0e",
   "metadata": {},
   "source": [
    "##### Zadanie 3 (1 pkt)"
   ]
  },
  {
   "cell_type": "markdown",
   "id": "974bce96-c6f4-4a40-b38c-c5d61e26c668",
   "metadata": {},
   "source": [
    "Dla typu [`np.float32`](https://numpy.org/doc/stable/reference/arrays.scalars.html#numpy.float32) sprawdź liczbę bitów przeznaczonych przez ten typ danych, liczbę bitów wykładnika i liczbę bitów mantysy. Wyniki zapisz w zmienncyh odpowiednio `fi1_b`, `fi1_i` i `fi1_n`.\n",
    "\n",
    "Przykładowe przypadki testowe, które powinien przejść Twój kod:\n",
    "\n",
    "| Przypadek testowy | Oczekiwany wynik |\n",
    "| ----------------- | ---------------- |\n",
    "| `print(fi1_b)` | `32` |\n",
    "| `print(fi1_i)` | `8` |\n",
    "| `print(fi1_n)` | `23` |"
   ]
  },
  {
   "cell_type": "code",
   "execution_count": 221,
   "id": "fad88d3a-793c-4d08-9de0-91bc3bc32584",
   "metadata": {},
   "outputs": [
    {
     "name": "stdout",
     "output_type": "stream",
     "text": [
      "32\n",
      "8\n",
      "23\n"
     ]
    }
   ],
   "source": [
    "# UMIEŚĆ SWÓJ KOD TUTAJ\n",
    "n = np.float32(0)\n",
    "fi1_b = np.finfo(n).bits\n",
    "fi1_i = np.finfo(n).nexp\n",
    "fi1_n = np.finfo(n).nmant\n",
    "\n",
    "print(fi1_b)\n",
    "print(fi1_i)\n",
    "print(fi1_n)"
   ]
  },
  {
   "cell_type": "markdown",
   "id": "02da5e63-35a1-458b-aa49-7744c41fd654",
   "metadata": {},
   "source": [
    "Dla typu [`np.float64`](https://numpy.org/doc/stable/reference/arrays.scalars.html#numpy.float64) wyświetl liczbę bitów przeznaczonych przez ten typ danych, liczbę bitów wykładnika i liczbę bitów mantysy. Wyniki zapisz w zmienncyh odpowiednio `fi2_b`, `fi2_i` i `fi2_n`.\n",
    "\n",
    "Przykładowe przypadki testowe, które powinien przejść Twój kod:\n",
    "\n",
    "| Przypadek testowy | Oczekiwany wynik |\n",
    "| ----------------- | ---------------- |\n",
    "| `print(fi2_b)` | `64` |\n",
    "| `print(fi2_i)` | `11` |\n",
    "| `print(fi2_n)` | `52` |"
   ]
  },
  {
   "cell_type": "code",
   "execution_count": 222,
   "id": "63b5733e-b5ac-4028-9647-e4f538a3a021",
   "metadata": {},
   "outputs": [
    {
     "name": "stdout",
     "output_type": "stream",
     "text": [
      "64\n",
      "11\n",
      "52\n"
     ]
    }
   ],
   "source": [
    "# UMIEŚĆ SWÓJ KOD TUTAJ\n",
    "n = np.float64(0)\n",
    "fi2_b = np.finfo(n).bits\n",
    "fi2_i = np.finfo(n).nexp\n",
    "fi2_n = np.finfo(n).nmant\n",
    "\n",
    "print(fi2_b)\n",
    "print(fi2_i)\n",
    "print(fi2_n)"
   ]
  },
  {
   "cell_type": "markdown",
   "id": "8df807b5-fb5a-4a61-bd2e-d4a0aac7e42a",
   "metadata": {},
   "source": [
    "W zależności od systemu operacyjnego w Numpy istnieje (niepełne) wsparcie dla typu zmiennopozycyjnego poczwórnej precyzji (Linux) lub też go nie ma (Windows); mogliśmy to zauważyć po spodziewanych wynikach pod koniec zadania 1. Teraz możemy zobaczyć jak wygląda reprezentacja bitowa tego typu danych.\n",
    "\n",
    "Dla typu [`np.longdouble`](https://numpy.org/doc/stable/reference/arrays.scalars.html#numpy.longdouble) wyświetl liczbę bitów przeznaczonych przez ten typ danych, liczbę bitów wykładnika i liczbę bitów mantysy. Wyniki zapisz w zmienncyh odpowiednio `fi3_b`, `fi3_i` i `fi3_n`.\n",
    "\n",
    "Pod Linuxem możesz użyć aliasu [`np.float128`](https://numpy.org/doc/stable/reference/arrays.scalars.html#numpy.float128) zamiast [`np.longdouble`](https://numpy.org/doc/stable/reference/arrays.scalars.html#numpy.longdouble).\n",
    "\n",
    "Przykładowe przypadki testowe, które powinien przejść Twój kod pod Linuxem:\n",
    "\n",
    "| Przypadek testowy | Oczekiwany wynik |\n",
    "| ----------------- | ---------------- |\n",
    "| `print(fi3_b)` | `128` |\n",
    "| `print(fi3_i)` | `15` |\n",
    "| `print(fi3_n)` | `63` |\n",
    "\n",
    "Przykładowe przypadki testowe, które powinien przejść Twój kod pod Windowsem:\n",
    "\n",
    "| Przypadek testowy | Oczekiwany wynik |\n",
    "| ----------------- | ---------------- |\n",
    "| `print(fi3_b)` | `64` |\n",
    "| `print(fi3_i)` | `11` |\n",
    "| `print(fi3_n)` | `52` |"
   ]
  },
  {
   "cell_type": "code",
   "execution_count": 223,
   "id": "7bf11fda-1550-4d77-99fc-22a77549e446",
   "metadata": {},
   "outputs": [
    {
     "name": "stdout",
     "output_type": "stream",
     "text": [
      "64\n",
      "11\n",
      "52\n"
     ]
    }
   ],
   "source": [
    "# UMIEŚĆ SWÓJ KOD TUTAJ\n",
    "n = np.longdouble(0)\n",
    "fi3_b = np.finfo(n).bits\n",
    "fi3_i = np.finfo(n).nexp\n",
    "fi3_n = np.finfo(n).nmant\n",
    "\n",
    "print(fi3_b)\n",
    "print(fi3_i)\n",
    "print(fi3_n)\n"
   ]
  },
  {
   "cell_type": "markdown",
   "id": "bc555575-d5ef-404e-9a3a-796daa5d81e3",
   "metadata": {},
   "source": [
    "#### Dodawanie małych liczb do dużych liczb zmiennopozycyjnych i alg. sumacyjny Kahana"
   ]
  },
  {
   "cell_type": "markdown",
   "id": "561fe1cf-97f3-4252-bee3-02c034ee4e54",
   "metadata": {},
   "source": [
    "##### Zadanie 4 (1 pkt)"
   ]
  },
  {
   "cell_type": "markdown",
   "id": "a6d3ee82-4646-4f05-af39-f0cda29629cb",
   "metadata": {},
   "source": [
    "Mamy poniżej pewną dużą liczbę:"
   ]
  },
  {
   "cell_type": "code",
   "execution_count": 224,
   "id": "0a41e6b3-776f-4600-8cb4-5132cc7777e9",
   "metadata": {},
   "outputs": [],
   "source": [
    "a = np.float64(1.79769313486231571e17)"
   ]
  },
  {
   "cell_type": "markdown",
   "id": "074b7be5-c3f7-4a3d-8756-6e16707c3b02",
   "metadata": {},
   "source": [
    "Spróbujmy dodać do niej wiele razy małą liczbę, np. `1`. Tworzymy nową zmienną `b` o początkowej wartości równej `a` i następnie w pętli dodaj w 10 tys. iteracji do `b` wartość `1`. Spójrzmy na wyniki:"
   ]
  },
  {
   "cell_type": "code",
   "execution_count": 225,
   "id": "3a06094d-55c2-44b5-bcc6-58f71fb38439",
   "metadata": {},
   "outputs": [
    {
     "name": "stdout",
     "output_type": "stream",
     "text": [
      "0 10000111000 0011111101010101100111100111101111101110011011000001 1.7976931348623158e+17\n",
      "0 10000111000 0011111101010101100111100111101111101110011011000001 1.7976931348623158e+17\n"
     ]
    }
   ],
   "source": [
    "b = a\n",
    "for _ in range(10_000):\n",
    "    b = b + np.float64(1)\n",
    "    \n",
    "print(float_to_binary(a, 64), a)\n",
    "print(float_to_binary(b, 64), b)"
   ]
  },
  {
   "cell_type": "markdown",
   "id": "abe681d8-723f-49be-a137-8fd3bdc1fd85",
   "metadata": {},
   "source": [
    "Jak widać, wynik nie jest zgodny z oczekiwanym i wartość jest cały czas taka sama. Spróbujmy innego podejścia, tzn. spróbujmy dodać do `a` za jednym zamachem wartość 10 tys.\n",
    "\n",
    "Utwórz nową zmienną `c`, w której przechowasz wynik dodawania `a` do wartości `10_000` (10 tys.; w Pythonie można tysiące oddzielać podkreślnikiem). W zmiennych `a_f2b` i `c_f2b` zapisz ich reprezentacje bitowe przy pomocy `float_to_binary()`.\n",
    "\n",
    "Przykładowe przypadki testowe, które powinien przejść Twój kod:\n",
    "\n",
    "| Przypadek testowy | Oczekiwany wynik |\n",
    "| ----------------- | ---------------- |\n",
    "| `print(a_f2b, a)` | `0 10000111000 0011111101010101100111100111101111101110011011000001 1.7976931348623158e+17` |\n",
    "| `print(c_f2b, c)` | `0 10000111000 0011111101010101100111100111101111101110011111111010 1.797693134862416e+17` |"
   ]
  },
  {
   "cell_type": "code",
   "execution_count": 226,
   "id": "b6d9d320-3be7-42d2-839f-e1e61ba96f59",
   "metadata": {},
   "outputs": [
    {
     "name": "stdout",
     "output_type": "stream",
     "text": [
      "0 10000111000 0011111101010101100111100111101111101110011011000001 1.7976931348623158e+17\n",
      "0 10000111000 0011111101010101100111100111101111101110011111111010 1.797693134862416e+17\n"
     ]
    }
   ],
   "source": [
    "# UMIEŚĆ SWÓJ KOD TUTAJ\n",
    "c = a + 10_000\n",
    "a_f2b = float_to_binary(a, 64)\n",
    "c_f2b = float_to_binary(c, 64)\n",
    "\n",
    "print(a_f2b, a)\n",
    "print(c_f2b, c)"
   ]
  },
  {
   "cell_type": "markdown",
   "id": "d089c331-9ab1-4f70-92a3-2127161bb744",
   "metadata": {},
   "source": [
    "Sprawdź teraz kolejno która suma `a + i` dla `i` w zakresie od `1` do `20` spowoduje pierwszą zmianę repezentacji bitowej w stosunku do `a`. Reprezentacje bitowe uzyskane przy pomocy `float_to_binary()` zapisz w tablicy `incs`.\n",
    "\n",
    "Przykładowy przypadek testowy, dla którego powinien przejść Twój kod:\n",
    "\n",
    "```python\n",
    "print(a_f2b, a, 'a')\n",
    "for i in range(1, 21):\n",
    "    print(incs[i-1], a+i, f'a + {i}')\n",
    "```\n",
    "\n",
    "Oczekiwany wynik (pierwsze i ostatnie 4 wiersze):\n",
    "\n",
    "```plaintext\n",
    "0 10000111000 0011111101010101100111100111101111101110011011000001 1.7976931348623158e+17 a\n",
    "0 10000111000 0011111101010101100111100111101111101110011011000001 1.7976931348623158e+17 a + 1\n",
    "0 10000111000 0011111101010101100111100111101111101110011011000001 1.7976931348623158e+17 a + 2\n",
    "0 10000111000 0011111101010101100111100111101111101110011011000001 1.7976931348623158e+17 a + 3\n",
    "(...)\n",
    "0 10000111000 0011111101010101100111100111101111101110011011000010 1.797693134862316e+17 a + 17\n",
    "0 10000111000 0011111101010101100111100111101111101110011011000010 1.797693134862316e+17 a + 18\n",
    "0 10000111000 0011111101010101100111100111101111101110011011000010 1.797693134862316e+17 a + 19\n",
    "0 10000111000 0011111101010101100111100111101111101110011011000010 1.797693134862316e+17 a + 20\n",
    "```"
   ]
  },
  {
   "cell_type": "code",
   "execution_count": 227,
   "id": "e596d147-29e6-46a4-8117-df86ff6e02b8",
   "metadata": {},
   "outputs": [
    {
     "name": "stdout",
     "output_type": "stream",
     "text": [
      "0 10000111000 0011111101010101100111100111101111101110011011000001 1.7976931348623158e+17 a\n",
      "0 10000111000 0011111101010101100111100111101111101110011011000001 1.7976931348623158e+17 a + 1\n",
      "0 10000111000 0011111101010101100111100111101111101110011011000001 1.7976931348623158e+17 a + 2\n",
      "0 10000111000 0011111101010101100111100111101111101110011011000001 1.7976931348623158e+17 a + 3\n",
      "0 10000111000 0011111101010101100111100111101111101110011011000001 1.7976931348623158e+17 a + 4\n",
      "0 10000111000 0011111101010101100111100111101111101110011011000001 1.7976931348623158e+17 a + 5\n",
      "0 10000111000 0011111101010101100111100111101111101110011011000001 1.7976931348623158e+17 a + 6\n",
      "0 10000111000 0011111101010101100111100111101111101110011011000001 1.7976931348623158e+17 a + 7\n",
      "0 10000111000 0011111101010101100111100111101111101110011011000001 1.7976931348623158e+17 a + 8\n",
      "0 10000111000 0011111101010101100111100111101111101110011011000001 1.7976931348623158e+17 a + 9\n",
      "0 10000111000 0011111101010101100111100111101111101110011011000001 1.7976931348623158e+17 a + 10\n",
      "0 10000111000 0011111101010101100111100111101111101110011011000001 1.7976931348623158e+17 a + 11\n",
      "0 10000111000 0011111101010101100111100111101111101110011011000001 1.7976931348623158e+17 a + 12\n",
      "0 10000111000 0011111101010101100111100111101111101110011011000001 1.7976931348623158e+17 a + 13\n",
      "0 10000111000 0011111101010101100111100111101111101110011011000001 1.7976931348623158e+17 a + 14\n",
      "0 10000111000 0011111101010101100111100111101111101110011011000001 1.7976931348623158e+17 a + 15\n",
      "0 10000111000 0011111101010101100111100111101111101110011011000010 1.797693134862316e+17 a + 16\n",
      "0 10000111000 0011111101010101100111100111101111101110011011000010 1.797693134862316e+17 a + 17\n",
      "0 10000111000 0011111101010101100111100111101111101110011011000010 1.797693134862316e+17 a + 18\n",
      "0 10000111000 0011111101010101100111100111101111101110011011000010 1.797693134862316e+17 a + 19\n",
      "0 10000111000 0011111101010101100111100111101111101110011011000010 1.797693134862316e+17 a + 20\n"
     ]
    }
   ],
   "source": [
    "# UMIEŚĆ SWÓJ KOD TUTAJ\n",
    "incs = []\n",
    "for i in range(1, 21):\n",
    "  incs.append(float_to_binary(a + i, 64))\n",
    "\n",
    "print(a_f2b, a, 'a')\n",
    "for i in range(1, 21):\n",
    "    print(incs[i-1], a+i, f'a + {i}')"
   ]
  },
  {
   "cell_type": "markdown",
   "id": "290a661e-4ac6-48a2-bbe0-eac82574080a",
   "metadata": {},
   "source": [
    "##### Zadanie 5 (2 pkt)\n",
    "\n",
    "Rozwiązaniem problemu dodawania z poprzedniego zadania jest tzw. algorytm sumowania z poprawkami, który minimalizuje błędy powstałe przy dodawaniu ciągu liczb zmiennopozycyjnych o skończonej precyzji. Zaimplementuj [algorytm Kahana](https://en.wikipedia.org/wiki/Kahan_summation_algorithm) uzupełniając poniżej funkcję `kahan_sum()` i przetestuj działanie poprzez sumowanie elementów wektora `x`.\n",
    "\n",
    "Przykładowe przypadki testowe, które powinien przejść Twój kod:\n",
    "\n",
    "| Przypadek testowy | Oczekiwany wynik |\n",
    "| ----------------- | ---------------- |\n",
    "| `print(float_to_binary(a, 64), a, 'a')` | `0 10000111000 0011111101010101100111100111101111101110011011000001 1.7976931348623158e+17 a` |\n",
    "| `print(float_to_binary(ksum, 64), ksum, ' Kahan sum')` | `0 10000111000 0011111101010101100111100111101111101110011111111010 1.797693134862416e+17  Kahan sum` |\n",
    "| `print(float_to_binary(nsum, 64), nsum, ' Numpy sum')` | `0 10000111000 0011111101010101100111100111101111101110011111111010 1.797693134862416e+17  Numpy sum` |\n",
    "| `print(float_to_binary(dsum, 64), dsum, ' a + 10000')` | `0 10000111000 0011111101010101100111100111101111101110011111111010 1.797693134862416e+17  a + 10000` |"
   ]
  },
  {
   "cell_type": "code",
   "execution_count": 228,
   "id": "2fb62dd3-d456-4f6b-bc87-15d43c58d7d0",
   "metadata": {},
   "outputs": [
    {
     "name": "stdout",
     "output_type": "stream",
     "text": [
      "0 10000111000 0011111101010101100111100111101111101110011011000001 1.7976931348623158e+17 a\n",
      "0 10000111000 0011111101010101100111100111101111101110011111111010 1.797693134862416e+17  Kahan sum\n",
      "0 10000111000 0011111101010101100111100111101111101110011111111010 1.797693134862416e+17  Numpy sum\n",
      "0 10000111000 0011111101010101100111100111101111101110011111111010 1.797693134862416e+17  a + 10000\n"
     ]
    }
   ],
   "source": [
    "a = np.float64(1.79769313486231571e17)\n",
    "x = np.ones(10_001, dtype=np.float64)\n",
    "x[0] = a\n",
    "\n",
    "def kahan_sum(x):\n",
    "    # UMIEŚĆ SWÓJ KOD TUTAJ\n",
    "    sum = 0.0\n",
    "    c = 0.0\n",
    "    for i in range(0, len(x)):\n",
    "        y = x[i] - c\n",
    "        t = sum + y\n",
    "        c = (t - sum) - y\n",
    "        sum = t\n",
    "    return sum\n",
    "    pass\n",
    "    # --------------------- \n",
    "\n",
    "ksum = kahan_sum(x) # sumowanie alg. Kahana\n",
    "nsum = x.sum() # sumowanie Numpy\n",
    "dsum = a + np.float64(10_000) # dodanie za jednym zamachem\n",
    "\n",
    "print(float_to_binary(a, 64), a, 'a')\n",
    "print(float_to_binary(ksum, 64), ksum, ' Kahan sum')\n",
    "print(float_to_binary(nsum, 64), nsum, ' Numpy sum')\n",
    "print(float_to_binary(dsum, 64), dsum, ' a + 10000')\n"
   ]
  },
  {
   "cell_type": "markdown",
   "id": "b2447cb3-c552-468e-a7bc-69e574d68875",
   "metadata": {},
   "source": [
    "#### Obliczenia blisko wartość maksymalnej i skalowanie elementów"
   ]
  },
  {
   "cell_type": "markdown",
   "id": "4fecf05d-eff3-4af7-916b-722957329822",
   "metadata": {},
   "source": [
    "##### Zadanie 6 (1 pkt.)\n",
    "\n",
    "Załóżmy, że mamy poniższy wektor `x` z danymi:"
   ]
  },
  {
   "cell_type": "code",
   "execution_count": 229,
   "id": "90666360-1616-4e65-8efb-76a9e9dfe467",
   "metadata": {},
   "outputs": [],
   "source": [
    "x = np.array([42.0, 3.14, 1.3407807929942596e+154, 1.3407807929942596e+153, 1732.332],\n",
    "             dtype=np.float64)"
   ]
  },
  {
   "cell_type": "markdown",
   "id": "f4770f1a-79f6-4329-b1cb-3d22601b23c0",
   "metadata": {},
   "source": [
    "Zauważmy, że niektóre elementy mają bardzo duże wartości i może to powodować problemy podczas niektórych obliczeń. Przykładowo, spróbuj policzyć [normę euklidesową](https://en.wikipedia.org/wiki/Norm_(mathematics)#Euclidean_norm) wprost ze wzoru $\\lVert x \\rVert_2 := \\sqrt{x_1^2 + \\ldots + x_n^2}$ oraz przy pomocy funkcji [`np.linalg.norm()`](https://numpy.org/doc/stable/reference/generated/numpy.linalg.norm.html) (jak zobaczymy, w obliczeniach pośrednich podniesienie do kwadratu trzeciego elementu spowoduje już wyjście poza zakres). Uzupełnij poniższą funkcję `calc_norm()`, która jako wynik zwróci krotkę z pierwszym i drugim sposobem obliczenia normy.\n",
    "\n",
    "Przykładowe przypadki testowe, które powinien przejść Twój kod:\n",
    "\n",
    "| Przypadek testowy | Oczekiwany wynik |\n",
    "| ----------------- | ---------------- |\n",
    "| `n1, n2 = calc_norm(x)`<br>`print(n1)`<br>`print(n2)` | `inf`<br>`inf` |\n",
    "| `n1, n2 = calc_norm([3.14, 2.2, 5.8])`<br>`print(n1)`<br>`print(n2)` | `6.952668552433662`<br>`6.952668552433662` |\n",
    "\n",
    "*Uwaga*: uruchamiając `calc_norm(x)` otrzymamy ostrzeżenie o przepełnieniu `RuntimeWarning: overflow encountered in double_scalars`."
   ]
  },
  {
   "cell_type": "code",
   "execution_count": 230,
   "id": "c91768c0-7082-438a-9bc0-7ca0256b1c47",
   "metadata": {},
   "outputs": [
    {
     "name": "stdout",
     "output_type": "stream",
     "text": [
      "inf\n",
      "inf\n",
      "6.952668552433662\n",
      "6.952668552433662\n"
     ]
    },
    {
     "name": "stderr",
     "output_type": "stream",
     "text": [
      "C:\\Users\\Daniel\\AppData\\Local\\Temp\\ipykernel_16700\\2000560574.py:5: RuntimeWarning: overflow encountered in scalar add\n",
      "  norm += x*x\n"
     ]
    }
   ],
   "source": [
    "def calc_norm(v):\n",
    "    # UMIEŚĆ SWÓJ KOD TUTAJ\n",
    "    norm = 0\n",
    "    for x in v:\n",
    "        norm += x*x\n",
    "    norm = np.sqrt(norm)\n",
    "    return norm, np.linalg.norm(v)\n",
    "\n",
    "n1, n2 = calc_norm(x)\n",
    "print(n1)\n",
    "print(n2)\n",
    "\n",
    "n1, n2 = calc_norm([3.14, 2.2, 5.8])\n",
    "print(n1)\n",
    "print(n2)"
   ]
  },
  {
   "cell_type": "markdown",
   "id": "0f2bd2eb-0624-46af-b84c-5500dee9267e",
   "metadata": {},
   "source": [
    "##### Zadanie 7 (2 pkt.)\n",
    "\n",
    "Rozwiązaniem problemu z poprzedniego zadania może być podnoszenie do kwadratu elementów, które są przeskalowane względem największej wartości wektora (możemy dodatkowo uwzględnić, że podczas szukania tej wartości uwzględnimy również pewien $\\epsilon$, np. równy `0.00001`, tak abyśmy podczas operacji skalowania, czyli dzielenia, przypadkiem nie dzielili przez zero). Ostatecznie końcowy wynik skalujemy z powrotem również względem tego największego elementu wektora. Uzupełnij poniższą funkcję `scaled_norm()`.\n",
    "\n",
    "Przykładowe przypadki testowe, które powinien przejść Twój kod:\n",
    "\n",
    "| Przypadek testowy | Oczekiwany wynik |\n",
    "| ----------------- | ---------------- |\n",
    "| `print(scaled_norm(x))` | `1.3474680204780142e+154` |\n",
    "| `print(scaled_norm([3.14, 2.2, 5.8]))` | `6.952668552433662` |"
   ]
  },
  {
   "cell_type": "code",
   "execution_count": 231,
   "id": "797d773b-5309-4f77-8c8b-2e8d70c7090e",
   "metadata": {},
   "outputs": [
    {
     "name": "stdout",
     "output_type": "stream",
     "text": [
      "1.3474680204780142e+154\n",
      "6.952668552433662\n"
     ]
    }
   ],
   "source": [
    "def scaled_norm(v):\n",
    "    # UMIEŚĆ SWÓJ KOD TUTAJ\n",
    "    max_val = max(v) + 0.00001\n",
    "    norm = 0\n",
    "    for el in v:\n",
    "        e = el/max_val\n",
    "        norm += e*e\n",
    "    norm = np.sqrt(norm)\n",
    "    norm *= max_val\n",
    "    return norm\n",
    "\n",
    "print(scaled_norm(x))\n",
    "print(scaled_norm([3.14, 2.2, 5.8]))"
   ]
  },
  {
   "cell_type": "markdown",
   "id": "b0568453-f1e5-4745-84c1-3c44034142d8",
   "metadata": {},
   "source": [
    "#### Porównywanie liczb zmiennoprzecinkowych\n",
    "\n",
    "Kończąc część dotyczącą obliczeń numerycznych, spójrzmy na poniższy przykład pokazujący, że porównanie liczb zmiennoprzecinkowych może dać mylący wynik:"
   ]
  },
  {
   "cell_type": "code",
   "execution_count": 232,
   "id": "a778bec4-c30b-4d46-804c-43f5687738da",
   "metadata": {},
   "outputs": [
    {
     "data": {
      "text/plain": [
       "False"
      ]
     },
     "execution_count": 232,
     "metadata": {},
     "output_type": "execute_result"
    }
   ],
   "source": [
    "a = 0.1 + 0.2\n",
    "b = 0.3\n",
    "\n",
    "a == b"
   ]
  },
  {
   "cell_type": "markdown",
   "id": "5f9448c6-098a-4c11-83fa-60a90c19c1cf",
   "metadata": {},
   "source": [
    "Numpy udostępnia funkcję [`np.isclose()`](https://numpy.org/doc/stable/reference/generated/numpy.isclose.html), która uwzględnia podczas porównania tolerancję względną i bezwzględną według wzoru `absolute(a - b) <= (atol + rtol * absolute(b))`."
   ]
  },
  {
   "cell_type": "code",
   "execution_count": 233,
   "id": "a64c719e-1213-4c5a-a88d-c9b58eb28cd5",
   "metadata": {},
   "outputs": [
    {
     "data": {
      "text/plain": [
       "np.True_"
      ]
     },
     "execution_count": 233,
     "metadata": {},
     "output_type": "execute_result"
    }
   ],
   "source": [
    "np.isclose(a, b)"
   ]
  },
  {
   "cell_type": "markdown",
   "id": "11669d97-5b99-4549-9c91-1d90f3505040",
   "metadata": {},
   "source": [
    "Porównywanie liczb zmiennopozycyjnych sprawia wiele problemów i na poniższej grafice z art. [NumPy Illustrated: The Visual Guide to NumPy](https://betterprogramming.pub/numpy-illustrated-the-visual-guide-to-numpy-3b1d4976de1d), którego autorem jest Lev Maximov, przedstawiono nieoczywiste wyniki porównywania liczb przy pomocy [`np.allclose()`](https://numpy.org/doc/stable/reference/generated/numpy.allclose.html) oraz [`math.isclose()`](https://docs.python.org/3/library/math.html#math.isclose):"
   ]
  },
  {
   "attachments": {
    "07dfa664-a6de-4e77-9f87-3cff58104bf3.webp": {
     "image/webp": "[encoded data removed]"
    }
   },
   "cell_type": "markdown",
   "id": "46860879-2ca2-46fc-bf5a-96e087670ef2",
   "metadata": {},
   "source": [
    "![1 LZWByfm3vyHXhNreHGy3hQ.webp](attachment:07dfa664-a6de-4e77-9f87-3cff58104bf3.webp)"
   ]
  },
  {
   "cell_type": "markdown",
   "id": "567fffb7-9aff-48d1-8619-4cbd137c0cf1",
   "metadata": {},
   "source": [
    "W kontekście pierwszego przykładu możemy zestawić również poniższe porównanie:"
   ]
  },
  {
   "cell_type": "code",
   "execution_count": 234,
   "id": "588fda28-e153-463e-9d68-159e936811d2",
   "metadata": {},
   "outputs": [
    {
     "data": {
      "text/plain": [
       "(False, np.True_)"
      ]
     },
     "execution_count": 234,
     "metadata": {},
     "output_type": "execute_result"
    }
   ],
   "source": [
    "a = 0.99999\n",
    "b = 1.00000\n",
    "a == b, np.isclose(a, b)"
   ]
  },
  {
   "cell_type": "markdown",
   "id": "5ee90eac-c15e-44cc-a9c7-27203d758e4a",
   "metadata": {},
   "source": [
    "Nieco więcej o tym problemie można znaleźć na stronie [The Floating-Point Guide. Comparison](https://floating-point-gui.de/errors/comparison/)."
   ]
  }
 ],
 "metadata": {
  "kernelspec": {
   "display_name": "Python 3",
   "language": "python",
   "name": "python3"
  },
  "language_info": {
   "codemirror_mode": {
    "name": "ipython",
    "version": 3
   },
   "file_extension": ".py",
   "mimetype": "text/x-python",
   "name": "python",
   "nbconvert_exporter": "python",
   "pygments_lexer": "ipython3",
   "version": "3.12.8"
  }
 },
 "nbformat": 4,
 "nbformat_minor": 5
}
