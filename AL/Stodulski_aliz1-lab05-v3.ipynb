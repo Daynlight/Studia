{
 "cells": [
  {
   "cell_type": "markdown",
   "id": "b5e595ad-2471-42cb-ba67-74a40a559696",
   "metadata": {},
   "source": [
    "# Algebra liniowa z zastosowaniami 1\n",
    "## Ćwiczenia w sali komputerowej nr 5\n",
    "Uzupełnij swoje dane i sprawdź czy wyświetlają się poprawnie:"
   ]
  },
  {
   "cell_type": "code",
   "execution_count": 40,
   "id": "2058b36c-054a-4f67-a6a9-fea7da8a1619",
   "metadata": {},
   "outputs": [
    {
     "name": "stdout",
     "output_type": "stream",
     "text": [
      "Daniel Stodulski\n"
     ]
    }
   ],
   "source": [
    "IMIE_NAZWISKO = \"Daniel Stodulski\"\n",
    "\n",
    "print(IMIE_NAZWISKO)"
   ]
  },
  {
   "cell_type": "markdown",
   "id": "758d5008-7a1c-40bd-bec7-c31ec2cf996c",
   "metadata": {},
   "source": [
    "Standardowo zaczniemy od wczytania biblioteki ```numpy```"
   ]
  },
  {
   "cell_type": "code",
   "execution_count": 41,
   "id": "0f03a9b0-dca6-468b-b392-7cecf9f77843",
   "metadata": {},
   "outputs": [],
   "source": [
    "import numpy as np"
   ]
  },
  {
   "cell_type": "markdown",
   "id": "fd7b2410-3dfc-47b1-802e-6828bc413d7a",
   "metadata": {},
   "source": [
    "### Jak mierzyć podobieństwo dwóch wektorów z $\\mathbb{R}^n$?\n",
    "\n",
    "#### Iloczyn skalarny jako ,,miara\" podobieństwa wektorów\n",
    "\n",
    "Do określania pewnych zależności pomiędzy dwoma wektorami $x, y \\in \\mathbb{R}^n$ może służyć funkcja, która została już wspomniana na poprzednich zajęciach, nazywana **iloczynem skalarnym** (`standardowym iloczynem skalarnym`, po ang. `dot product`) zdefiniowana następująco\n",
    "\n",
    "$$ x\\cdot y = x^Ty=\n",
    "\\left [\\begin{array}{rrrr}\n",
    "x_1&x_2&\\dots&x_n\n",
    "\\end{array}\n",
    "\\right ] \\cdot\n",
    "\\left [\\begin{array}{r}\n",
    "y_1\\\\\n",
    "y_2\\\\\n",
    "\\vdots\\\\\n",
    "y_n\n",
    "\\end{array}\n",
    "\\right ]\n",
    "=x_1y_1+x_2y_2+\\dots +x_ny_n\n",
    "$$\n",
    "\n",
    "\n",
    "Jest ona przykładem funkcji zdefiniowanej w sposób aksjomatyczny nazywanej po polsku również iloczynem skalarnym, w języku angielskim jest jednak określana jako `inner product`.\n",
    "\n",
    "**Definicja**\n",
    "Niech $u, v$ i $w$ będą wektorami przestrzeni liniowej $V$ nad ciałem $K$ oraz $\\alpha \\in K.$ Odwzorowanie\n",
    "$$\n",
    "\\langle \\cdot,\\cdot \\rangle \\colon V \\times V \\rightarrow K\n",
    "$$\n",
    "spełniające warunki\n",
    "1. $\\langle u,v \\rangle=\\langle v,u \\rangle$\n",
    "2. $\\langle u+v,w \\rangle=\\langle u,w \\rangle + \\langle v,w \\rangle$\n",
    "3. $\\langle \\alpha u,v \\rangle =\\alpha\\langle u,v \\rangle = \\langle u,\\alpha v \\rangle$\n",
    "4. $\\langle u,u \\rangle \\geq 0$ oraz $ \\alpha u,u \\rangle = 0 \\iff u = \\theta$\n",
    "   \n",
    "nazywamy `iloczynem skalarnym.`\n",
    "\n",
    "Standardowy iloczyn skalarny spełnia powyższe aksjomaty.\n",
    "\n",
    "**UWAGA** Oznaczenie $\\langle x,y \\rangle$ będzie dotyczyło dowolnej funkcji spełniającej warunki powyższej definicji, natomiast przez $x\\cdot y$ będziemy oznaczali tylko standardowy iloczyn skalarny zdefiniowany w przestrzeni $\\mathbb{R}^n$ i będziemy nazywali go iloczynem skalarnym. "
   ]
  },
  {
   "cell_type": "markdown",
   "id": "68e883ee-4de0-4a9a-ae97-6c85c1f5d240",
   "metadata": {},
   "source": [
    "#### Porównywanie sekwencji dźwięków\n",
    "\n",
    "Załóżmy, że chcesz sprawdzić, czy pewien fragment muzyki należy do danego nagrania. \n",
    "\n",
    "Matematycznie, sekwencja dźwięków (fragment muzyki), to ciągła funcja czasu. Wartością tej funkcji jest [amplituda](https://pl.wikipedia.org/wiki/Amplituda), która oscyluje pomiędzy pewnymi skrajnymi położeniami zależnymi od głośności dźwięku.\n",
    "W komputerze sekwencja dźwięków jest reprezentowana jako ciąg liczb, wartości funkcji ciągłej odczytywanych (ang. *sampled*) w stałych odstępach czasu.\n",
    "\n",
    "Zaczniemy od określenia jak sprawdzić podobieństwo różnych fragmentów o tej samej długości.\n",
    "\n",
    "Załóżmy, że mamy trzy sekwencje dźwięków reprezentowane przez wektory\n",
    "$$\n",
    "x = \n",
    "\\left [\\begin{array}{r}\n",
    "5\\\\\n",
    "-6\\\\\n",
    "9\\\\\n",
    "-9\\\\\n",
    "-5\\\\\n",
    "5\\\\\n",
    "-8\\\\\n",
    "-5\\\\\n",
    "9\\\\\n",
    "-9\n",
    "\\end{array}\n",
    "\\right ],\\quad\n",
    "y = \n",
    "\\left [\\begin{array}{r}\n",
    "6\\\\\n",
    "-5\\\\\n",
    "10\\\\\n",
    "-8\\\\\n",
    "-4\\\\\n",
    "6\\\\\n",
    "-7\\\\\n",
    "-4\\\\\n",
    "10\\\\\n",
    "-8\n",
    "\\end{array}\n",
    "\\right ], \\quad\n",
    "z = \n",
    "\\left [\\begin{array}{r}\n",
    "3\\\\\n",
    "-4\\\\\n",
    "7\\\\\n",
    "-7\\\\\n",
    "-3\\\\\n",
    "3\\\\\n",
    "-6\\\\\n",
    "-3\\\\\n",
    "7\\\\\n",
    "-7\n",
    "\\end{array}\n",
    "\\right ].\n",
    "$$\n",
    "\n",
    "Im większe jest podobieństwo tych fragmentów do siebie nawzajem, tym większy jest ich iloczyn skalarny (wyjaśnimy to za chwilę). W rozważanym przypadku mamy $x\\cdot y = 510,$ $x\\cdot z = 384,$ $y\\cdot z = 374.$ \n",
    "\n",
    "Zauważmy, że wartości $y$ to $x,$ do którego dodano wektor jedynek, natomiast elementy w $z$ zostały zaburzone względem $x$ o $2$ (na minus albo na plus). Zatem fragmenty $x$ i $y$ są do siebie najbardziej podobne.\n",
    "\n",
    "Ten sposób porówywania sekwencji dźwięków sprawdzi się nawet, jeżeli będą różnice w głośności dźwięków, niestety nie sprawdzi się w przypadku zmian (nawet niewielkich) w wysokości dźwięków lub w tempie.\n",
    "\n",
    "Załóżmy jednak, że mamy dwa fragmenty audio (dłuższy i krótszy) bez zmian wysokości dźwięków i tempa. \n",
    "Niech dłuższy fragment $x$ składa się z piętnastu próbek (wektor o $15$ elementach), a krótszy $y$ z $7$ próbek.\n",
    "\n",
    "$$\n",
    "x = \n",
    "\\left [\\begin{array}{r}\n",
    "-4\\\\\n",
    "10\\\\\n",
    "-8\\\\\n",
    "5\\\\\n",
    "-6\\\\\n",
    "9\\\\\n",
    "-9\\\\\n",
    "-5\\\\\n",
    "5\\\\\n",
    "-8\\\\\n",
    "-5\\\\\n",
    "9\\\\\n",
    "-9\\\\\n",
    "0\\\\\n",
    "-1\n",
    "\\end{array}\n",
    "\\right ],\\quad\n",
    "y = \n",
    "\\left [\\begin{array}{r}\n",
    "5\\\\\n",
    "-6\\\\\n",
    "10\\\\\n",
    "-8\\\\\n",
    "-5\\\\\n",
    "5\\\\\n",
    "-7\n",
    "\\end{array}\n",
    "\\right ].\n",
    "$$\n",
    "\n",
    "Chcąc określić, który fragment $x$ jest najbardziej podobny do $y$ należy policzyć iloczyny skalarne podwektorów wektora $x$ składających się z $7$ (= liczbie elementów wektora $y$) kolejnych elementów  wektora $x$ zaczynając od pierwszego elementu wektora $x$. Mamy zatem $9=15-7+1$ możliwych pozycji startowych dla podwektorów"
   ]
  },
  {
   "cell_type": "markdown",
   "id": "045f436d-ec67-49d1-8de8-9eaf7676449f",
   "metadata": {},
   "source": [
    "1. $\n",
    "\\left [\\begin{array}{r|r|r|r|r|r|r|r|r|r|r|r|r|r|r}\n",
    "-4&10&-8&\\ 5&-6&\\ 9&-9&-5&\\ 5&-8&-5&\\ 9&-9&\\ 0&-1\\\\\n",
    "\\hline\n",
    "\\ 5&-6&10&-8&-5&\\ 5&-7&&&&&&&&\n",
    "\\end{array}\n",
    "\\right ]\n",
    "$\n",
    "2. $\n",
    "\\left [\\begin{array}{r|r|r|r|r|r|r|r|r|r|r|r|r|r|r}\n",
    "-4&10&-8&\\ 5&-6&\\ 9&-9&-5&\\ 5&-8&-5&\\ 9&-9&\\ 0&-1\\\\\n",
    "\\hline\n",
    "&\\ 5&-6&10&-8&-5&\\ 5&-7&&&&&&&\n",
    "\\end{array}\n",
    "\\right ]\n",
    "$\n",
    "3. $\n",
    "\\left [\\begin{array}{r|r|r|r|r|r|r|r|r|r|r|r|r|r|r}\n",
    "-4&10&-8&\\ 5&-6&\\ 9&-9&-5&\\ 5&-8&-5&\\ 9&-9&\\ 0&-1\\\\\n",
    "\\hline\n",
    "&&\\ 5&-6&10&-8&-5&\\ 5&-7&&&&&&\n",
    "\\end{array}\n",
    "\\right ]\n",
    "$\n",
    "4. $\n",
    "\\left [\\begin{array}{r|r|r|r|r|r|r|r|r|r|r|r|r|r|r}\n",
    "-4&10&-8&\\ 5&-6&\\ 9&-9&-5&\\ 5&-8&-5&\\ 9&-9&\\ 0&-1\\\\\n",
    "\\hline\n",
    "&&&\\ 5&-6&10&-8&-5&\\ 5&-7&&&&&\n",
    "\\end{array}\n",
    "\\right ]\n",
    "$\n",
    "5. $\n",
    "\\left [\\begin{array}{r|r|r|r|r|r|r|r|r|r|r|r|r|r|r}\n",
    "-4&10&-8&\\ 5&-6&\\ 9&-9&-5&\\ 5&-8&-5&\\ 9&-9&\\ 0&-1\\\\\n",
    "\\hline\n",
    "&&&&\\ 5&-6&10&-8&-5&\\ 5&-7&&&&\n",
    "\\end{array}\n",
    "\\right ]\n",
    "$\n",
    "6. $\n",
    "\\left [\\begin{array}{r|r|r|r|r|r|r|r|r|r|r|r|r|r|r}\n",
    "-4&10&-8&\\ 5&-6&\\ 9&-9&-5&\\ 5&-8&-5&\\ 9&-9&\\ 0&-1\\\\\n",
    "\\hline\n",
    "&&&&&\\ 5&-6&10&-8&-5&\\ 5&-7&&&\n",
    "\\end{array}\n",
    "\\right ]\n",
    "$\n",
    "7. $\n",
    "\\left [\\begin{array}{r|r|r|r|r|r|r|r|r|r|r|r|r|r|r}\n",
    "-4&10&-8&\\ 5&-6&\\ 9&-9&-5&\\ 5&-8&-5&\\ 9&-9&\\ 0&-1\\\\\n",
    "\\hline\n",
    "&&&&&&\\ 5&-6&10&-8&-5&\\ 5&-7&&\n",
    "\\end{array}\n",
    "\\right ]\n",
    "$\n",
    "8. $\n",
    "\\left [\\begin{array}{r|r|r|r|r|r|r|r|r|r|r|r|r|r|r}\n",
    "-4&10&-8&\\ 5&-6&\\ 9&-9&-5&\\ 5&-8&-5&\\ 9&-9&\\ 0&-1\\\\\n",
    "\\hline\n",
    "&&&&&&&\\ 5&-6&10&-8&-5&\\ 5&-7&\n",
    "\\end{array}\n",
    "\\right ]\n",
    "$\n",
    "9. $\n",
    "\\left [\\begin{array}{r|r|r|r|r|r|r|r|r|r|r|r|r|r|r}\n",
    "-4&10&-8&\\ 5&-6&\\ 9&-9&-5&\\ 5&-8&-5&\\ 9&-9&\\ 0&-1\\\\\n",
    "\\hline\n",
    "&&&&&&&&\\ 5&-6&10&-8&-5&\\ 5&-7\n",
    "\\end{array}\n",
    "\\right ]\n",
    "$\n"
   ]
  },
  {
   "cell_type": "markdown",
   "id": "fb3ef6ac-45a6-4eaa-a878-b2b25dec37a2",
   "metadata": {},
   "source": [
    "Największy iloczyn skalarny spośrób przypadków $1-9$ wskazuje na największe podobieństwo obu porównywanych fragmentów audio.\n",
    "\n",
    "**UWAGA** Niestety metoda ta nie sprawdza się np. w przypadku wektorów o wszystkich elementach mających te same znaki, np. $x = \\left [\\begin{array}{rrrrr}1&2&3&4&5\\end{array}\\right ]^T$ i $y = \\left [\\begin{array}{rrr}1&2&3\\end{array}\\right ]^T.$ Największy iloczyn skalarny będzie dla wektora $y$ i podwektora $\\left [\\begin{array}{rrr}3&4&5\\end{array}\\right ]^T$ wektora $x.$\n",
    "\n",
    "Jednakże w ogólnym przypadku można wykorzystać iloczyn skalarny do określania podobieństwa wektorów."
   ]
  },
  {
   "cell_type": "markdown",
   "id": "8d76b289-f5c1-467d-ac2e-78e32363c28d",
   "metadata": {},
   "source": [
    "##### **Zadanie 1** (2 pkt.)\n",
    "\n",
    "Napisz funkcję `sample_similarity()` określającą za pomocą iloczynu skalarnego, do którego fragmentu nagrania (dłuższej sekwencji dźwięków) najbardziej podobny jest klip audio (krótsza sekwencja dźwięków).\n",
    "\n",
    "Danymi wejściowymi mają być dwa wektory o elementach rzeczysistych: $x$  - nagranie, $y$ - klip audio.\n",
    "\n",
    "Jako wynik mają być zwrócone:\n",
    "1. wektor, którego $i-$ty element będzie iloczynem skalarnym klipu i podwektora wektora $x$ zaczynającego się od pozycji $i-$tej tego wektora (jednak nie wykraczający poza zakres wektora nagrania)\n",
    "2. wektor będący pierwszym podwektorem wektora nagrania najbardziej przypominającym badany klip. \n",
    "\n",
    "W przypadku podania klipu dłuższego od nagrania, należy wektory zamienić rolami."
   ]
  },
  {
   "cell_type": "code",
   "execution_count": 42,
   "id": "a3fc4c11-5089-4440-af47-6ff130d8b11e",
   "metadata": {},
   "outputs": [
    {
     "name": "stdout",
     "output_type": "stream",
     "text": [
      "[ -62  141 -217  329 -164  -39  232 -185    3]\n",
      "[ 5 -6  9 -9 -5  5 -8]\n"
     ]
    }
   ],
   "source": [
    "def sample_similarity(x, y):\n",
    "    \n",
    "    # UMIEŚĆ SWÓJ KOD TUTAJ\n",
    "    nx = len(x)\n",
    "    ny = len(y)\n",
    "    if(nx > ny):\n",
    "        il = []\n",
    "        best = 0\n",
    "        for i in range(0, nx - ny + 1):\n",
    "            il.append(y.T@x[i:i+ny])\n",
    "            if il[best] < il[i]:\n",
    "                best = i\n",
    "        return np.array(il), x[best:best+ny]\n",
    "    else:\n",
    "        il = []\n",
    "        best = 0\n",
    "        for i in range(0, ny - nx + 1):\n",
    "            il.append(x.T@y[i:i+nx])\n",
    "            if il[best] < il[i]:\n",
    "                best = i\n",
    "        return np.array(il), y[best:best+nx]\n",
    "\n",
    "x = np.array([-4, 10, -8, 5, -6, 9, -9, -5, 5, -8, -5, 9, -9, 0, -1])\n",
    "y = np.array([5, -6, 10, -8, -5, 5, -7])\n",
    "\n",
    "sim_idx, subsample = sample_similarity(x, y)\n",
    "print(sim_idx)\n",
    "print(subsample)"
   ]
  },
  {
   "cell_type": "markdown",
   "id": "f6f8391d",
   "metadata": {},
   "source": [
    "Przykładowy przypadek testowy:\n",
    "\n",
    "```python\n",
    "x = np.array([-4, 10, -8, 5, -6, 9, -9, -5, 5, -8, -5, 9, -9, 0, -1])\n",
    "y = np.array([5, -6, 10, -8, -5, 5, -7])\n",
    "\n",
    "sim_idx, subsample = sample_similarity(x, y)\n",
    "print(sim_idx)\n",
    "print(subsample)\n",
    "```\n",
    "\n",
    "Oczekiwany wynik:\n",
    "\n",
    "```plaintext\n",
    "[ -62  141 -217  329 -164  -39  232 -185    3]\n",
    "[ 5 -6  9 -9 -5  5 -8]\n",
    "```"
   ]
  },
  {
   "cell_type": "markdown",
   "id": "8ead9290-e82f-41cd-a92c-a1e8044e45e7",
   "metadata": {},
   "source": [
    "#### Wykrywanie błędu w transmisji danych"
   ]
  },
  {
   "cell_type": "markdown",
   "id": "872b9737-8ca2-460f-910f-ca630e2afd64",
   "metadata": {},
   "source": [
    "Iloczyn skalarny może być wykorzystywany w wykrywaniu błędów w transmisji lub zapisie danych. Jedną z najbardziej podstawowych metod wykrywania błędu jest [kontrola parzystości](https://pl.wikipedia.org/wiki/Kontrola_parzysto%C5%9Bci). Należy wówczas dla $n$ bitowej sekwencji obliczyć dodatkowy bit (`bit parzystości`) jako parzystość skwencji i dołączyć go do przesyłanej sekwencji. My jednak zajmiemy się metodą opartą o iloczyn skalarny."
   ]
  },
  {
   "cell_type": "markdown",
   "id": "2a93b930-a053-4d48-845f-d47e9a633081",
   "metadata": {},
   "source": [
    "Rozważmy przypadek logowania się `użytkowniczki/ka` do `komputera` przez `niezabezpieczoną sieć` ze schematem uwierzytelniania polegającym na  podaniu hasła. Skoro sieć jest niezabezpieczona, to ktoś (nazwijmy tę osobę `osobą podsłuchującą`) może poznać hasło logowania danej/ego użytkowniczki/ka do konkretnego komputera.\n",
    "\n",
    "W takim przypadku lepszym sposobem uwierzytelniania wydaje się schemat ,,wyzwanie-dopowiedź'' polegający na tym, że w przypadku chęci zalogowania się użytkowniczki/ka do komputera, komputer zadaje  serię pytań, na które prawidłowe odpowiedzi może udzielić tylko osoba znająca hasło. Jeżeli wszystkie odpowiedzi są prawidłowe, komputer uznaje, że osoba chcąca się zalogować, zna hasło.\n",
    "\n",
    "Proces ten można opisać w języku matematyki jako obliczanie iloczynu skalarnego wektorów o elementach z ciała $\\mathbb{Z}_2.$\n",
    "Niech hasło $x$ będzie $n$ elementowym ciągiem bitów. W $i-$tym pytaniu komputer wysyła $n$ elementowy wektor $ai$ (`i-te wyzwanie`), a osoba chcąca się zalogować odsyła pojedynczy bit $\\beta_i,$ który jest iloczynem skalarnym wektora $ai$ oraz hasła. Jeżeli odpowiedzi na wszystkie pytania komputera są prawidłowe (komputer porównuje udzielone odpowiedzi ze swoimi obliczeniami, na podstawie zapisanego hasła użytkownika), komputer uznaje, że użytkownik/czka zna hasło. \n",
    "\n",
    "**Przykład** Niech hasło $x = [1,0,1,1,1].$ \n",
    "1. Komputer wysyła $a1 = [0,1,0,1,1].$ Iloczyn skalarny $x\\cdot a1$ w $\\mathbb{Z}_2$ wynosi $0+0+0+1+1=0.$\n",
    "2. Komputer wysyła $a2 = [1,1,1,1,0].$ Iloczyn skalarny $x\\cdot a2$ w $\\mathbb{Z}_2$ wynosi $1+0+1+1+0=1.$"
   ]
  },
  {
   "cell_type": "markdown",
   "id": "4be868d4-bcd6-48cf-a460-9a5f4fb423b2",
   "metadata": {},
   "source": [
    "##### **Zadanie 2** (2 pkt.)\n",
    "\n",
    "Napisz funkcję `trial()`, która dla zadanego $n$ elementowego wektora zer i jedynek $x$ będzie generowała taki $n$ elementowy wektor zer i jedynek $y,$ żeby ich iloczyn skalarny był zadanej wartości $0$ lub $1.$ \n",
    "\n",
    "Dane wejściowe to wektor $x$ i skalar $b$ przyjmujący wartości $0$ lub $1.$\n",
    "\n",
    "Jako wynik należy zwróć wygenerowany wektor $y.$  Jeżeli danymi wejściowymi będą: zerowy wektor $x$ oraz $b=1,$ to funkcja ma zwracać ,,Niedozwolona kombinacja\"."
   ]
  },
  {
   "cell_type": "code",
   "execution_count": 43,
   "id": "56d36eb1-52f7-4242-9bbe-0e88ce7a0d48",
   "metadata": {},
   "outputs": [
    {
     "name": "stdout",
     "output_type": "stream",
     "text": [
      "[1 1 1 1 0 0 0 1]\n"
     ]
    }
   ],
   "source": [
    "def trial(x, b):\n",
    "    \n",
    "    # UMIEŚĆ SWÓJ KOD TUTAJ\n",
    "    if sum(x) == 0 and b == 1:\n",
    "        print(\"Niedozwolona kombinacja\")\n",
    "        exit()\n",
    "    y = np.zeros(len(x))\n",
    "    for i in range(len(x)):\n",
    "        if x[i] == 0:\n",
    "            y[i] = 1\n",
    "        else:\n",
    "            y[i] = 0\n",
    "    if b == 1 and sum(x) % 2 == 0:\n",
    "        for i in range(len(x)):\n",
    "            if y[i] == 0:\n",
    "                y[i] = 1\n",
    "                break\n",
    "\n",
    "    return np.array(y, dtype=int)\n",
    "               \n",
    "x = np.array([0, 0, 1, 0, 1, 1, 1, 0])\n",
    "b = 1\n",
    "print(trial(x, b))"
   ]
  },
  {
   "cell_type": "markdown",
   "id": "97b42cf0-08ff-4174-bf08-d7ff87c27d81",
   "metadata": {},
   "source": [
    "Przykładowe przypadki testowe, które powinien przejść Twój kod:\n",
    "\n",
    "Przypadek testowy 1:\n",
    "\n",
    "```python\n",
    "x = np.array([0, 0, 1, 0, 1, 1, 1, 0])\n",
    "b = 1\n",
    "print(trial(x, b))\n",
    "```\n",
    "\n",
    "Oczekiwany wynik:\n",
    "\n",
    "```plaintext\n",
    "[1 1 1 1 0 0 0 1]\n",
    "```\n",
    "\n",
    "Przypadek testowy 2:\n",
    "\n",
    "```python\n",
    "x = np.array([0, 0, 0])\n",
    "b = 1\n",
    "print(trial(x, b))\n",
    "```\n",
    "\n",
    "Oczekiwany wynik:\n",
    "\n",
    "```plaintext\n",
    "Niedozwolona kombinacja\n",
    "```"
   ]
  },
  {
   "cell_type": "markdown",
   "id": "2eb5711a-e722-4282-9f87-07292e9362fd",
   "metadata": {},
   "source": [
    "**UWAGA** Metoda wyzwanie-odpowiedź nie jest wystarczająco bezpieczna dla użytkowniczki/ka. Jeżeli osoba podsłuchująca **zna zagadnienia algebry liniowej**, a w szczególności własności iloczynu skalarnego i pojęcie kombinacji liniowej wektorów, to może wygenerować odpowiedź na podstawie wystarczająco dużego zbioru obserwacji.\n",
    "\n",
    "Mianowicie, jeżeli osoba podsłuchująca zaobserwowała setki wyzwań: $a1, a2, \\dots, am,$ $m>>100,$ oraz tyle samo odpowiedzi: $\\beta_1, \\beta_2, \\dots, \\beta_m$ i chce odpowiedzieć na kolejne pytanie, powiedzmy $a,$ to musi znaleźć podzbiór zbioru wyzwań, którego suma jest równa $a.$ Niech $a=a1+a2+\\cdots+ak$ wówczas prawidłowa odpowiedź to $\\beta = \\beta_1+\\beta_2+\\cdots+\\beta_k.$\n",
    "\n",
    "Wynika to z następujące własności iloczynu skalarnego: jeżeli $u, v$ i $w$ są wektorami z $\\mathbb{R}^n,$ $c\\in \\mathbb{R},$ to $$u\\cdot (v+w) = u\\cdot v + u\\cdot w.$$ \n",
    "\n",
    "Zatem \n",
    "$$\n",
    "a\\cdot x = (a1+a2+\\cdots+ak)\\cdot x = a1\\cdot x +a2\\cdot x + \\cdots + ak\\cdot x = \n",
    "\\beta_1+\\beta_2+\\cdots+\\beta_k = \\beta.\n",
    "$$\n",
    "\n",
    "**Przykład**\n",
    "Skorzystajmy z poprzedniego przykładu i niech $a = a1+a2 = [0,1,0,1,1]+[1,1,1,1,0] = [1,0,1,0,1] $ (wykonywane jest dodawanie modulo $2$ elementów obydwu wektorów o tych samych indeksach). Wówczas prawidłowa odpowiedź to $\\beta = \\beta_1+\\beta_2=0+1=1.$\n",
    "\n",
    "Obliczmy teraz iloczyn skalarny $a\\cdot x = [1,0,1,0,1] \\cdot [1,0,1,1,1] = 1+0+1+0+1=1.$\n"
   ]
  },
  {
   "cell_type": "markdown",
   "id": "1313e130-5c5e-4dd1-b213-eb73ead7d83f",
   "metadata": {},
   "source": [
    "##### **Zadanie 3** (2 pkt.)\n",
    "\n",
    "Napisz funkcję `lin_comb()`, która dla zadanego $m$ elementowego zbioru $S = \\{a1, a2, \\dots, am\\}$ wektorów z $\\mathbb{Z}^n_2$ sprawdzi, czy podany wektor $x$ można przedstawić jako kombinację liniową wektorów z $S.$ \n",
    "\n",
    "Danymi wejściowymi mają być: wektor $x$ oraz lista (zbiór) $S.$\n",
    "\n",
    "Jako wynik zwróć podzbiór wektorów zbioru $S,$ których suma $=x.$ Jeżeli nie ma takiego podzbioru zwróć ,,Brak kombinacji liniowej''.\n",
    "\n",
    "**UWAGA** W związku z tym, że jedną z możliwości rozwiązania tego zadania jest metoda [brute force](https://pl.wikipedia.org/wiki/Atak_brute_force) oparta o [zbiór potęgowy](https://pl.wikipedia.org/wiki/Zbi%C3%B3r_pot%C4%99gowy), to ogranicz zbiór $S$ maksymalnie do $10$ elementów. W przypadku podania większej liczby wektorów zwróć wyjątek ,,Za duży zbiór S\".\n",
    "\n",
    "Do generowania zbioru potęgowego można wykorzystać poniższą funkcję `powerset()`."
   ]
  },
  {
   "cell_type": "code",
   "execution_count": 44,
   "id": "d97e1ecf-e595-4586-ad83-b5cdf47adff8",
   "metadata": {},
   "outputs": [],
   "source": [
    "from itertools import chain, combinations\n",
    "\n",
    "# Generuje zbiór (sekwencję) wszystkich pozbiorów danej kolekcji, czyli zbiór potęgowy.\n",
    "# Wynik zawiera również zbiór pusty.\n",
    "def powerset(iterable):\n",
    "    s = list(iterable)\n",
    "    return chain.from_iterable(combinations(s, r) for r in range(len(s)+1))"
   ]
  },
  {
   "cell_type": "code",
   "execution_count": 45,
   "id": "ac852f90-56c6-415e-b45a-08639d0c3e7c",
   "metadata": {},
   "outputs": [
    {
     "name": "stdout",
     "output_type": "stream",
     "text": [
      "(array([0, 1, 0]), array([1, 0, 0]), array([0, 0, 1]))\n"
     ]
    }
   ],
   "source": [
    "def lin_comb(vec_list, x):\n",
    "    \n",
    "    # UMIEŚĆ SWÓJ KOD TUTAJ\n",
    "    if(len(vec_list) >= 10):\n",
    "        print(\"Za duży zbiór S\")\n",
    "        exit()\n",
    "\n",
    "    p = powerset(vec_list)\n",
    "    t = []\n",
    "    for i in p:\n",
    "        s = sum(i, start=np.zeros_like(x)) % 2\n",
    "        if (np.array_equal(s, x % 2)):\n",
    "            t.append(i)\n",
    "    if len(t) == 0:\n",
    "        print(\"Brak kombinacji liniowej\")\n",
    "        exit()\n",
    "    return t[0]\n",
    "\n",
    "S = [np.array([0, 1, 0]), np.array([1, 0, 0]), np.array([0, 0, 1])]\n",
    "x = np.array([1, 1, 1])\n",
    "\n",
    "print(lin_comb(S, x))"
   ]
  },
  {
   "cell_type": "markdown",
   "id": "5b7f5ca8-a568-4952-a52c-65996456dcd4",
   "metadata": {},
   "source": [
    "Przypadek testowy 1:\n",
    "\n",
    "```python\n",
    "S = [np.array([0, 1, 0]), np.array([1, 0, 0]), np.array([0, 0, 1])]\n",
    "x = np.array([1, 1, 1])\n",
    "\n",
    "print(lin_comb(S, x))\n",
    "```\n",
    "\n",
    "Oczekiwany wynik:\n",
    "\n",
    "```plaintext\n",
    "(array([0, 1, 0]), array([1, 0, 0]), array([0, 0, 1]))\n",
    "```\n",
    "\n",
    "Przypadek testowy 2:\n",
    "\n",
    "```python\n",
    "S = [np.array([0, 1, 0]), np.array([1, 0, 0])]\n",
    "x = np.array([1, 1, 1])\n",
    "\n",
    "print(lin_comb(S, x))\n",
    "```\n",
    "\n",
    "Oczekiwany wynik:\n",
    "\n",
    "```plaintext\n",
    "Brak kombinacji liniowej\n",
    "```\n",
    "\n",
    "Przypadek testowy 3:\n",
    "\n",
    "```python\n",
    "S = [np.array([0, 1, 0]), np.array([1, 0, 0]), np.array([0, 0, 1]), np.array([0, 1, 0]),\n",
    "     np.array([1, 0, 0]), np.array([0, 0, 1]), np.array([0, 1, 0]), np.array([1, 0, 0]),\n",
    "     np.array([0, 0, 1]), np.array([0, 1, 0]), np.array([1, 0, 0])]\n",
    "x = np.array([1, 1, 1])\n",
    "\n",
    "print(lin_comb(S, x))\n",
    "```\n",
    "\n",
    "Oczekiwany wynik:\n",
    "\n",
    "```plaintext\n",
    "Za duży zbiór S\n",
    "```"
   ]
  },
  {
   "cell_type": "markdown",
   "id": "985ab6a6-7ee9-4eab-b6fc-92b9ea2346c1",
   "metadata": {},
   "source": [
    "**UWAGA** Jeżeli zbiór zaobserwowanych wyzwań `rozpina przestrzeń` $\\mathbb{Z}^n_2,$ to osoba podsłuchująca jest w stanie odpowiedzieć na każde pytanie zadane przez komputer."
   ]
  },
  {
   "cell_type": "markdown",
   "id": "8e54265b-5981-49c9-92c1-5b34344bb1be",
   "metadata": {},
   "source": [
    "#### Kąt między wektorami\n",
    "\n",
    "Przestrzeń liniową z iloczynem skalarnym nazywamy przestrzenią euklidesową, a w przestrzeni euklidesowej można wprowadzić pojęcie kąta $\\psi$ między niezerowymi wektorami $x$ i $y$\n",
    "$$\n",
    "\\cos(\\psi) = \\frac{|  x\\cdot y |}{\\sqrt{|x\\cdot x|}\\sqrt{|y\\cdot y|}}\n",
    "$$\n",
    "(patrzy wykład.)\n",
    "\n",
    "Ważną rolę w rozwiązwyaniu zagadnień algebry liniowej pełnią `wektory ortogonalne` (w $\\mathbb{R}^2$ nazywane prostopadłymi). Wektory $x, y \\in \\mathbb{R}^n$ nazywamy ortogonalnymi, jeżeli iloczyn skalarny $x \\cdot y =0.$ \n",
    "\n",
    "`Zbiór` wektorów $x1, x2, \\dots, x_m$ nazywamy `ortogonalnym`, jeżeli $x_i \\cdot x_j = 0$ dla $i, j = 1, 2, \\dots, m,$ $i\\neq j$ oraz $x_i \\cdot x_i \\neq 0.$\n",
    "\n",
    "W dalszej części kursu będą przedstawione zagadnienia, w których wykorzystywane jest pojęcie ortogonalności, teraz jednak skupiamy się tylko na iloczynie skalarnym i kącie prostym pomiędzy wektorami."
   ]
  },
  {
   "cell_type": "markdown",
   "id": "7abcd8eb-1225-436d-aed8-afb85968ac2c",
   "metadata": {},
   "source": [
    "##### **Zadanie 4** (2 pkt.)\n",
    "\n",
    "Napisz funkcję `orthodagonal_set()`, która bada, czy zadany zbiór $S$ wektorów jest ortogonalny. \n",
    "\n",
    "Danymi wejściowymi mają być wektory rzeczywiste z przestrzeni $\\mathbb{R}^n.$ \n",
    "\n",
    "Jako wynik ma być zwrócona informacja ,,Zbiór ortogonalny\", jeżeli wszystkie podane wektory są wzajemnie ortogonalne, w przeciwnym przypadku ma być zwrócony ,,Nieortogonalny zbiór\"."
   ]
  },
  {
   "cell_type": "code",
   "execution_count": 46,
   "id": "f81770c0-e7b8-43ef-af4c-5503b950abcd",
   "metadata": {},
   "outputs": [
    {
     "name": "stdout",
     "output_type": "stream",
     "text": [
      "Zbiór ortogonalny\n"
     ]
    }
   ],
   "source": [
    "def orthogonal_set(vectors):\n",
    "    \n",
    "    # UMIEŚĆ SWÓJ KOD TUTAJ\n",
    "    for i in range(len(S)):\n",
    "        for j in range(i + 1, len(S)):\n",
    "            dot_product = np.dot(S[i], S[j])\n",
    "            if dot_product != 0:\n",
    "                return \"Nieortogonalny zbiór\"\n",
    "    return \"Zbiór ortogonalny\"\n",
    "\n",
    "S = [np.array([0, 0, 1]), np.array([0, 1, 0]), np.array([1, 0, 0])]\n",
    "print(orthogonal_set(S))"
   ]
  },
  {
   "cell_type": "markdown",
   "id": "dfb568d9-4da9-4b75-901c-248885320835",
   "metadata": {},
   "source": [
    "Przypadek testowy 1:\n",
    "\n",
    "```python\n",
    "S = [np.array([0, 0, 1]), np.array([0, 1, 0]), np.array([1, 0, 0])]\n",
    "print(orthogonal_set(S))\n",
    "```\n",
    "\n",
    "Oczekiwany wynik:\n",
    "\n",
    "```plaintext\n",
    "Zbiór ortogonalny\n",
    "```\n",
    "\n",
    "Przypadek testowy 2:\n",
    "\n",
    "```python\n",
    "S = [np.array([0, 0, 1]), np.array([0, 1, 0]), np.array([0, 2, -3])]\n",
    "print(orthogonal_set(S))\n",
    "```\n",
    "\n",
    "Oczekiwany wynik:\n",
    "\n",
    "```plaintext\n",
    "Nieortogonalny zbiór\n",
    "```\n",
    "\n",
    "**Uwaga** Wróćmy jeszcze do zadania pierwszego i zagadnienia badania podobieństwa dźwięków. Ze wzoru na kosinus kąta między wektorami o ustalonej długości  \n",
    "$$\n",
    "\\cos(\\psi) = \\frac{|  x\\cdot y |}{\\sqrt{|x\\cdot x|}\\sqrt{|y\\cdot y|}}\n",
    "$$\n",
    "wynika, że kosinus tego kąta jest największy, gdy iloczyn skalarny jest największy. Kosinus jest największy, gdy kąt między wektorami wynosi $0$ lub $180$ stopni. Zatem kosinus kąta między wektorami jest nawjększy, gdy wektory te są równoległe, czyli jeden z nich jest przeskalowaniem drugiego. To wyjaśnia, dlaczego stwierdzając podobieństwo dźwięków badamy wielkość iloczynu skalarnego - dźwięki podobne mają przeskalowane amplitudy (sample), z których jedna jest przeskalowaniem drugiej.  "
   ]
  },
  {
   "cell_type": "markdown",
   "id": "34352fee-be18-468e-a605-4cf784ed4937",
   "metadata": {},
   "source": [
    "#### Norma wektorowa jako ,,miara\" odległości wektorów"
   ]
  },
  {
   "cell_type": "markdown",
   "id": "c812ec80-7d6b-45ba-8d9f-9734d9ec49b5",
   "metadata": {},
   "source": [
    "Przypomnijmy najpierw definicję normy wektorowej oraz trzy podstawowe normy wektorowe (to kolejna dzisiaj aksjomatyczna definicja funkcji).\n",
    "\n",
    "Odwzorowanie\n",
    "$$\n",
    "\\|\\cdot\\| \\colon \\mathbb{R}^n \\rightarrow \\mathbb{R}\n",
    "$$\n",
    "nazywamy `normą wektorową` jeżeli dla każdego $x,y \\in \\mathbb{R}^n$ i $\\alpha \\in \\mathbb{R}$ \n",
    "spełnione są następujące warunki\n",
    "1. $\\|x\\|\\geq 0$, a $\\|x\\|= 0$ wtedy i tylko wtedy, gdy $x=\\Theta$\n",
    "2. $\\|\\alpha x\\|= |\\alpha| \\|x\\|$\n",
    "3. $\\|x+y\\|\\leq \\|x\\|+\\|y\\|$\n",
    "\n",
    "**UWAGA** Normę można również zdefiniować dla innych przestrzeni wektorowych nad danym ciałem.\n",
    "\n",
    "Podstawowe normy wektorowe to \n",
    "1. `norma pierwsza` \n",
    "$$\\|x\\|_1=\\sum_{i=1}^n |x_i|\n",
    "$$\n",
    "2. `norma eudklidesowa`  \n",
    "$$\\|x\\|_2=\\sqrt{\\sum_{i=1}^n |x_i|^2}\n",
    "$$\n",
    "3. `norma maksimum` nazywana normą `nieskończoność`\n",
    "$$\\|x\\|_{\\infty}=\\max_{1\\leq i \\leq n} |x_i|\n",
    "$$\n",
    "\n",
    "**UWAGA** Zauważmy, że między iloczynem skalarnym, a normą euklidesową występuje następująca zależność\n",
    "$$x\\cdot x = \\|x\\|^2_2$$"
   ]
  },
  {
   "cell_type": "markdown",
   "id": "fa2c2473-1b10-45a1-878d-4cc1e78a5f5f",
   "metadata": {},
   "source": [
    "`Odległość` $d(x,y)$ pomiędzy dwoma wektorami w przestrzeni z normą  definiujemy następująco\n",
    "$$\n",
    "d(x,y)=\\|x-y\\|.\n",
    "$$"
   ]
  },
  {
   "cell_type": "markdown",
   "id": "3b65fbcb-7be5-4099-91a8-97535fc31a43",
   "metadata": {},
   "source": [
    "Zauważmy, że w zależności od wyboru normy kształt `sfery jednostkowej` w przestrzeni euklidesowej $\\mathbb{R}^2$ nie musi być taki, jak ten, z którym  jesteśmy zaznajomieni ze szkoły.\n",
    "\n",
    "Sferę jednostkową w [przestrzeni metrycznej](https://pl.wikipedia.org/wiki/Przestrze%C5%84_metryczna) $(\\mathbb{R}^n, \\|\\cdot \\|_{\\gamma}$) definiujemy następująco\n",
    "$$\n",
    "S_{\\gamma} = \\{x \\in \\mathbb{R}^n\\colon \\|x \\|_{\\gamma} = 1\\}\n",
    "$$"
   ]
  },
  {
   "attachments": {
    "86009108-25fc-4873-b54d-ad3c4c3a9f58.png": {
     "image/png": "[encoded data removed]"
    }
   },
   "cell_type": "markdown",
   "id": "9d844603-f988-480d-b3b1-5e74f1ba931f",
   "metadata": {},
   "source": [
    "W przestrzeni $(\\mathbb{R}^n, \\|\\cdot \\|_1)$ sfera jednostkowa jest postaci\n",
    "\n",
    "![image.png](attachment:86009108-25fc-4873-b54d-ad3c4c3a9f58.png)"
   ]
  },
  {
   "attachments": {
    "71325058-e228-4434-b5bd-a59f90180fad.png": {
     "image/png": "[encoded data removed]"
    }
   },
   "cell_type": "markdown",
   "id": "cca366cc-fa1e-43dd-b7c4-cc147c32c681",
   "metadata": {},
   "source": [
    "W przestrzeni $(\\mathbb{R}^n, \\|\\cdot \\|_2)$ sfera jednostkowa jest postaci\n",
    "\n",
    "![image.png](attachment:71325058-e228-4434-b5bd-a59f90180fad.png)"
   ]
  },
  {
   "attachments": {
    "ddf6dc74-fa0a-4897-b725-2a4ee9e93297.png": {
     "image/png": "[encoded data removed]"
    }
   },
   "cell_type": "markdown",
   "id": "7e36750a-940b-4742-a15f-dfed386ff694",
   "metadata": {},
   "source": [
    "W przestrzeni $(\\mathbb{R}^n, \\|\\cdot \\|_{\\infty})$ sfera jednostkowa jest postaci\n",
    "\n",
    "![image.png](attachment:ddf6dc74-fa0a-4897-b725-2a4ee9e93297.png)"
   ]
  },
  {
   "cell_type": "markdown",
   "id": "345eb3da-58b3-4988-a5ee-43dec3ec7f91",
   "metadata": {},
   "source": [
    "Przejdźmy teraz do następnego zadania. Zauważmy, że chcąc sprawdzić, czy otrzymane rozwiązanie $\\widetilde{x}$ układu równań $Ax=b$ jest bliskie dokładnemu rozwiązaniu $x$ należy policzyć normę wektora reszt $r$ (residuum), czyli  $\\|r\\|=\\|A\\widetilde{x}-b\\|.$ "
   ]
  },
  {
   "cell_type": "markdown",
   "id": "add02f91-c995-4f60-bdea-da0d4d0b8bf4",
   "metadata": {},
   "source": [
    "##### **Zadanie 5** (2 pkt.)\n",
    "\n",
    "Napisz funkcję `norm_res()`, która dla zadanej macierzy rzeczywistej $A$ stopnia $n$ i wektora rozwiązań $x$ wygeneruje prawą stronę układu równań $b.$ Następnie oblicz normę euklidesową wektora residualego, przyjmując jako rozwiązanie wektor $y$  będący zaburzonym wektorem $x$. Zaburzenie wykonaj następująco: dla zadanego $\\alpha\\in(0,0.1)$ elementy wektora $y$ mają być obliczane według wzoru\n",
    "\n",
    "$$y_i = x_i + (-1)^i\\Big (\\frac{\\alpha x_i}{\\log_2(i+1)}\\Big )$$ \n",
    "\n",
    "dla $i=1, 2, \\dots, n$.\n",
    "\n",
    "Danymi wejściowymi mają być:\n",
    "\n",
    "1. macierz $A$,\n",
    "2. wektor rozwiązań $x$,\n",
    "3. norma, w której zostanie obliczony wektor residualny; podana jako wartość liczbowa:\n",
    "  * `1` - pierwsza,\n",
    "  * `2` - euklidesowa,\n",
    "  * `3` - maksimum.\n",
    "4. $\\alpha$.\n",
    "\n",
    "Jako wynik mają być zwrócone:\n",
    "\n",
    "1. wektor $y$,\n",
    "2. norma wektora residualnego $Ay-b$."
   ]
  },
  {
   "cell_type": "code",
   "execution_count": 58,
   "id": "b13ed379-9074-421c-bb99-206976caee3d",
   "metadata": {},
   "outputs": [
    {
     "name": "stdout",
     "output_type": "stream",
     "text": [
      "[0.91       1.05678368 0.955      1.03876089]\n",
      "0.32491502950116685\n"
     ]
    }
   ],
   "source": [
    "import numpy as np\n",
    "import numpy.linalg as la\n",
    "import math\n",
    "\n",
    "def norm_res(A, x, norm_kind, alpha):\n",
    "    \n",
    "    # UMIEŚĆ SWÓJ KOD TUTAJ\n",
    "    b = np.dot(A, x)\n",
    "    y = np.zeros_like(x, dtype=float)\n",
    "    for i in range(len(x)):\n",
    "        c = ((-1)**(i+1)) * (alpha * x[i] / math.log2(i + 2))\n",
    "        y[i] = x[i] + c\n",
    "\n",
    "    r = A @ y - b\n",
    "    if norm_kind == 1:\n",
    "        norma = np.sum(np.abs(r))\n",
    "    elif norm_kind == 2:\n",
    "        norma = la.norm(r)\n",
    "    elif norm_kind == 3:\n",
    "        norma = np.max(np.abs(r))\n",
    "    else:\n",
    "        print(\"Niepoprawny typ normy. Wybierz 1, 2 lub 3.\")\n",
    "        exit(-1)\n",
    "    return y, norma\n",
    "\n",
    "A = np.array([[1, 1, 1, 1], [2, 3, 3, -2], [-1, 1, -1, 1], [0, 0, 0, 1]])\n",
    "x = np.array([1, 1, 1, 1])\n",
    "norm_kind = 2\n",
    "alpha = 0.09\n",
    "\n",
    "y, rn = norm_res(A, x, norm_kind, alpha)\n",
    "print(y)\n",
    "print(rn)"
   ]
  },
  {
   "cell_type": "markdown",
   "id": "94696acb-c247-40e1-8f27-6ebf33ee4b0d",
   "metadata": {},
   "source": [
    "W poniższych przypadkach testowych wystarczy, że wyniki będą zgodne do co najmniej czwartego miejsca dziesiętnego.\n",
    "\n",
    "Przypadek testowy 1:\n",
    "\n",
    "```python\n",
    "A = np.array([[1, 1, 1, 1], [2, 3, 3, -2], [-1, 1, -1, 1], [0, 0, 0, 1]])\n",
    "x = np.array([1, 1, 1, 1])\n",
    "norm_kind = 2\n",
    "alpha = 0.09\n",
    "\n",
    "y, rn = norm_res(A, x, norm_kind, alpha)\n",
    "print(y)\n",
    "print(rn)\n",
    "```\n",
    "\n",
    "Oczekiwany wynik:\n",
    "\n",
    "```plaintext\n",
    "[0.91       1.05678368 0.955      1.03876089]\n",
    "0.32491502950116685\n",
    "```"
   ]
  },
  {
   "cell_type": "markdown",
   "id": "d0939cca-f10f-42bc-b48f-fdaa9648a2ce",
   "metadata": {},
   "source": [
    "Przypadek testowy 2:\n",
    "\n",
    "```python\n",
    "A = np.array([[1, 1, 1, 1], [2, 3, 3, -2], [-1, 1, -1, 1], [0, 0, 0, 1]])\n",
    "x = np.array([1, 1, 1, 1])\n",
    "norm_kind = 2\n",
    "alpha = 0.02\n",
    "\n",
    "y, rn = norm_res(A, x, norm_kind, alpha)\n",
    "print(y)\n",
    "print(rn)\n",
    "```\n",
    "\n",
    "Oczekiwany wynik:\n",
    "\n",
    "```plaintext\n",
    "[0.98       1.0126186  0.99       1.00861353]\n",
    "0.07220333988914822\n",
    "```"
   ]
  },
  {
   "cell_type": "markdown",
   "id": "7fd94f79-7d6a-4e94-bb5d-9899228a1acd",
   "metadata": {},
   "source": [
    "Przypadek testowy 3:\n",
    "\n",
    "```python\n",
    "A = np.array([[1, 1, 1, 1], [2, 3, 3, -2], [-1, 1, -1, 1], [0, 0, 0, 1]])\n",
    "x = np.array([-1, 1, -1, 1])\n",
    "norm_kind = 2\n",
    "alpha = 0.09\n",
    "\n",
    "y, rn = norm_res(A, x, norm_kind, alpha)\n",
    "print(y)\n",
    "print(rn)\n",
    "```\n",
    "\n",
    "Oczekiwany wynik:\n",
    "\n",
    "```plaintext\n",
    "[-0.91        1.05678368 -0.955       1.03876089]\n",
    "0.4717357684018764\n",
    "```"
   ]
  },
  {
   "cell_type": "markdown",
   "id": "8436e563-1a9c-4890-808a-b439f3f8a8a0",
   "metadata": {},
   "source": [
    "Przypadek testowy 4:\n",
    "\n",
    "```python\n",
    "A = np.array([[1, 1, 1, 1], [2, 3, 3, -2], [-1, 1, -1, 1], [0, 0, 0, 1]])\n",
    "x = np.array([-1, 1, -1, 1])\n",
    "norm_kind = 1\n",
    "alpha = 0.09\n",
    "\n",
    "y, rn = norm_res(A, x, norm_kind, alpha)\n",
    "print(y)\n",
    "print(rn)\n",
    "```\n",
    "\n",
    "Ooczekiwany wynik:\n",
    "\n",
    "```plaintext\n",
    "[-0.91        1.05678368 -0.955       1.03876089]\n",
    "0.7165901432376884\n",
    "```"
   ]
  },
  {
   "cell_type": "markdown",
   "id": "f9a53db8-1676-4344-b026-83e26b4bb21f",
   "metadata": {},
   "source": [
    "Przypadek testowy 5:\n",
    "\n",
    "```python\n",
    "A = np.array([[1, 1, 1, 1], [2, 3, 3, -2], [-1, 1, -1, 1], [0, 0, 0, 1]])\n",
    "x = np.array([-1, 1, -1, 1])\n",
    "norm_kind = 3 # max\n",
    "alpha = 0.09\n",
    "\n",
    "y, rn = norm_res(A, x, norm_kind, alpha)\n",
    "print(y)\n",
    "print(rn)\n",
    "```\n",
    "\n",
    "Oczekiwany wynik:\n",
    "\n",
    "```plaintext\n",
    "[-0.91        1.05678368 -0.955       1.03876089]\n",
    "0.4078292530110832\n",
    "```"
   ]
  },
  {
   "cell_type": "markdown",
   "id": "6c2e4a64-d9d7-4fd4-a236-83c8edcd3e20",
   "metadata": {},
   "source": [
    "----\n",
    "\n",
    "Literatura:\n",
    "\n",
    "1. Klein P.N., *Coding the matrix: linear algebra through the computer science applications*, Newtonian Press (2013)."
   ]
  }
 ],
 "metadata": {
  "kernelspec": {
   "display_name": ".venv",
   "language": "python",
   "name": "python3"
  },
  "language_info": {
   "codemirror_mode": {
    "name": "ipython",
    "version": 3
   },
   "file_extension": ".py",
   "mimetype": "text/x-python",
   "name": "python",
   "nbconvert_exporter": "python",
   "pygments_lexer": "ipython3",
   "version": "3.13.3"
  }
 },
 "nbformat": 4,
 "nbformat_minor": 5
}
