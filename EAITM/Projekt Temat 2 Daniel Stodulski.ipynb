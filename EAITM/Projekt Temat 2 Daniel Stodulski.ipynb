{
 "cells": [
  {
   "cell_type": "markdown",
   "id": "356970f8",
   "metadata": {},
   "source": [
    "# Temat"
   ]
  },
  {
   "cell_type": "markdown",
   "id": "e99914b5",
   "metadata": {},
   "source": [
    "Opisz działanie testu pierwszości Millera-Rabina i zaimplementuj go. W przypadku, gdy\n",
    "ten test zwróci <b>FALSE</b> mamy pewność, że dana liczba jest złożona - wyjaśnij dlaczego.\n",
    "Przedstaw działanie testu Millera-Rabina na losowo wygenerowanych liczbach nie mniejszych\n",
    "od 105\n",
    "(wykorzystaj wbudowaną funkcję do generowania liczb pseudolosowych). Wykonaj\n",
    "ten test tyle razy, by prawdopodobieństwo błędu było mniejsze od 10−6\n",
    ". Przykłady wykonaj\n",
    "za pomocą programu SageMath. Część informacji na ten temat znajdziesz w rozdziale 2.4\n",
    "książki https://wstein.org/ent/ent.pdf\n"
   ]
  },
  {
   "cell_type": "markdown",
   "id": "04375829",
   "metadata": {},
   "source": [
    "## Czym jest test Millera-Rabina?"
   ]
  },
  {
   "cell_type": "markdown",
   "id": "a3e25161",
   "metadata": {},
   "source": []
  },
  {
   "cell_type": "markdown",
   "id": "6fb14a37",
   "metadata": {},
   "source": [
    "## Implementacjia w SageMath'ie"
   ]
  },
  {
   "cell_type": "code",
   "execution_count": 17,
   "id": "b8f1ddf9",
   "metadata": {},
   "outputs": [],
   "source": [
    "def miller_rabin_test(n, k=5):\n",
    "    if n < 2:\n",
    "        return False\n",
    "    if n in [2, 3]:\n",
    "        return True\n",
    "    if n % 2 == 0:\n",
    "        return False\n",
    "\n",
    "    r, d = 0, n - 1\n",
    "    while d % 2 == 0:\n",
    "        d //= 2\n",
    "        r += 1\n",
    "\n",
    "    for _ in range(k):\n",
    "        a = randint(2, n - 2)\n",
    "        x = power_mod(a, d, n)\n",
    "        if x == 1 or x == n - 1:\n",
    "            continue\n",
    "        for _ in range(r - 1):\n",
    "            x = power_mod(x, 2, n)\n",
    "            if x == n - 1:\n",
    "                break\n",
    "        else:\n",
    "            return False\n",
    "    return True\n"
   ]
  },
  {
   "cell_type": "markdown",
   "id": "302d9a6b",
   "metadata": {},
   "source": [
    "### Test Losowej liczby"
   ]
  },
  {
   "cell_type": "code",
   "execution_count": 18,
   "id": "d7817573",
   "metadata": {},
   "outputs": [
    {
     "name": "stdout",
     "output_type": "stream",
     "text": [
      "Liczba: 663252\n",
      "Testy: 5\n",
      "Wynik: False\n"
     ]
    }
   ],
   "source": [
    "liczba = randint(105, 10^6)\n",
    "testy = 5\n",
    "print(\"Liczba:\", liczba)\n",
    "print(\"Testy:\", testy)\n",
    "\n",
    "wynik = miller_rabin_test(liczba, testy)\n",
    "print(\"Wynik:\", wynik)"
   ]
  },
  {
   "cell_type": "markdown",
   "id": "96acd435",
   "metadata": {},
   "source": [
    "### Liczby Pierwsze w przedziale według millera rabina"
   ]
  },
  {
   "cell_type": "code",
   "execution_count": 19,
   "id": "44215c66",
   "metadata": {},
   "outputs": [],
   "source": [
    "import sys\n",
    "\n",
    "def progress_bar(current, total, bar_length=40):\n",
    "    percent = float(current) / float(total)\n",
    "    done = int(bar_length * percent)\n",
    "    sys.stdout.write('\\r[{}{}] {:.1f}%'.format(\n",
    "        '=' * done, ' ' * (bar_length - done), percent * 100))\n",
    "    sys.stdout.flush()\n",
    "    if current == total:\n",
    "        print()"
   ]
  },
  {
   "cell_type": "code",
   "execution_count": 22,
   "id": "3ed373db",
   "metadata": {},
   "outputs": [
    {
     "name": "stdout",
     "output_type": "stream",
     "text": [
      "Bound: (2, 1000)\n",
      "Testy: 1000\n",
      "[========================================] 100.0%\n",
      "Wyniki:  [2, 3, 5, 7, 11, 13, 17, 19, 23, 29, 31, 37, 41, 43, 47, 53, 59, 61, 67, 71, 73, 79, 83, 89, 97, 101, 103, 107, 109, 113, 127, 131, 137, 139, 149, 151, 157, 163, 167, 173, 179, 181, 191, 193, 197, 199, 211, 223, 227, 229, 233, 239, 241, 251, 257, 263, 269, 271, 277, 281, 283, 293, 307, 311, 313, 317, 331, 337, 347, 349, 353, 359, 367, 373, 379, 383, 389, 397, 401, 409, 419, 421, 431, 433, 439, 443, 449, 457, 461, 463, 467, 479, 487, 491, 499, 503, 509, 521, 523, 541, 547, 557, 563, 569, 571, 577, 587, 593, 599, 601, 607, 613, 617, 619, 631, 641, 643, 647, 653, 659, 661, 673, 677, 683, 691, 701, 709, 719, 727, 733, 739, 743, 751, 757, 761, 769, 773, 787, 797, 809, 811, 821, 823, 827, 829, 839, 853, 857, 859, 863, 877, 881, 883, 887, 907, 911, 919, 929, 937, 941, 947, 953, 967, 971, 977, 983, 991, 997]\n"
     ]
    }
   ],
   "source": [
    "T = []\n",
    "bound = (2, 10^3)\n",
    "testy = 10^3\n",
    "print(\"Bound:\", bound)\n",
    "print(\"Testy:\", testy)\n",
    "for i in range(bound[0], bound[1]):\n",
    "  if(miller_rabin_test(i , testy)):\n",
    "    T.append(i)\n",
    "  progress_bar(i - bound[0] + 1, bound[1] - bound[0])\n",
    "\n",
    "print(\"Wyniki: \", T)"
   ]
  }
 ],
 "metadata": {
  "kernelspec": {
   "display_name": "SageMath 10.6",
   "language": "sage",
   "name": "sagemath"
  },
  "language_info": {
   "codemirror_mode": {
    "name": "ipython",
    "version": 3
   },
   "file_extension": ".py",
   "mimetype": "text/x-python",
   "name": "python",
   "nbconvert_exporter": "python",
   "pygments_lexer": "ipython3",
   "version": "3.12.5"
  }
 },
 "nbformat": 4,
 "nbformat_minor": 5
}
