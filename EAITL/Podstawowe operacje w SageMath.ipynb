{
 "cells": [
  {
   "cell_type": "markdown",
   "metadata": {},
   "source": [
    "# Podstawowe operacje w programie SageMath"
   ]
  },
  {
   "cell_type": "markdown",
   "metadata": {},
   "source": [
    "## 1. Wstęp"
   ]
  },
  {
   "cell_type": "markdown",
   "metadata": {},
   "source": [
    "Ten zestaw jest przygotowany w oparciu o https://mosullivan.sdsu.edu/sagetutorial/index.html. Aby wykonać kolejne ćwiczenia czasami trzeba będzie najpierw zapoznać się z informacjami podanymi na odpowiednich podstronach. Pod każdym ćwiczeniem będzie umieszczone okienko, w którym trzeba będzie wpisać odpowiednią komendę dla programu SageMath. Aby ta komenda została wykonana można użyć klawiatury, przytrzymując jednocześnie przyciski `SHIFT` i `ENTER` lub użyć przycisku `Run` na  górze ekranu (w obu przypadkach kursor musi znajdować się wewnątrz danego okienka)."
   ]
  },
  {
   "cell_type": "markdown",
   "metadata": {},
   "source": [
    "**Przykład:** Spróbuj wykonać następującą komendę."
   ]
  },
  {
   "cell_type": "code",
   "execution_count": null,
   "metadata": {},
   "outputs": [],
   "source": [
    "2*(1+2^3)\n",
    "# Wciśnij SHIFT ENTER."
   ]
  },
  {
   "cell_type": "markdown",
   "metadata": {},
   "source": [
    "Znak `#` użyty powyżej rozpoczyna komentarz. Cokolwiek zostanie po tym znaku napisane, nie będzie odczytywane/kompilowane przez program SageMath."
   ]
  },
  {
   "cell_type": "markdown",
   "metadata": {},
   "source": [
    "Program SageMath to nie tylko prosty kalkulator. Jest wyposażony również w wiele funkcji, które pozwalają wykonać wiele obliczeń matematycznych. Nazwy tych funkcji często wywodzą się z ich nazw angielskich i mogą być łatwo odszyfrowane. **Na przykład**, największy wspólny dzielnik po angielsku to *greatest common divisor*. To pozwala przypuszczać, że komenda obliczająca NWD danych liczb rozpoczyna się od litery g; być może jest to `gcd`. Aby sprawdzić czy to przypuszczenie jest prawdziwe, wpisujemy `g` i na klawiaturze naciskamy `TAB` (można też użyć przycisku `Tab` na  górze ekranu)."
   ]
  },
  {
   "cell_type": "markdown",
   "metadata": {},
   "source": [
    "**Przykład:** Zobacz co się stanie gdy umieścisz kursor w poniższym oknie i przyciśniesz `TAB`."
   ]
  },
  {
   "cell_type": "code",
   "execution_count": null,
   "metadata": {},
   "outputs": [],
   "source": [
    "g\n",
    "# Przyciśnij TABULATOR."
   ]
  },
  {
   "cell_type": "markdown",
   "metadata": {},
   "source": [
    "Po przyciśnięciu `TAB` powyżej, pojawiło się wiele funkcji. Między innymi były tam `gcd` i `get_gcd`. Aby sprawdzić czy któraś z nich oblicza NWD danych liczb, wpisujemy daną komendę zakończoną znakiem `?` i przyciskamy `SHIFT` `ENTER`. Wtedy pojawi się bardzo dokładny opis tej komendy."
   ]
  },
  {
   "cell_type": "markdown",
   "metadata": {},
   "source": [
    "**Przykład:** Zobacz co się stanie gdy umieścisz kursor w poniższym oknie i przyciśniesz `SHIFT` `ENTER`."
   ]
  },
  {
   "cell_type": "code",
   "execution_count": null,
   "metadata": {},
   "outputs": [],
   "source": [
    "gcd?\n",
    "# Wciśnij SHIFT ENTER."
   ]
  },
  {
   "cell_type": "markdown",
   "metadata": {},
   "source": [
    "Widzimy, że rzeczywiście, `gcd` jest szukaną funkcją. Zwróć uwagę na to, że w opisie pojawiają się również przykłady jak jej używać. Można się również dowiedzieć jak obliczyć największy wspólny dzielnik skończenie wielu liczb."
   ]
  },
  {
   "cell_type": "markdown",
   "metadata": {},
   "source": [
    "**Przykład:** Oblicz NWD(120,32). Czy potrafisz obliczyć największy wspólny dzielnik liczb 120, 32 i 996 przy użyciu SageMath?"
   ]
  },
  {
   "cell_type": "code",
   "execution_count": null,
   "metadata": {},
   "outputs": [],
   "source": [
    "gcd(120,32)"
   ]
  },
  {
   "cell_type": "markdown",
   "metadata": {},
   "source": [
    "** **"
   ]
  },
  {
   "cell_type": "markdown",
   "metadata": {},
   "source": [
    "Czasami wygodnie wyświetlić jest kilka wielkości lub znaków obok siebie. Można to zrobić na kilka sposobów, **na przykład**:"
   ]
  },
  {
   "cell_type": "code",
   "execution_count": null,
   "metadata": {},
   "outputs": [],
   "source": [
    "2+2, 2*4, 'a' # To jest jeden z częstszych sposobów.\n",
    "# Wciśnij SHIFT ENTER."
   ]
  },
  {
   "cell_type": "code",
   "execution_count": null,
   "metadata": {},
   "outputs": [],
   "source": [
    "2+2\n",
    "2*4\n",
    "'a'"
   ]
  },
  {
   "cell_type": "markdown",
   "metadata": {},
   "source": [
    "Zwróć uwagę na różnice pomiędzy dwoma zapisami powyżej. Sprawdź, że dopisanie przecinków powyżej nic nie zmieni."
   ]
  },
  {
   "cell_type": "code",
   "execution_count": null,
   "metadata": {},
   "outputs": [],
   "source": [
    "print(2+2, 2*4, 'a') # To jest jeden z częstszych sposobów."
   ]
  },
  {
   "cell_type": "code",
   "execution_count": null,
   "metadata": {},
   "outputs": [],
   "source": [
    "show(2+2, 2*4, 'a') # To jest jeden z częstszych sposobów."
   ]
  },
  {
   "cell_type": "code",
   "execution_count": null,
   "metadata": {},
   "outputs": [],
   "source": [
    "[2+2, 2*4, 'a'] # Nawiasy [ ] oznaczają, że utworzyliśmy listę składającą się z trzech elementów."
   ]
  },
  {
   "cell_type": "markdown",
   "metadata": {},
   "source": [
    "Zauważmy, że w każdym wypadku jednocześnie wykonywane są odpowiednie komendy.  \n",
    "**Ćwiczenie:** Zobacz co się stanie, gdy powyżej zamienisz `'a'` przez `a`."
   ]
  },
  {
   "cell_type": "markdown",
   "metadata": {},
   "source": [
    "\n",
    "## 2. SageMath jako kalkulator"
   ]
  },
  {
   "cell_type": "markdown",
   "metadata": {},
   "source": [
    "W tej części przydatne mogą być wyjaśnienia, które można znaleźć na stronie https://mosullivan.sdsu.edu/sagetutorial/sagecalc.html."
   ]
  },
  {
   "cell_type": "markdown",
   "metadata": {},
   "source": [
    "Symbole dodawania, odejmowania, mnożenia, dzielenia, potęgowania: $\\quad +\\;$, $\\quad -\\;$,$\\quad *\\;$, $\\quad /\\;$, $\\quad ^\\wedge$  \n",
    "Czasami kolejność wykonywania działań trzeba określić poprzez zastosowanie nawiasów: $\\quad (\\quad )$"
   ]
  },
  {
   "cell_type": "markdown",
   "metadata": {},
   "source": [
    "Aby otrzymać wynik w postaci dziesiętnej: albo jeden z argumentów powinien być liczbą dziesiętną albo całe wyrażenie powinno być zapisane w nawiasach i zakończone komendą `.n()`."
   ]
  },
  {
   "cell_type": "markdown",
   "metadata": {},
   "source": [
    "**Przykład:** Dwa sposoby zapisu ułamka $\\frac{7}{10}$ w postaci dziesiętnej."
   ]
  },
  {
   "cell_type": "code",
   "execution_count": null,
   "metadata": {},
   "outputs": [],
   "source": [
    "print(7/10, '=', 7.0/10, '=', (7/10).n())\n",
    "# Wciśnij SHIFT ENTER."
   ]
  },
  {
   "cell_type": "markdown",
   "metadata": {},
   "source": [
    "Uwaga: Powyżej można też napisać po prostu `7.` zamiast `7.0`. Sprawdź to!"
   ]
  },
  {
   "cell_type": "markdown",
   "metadata": {},
   "source": [
    "Uwaga: Zauważ, że w SageMath stosuje się angielski zapis liczb. To oznacza, że w zapisie dziesiętnym część ułamkowa liczby jest zapisywana po kropce, a nie po przecinku."
   ]
  },
  {
   "cell_type": "markdown",
   "metadata": {},
   "source": [
    "**Zadanie 2.1** Oblicz w kolejnych oknach następujące wielkości:"
   ]
  },
  {
   "cell_type": "markdown",
   "metadata": {},
   "source": [
    "**a).** $\\qquad \\frac{280}{2^4+5\\cdot 3}\\quad$ jako ułamek zwykły"
   ]
  },
  {
   "cell_type": "code",
   "execution_count": null,
   "metadata": {},
   "outputs": [],
   "source": []
  },
  {
   "cell_type": "markdown",
   "metadata": {},
   "source": [
    "**b).** $\\qquad \\frac{280}{2^4+5\\cdot 3}\\quad$ jako ułamek dziesiętny"
   ]
  },
  {
   "cell_type": "code",
   "execution_count": null,
   "metadata": {},
   "outputs": [],
   "source": []
  },
  {
   "cell_type": "markdown",
   "metadata": {},
   "source": [
    "**c\\).** $\\qquad \\sqrt{2}\\quad$ jako ułamek dziesiętny, wykorzystując funkcję $\\;$ `sqrt( )`$\\qquad$ \\(pierwiastek po ang.:$\\;$ square root $\\;$\\)\n"
   ]
  },
  {
   "cell_type": "code",
   "execution_count": null,
   "metadata": {},
   "outputs": [],
   "source": []
  },
  {
   "cell_type": "markdown",
   "metadata": {},
   "source": [
    "**Zadanie 2.2** Poszukaj komend za pomocą, których obliczysz: wartość bezwględną, podłogę lub sufit danej liczby. Sprawdź ich działanie na przykładzie liczby $-15.7$ . \n",
    "\n",
    "(*Podłogą* lub *częścią całkowitą* liczby $x$ nazywamy największą liczbę całkowitą nie większą od $x$. *Sufitem* liczby $x$ nazywamy najmniejszą liczbę całkowitą nie mniejszą od $x$.)"
   ]
  },
  {
   "cell_type": "code",
   "execution_count": null,
   "metadata": {},
   "outputs": [],
   "source": []
  },
  {
   "cell_type": "markdown",
   "metadata": {},
   "source": [
    "## 3. Listy"
   ]
  },
  {
   "cell_type": "markdown",
   "metadata": {},
   "source": [
    "Jak widzieliśmy pod koniec części 1. Wstęp, w SageMath można tworzyć listy. Więcej na ten temat można przeczytać na stronie https://mosullivan.sdsu.edu/sagetutorial/sageprog.html pod nagłówkiem *Lists* oraz (w bardziej zaawansowanej postaci) *List Comprehensions (Loops in Lists)*. Szczególnie przydatną komendą jest `append()`, która pozwala dopisać element na końcu listy. Dzięki temu możemy tworzyć listy nieznanych na początku rozmiarów i odwoływać się do nich podczas pisania bardziej skomplikowanych programów, które wykorzystują pętle takie jak np. `while` lub `for`."
   ]
  },
  {
   "cell_type": "markdown",
   "metadata": {},
   "source": [
    "**Przykłady:**"
   ]
  },
  {
   "cell_type": "code",
   "execution_count": null,
   "metadata": {},
   "outputs": [],
   "source": [
    "[1,2,..,8]\n",
    "# Wciśnij SHIFT ENTER."
   ]
  },
  {
   "cell_type": "code",
   "execution_count": null,
   "metadata": {},
   "outputs": [],
   "source": [
    "L=[k for k in range(5)] # W SageMath numeracja zaczyna się od zera\n",
    "M=[k for k in srange(2,5)]\n",
    "print('L = ',L); print('M = ',M) # średnik pozwala napisać dwa fragmenty kodu w tej samej linii"
   ]
  },
  {
   "cell_type": "code",
   "execution_count": null,
   "metadata": {},
   "outputs": [],
   "source": [
    "[k for k in [1,2,..,50] if 7.divides(k)] \n",
    "# Lista składająca się z liczb całkowitych ze zbioru {1, 2, ..., 50}, które są podzielne przez 7."
   ]
  },
  {
   "cell_type": "markdown",
   "metadata": {},
   "source": [
    "**Zadanie 3.1** "
   ]
  },
  {
   "cell_type": "markdown",
   "metadata": {},
   "source": [
    "**a).** Utwórz listę $L$ składającą się z liczb postaci $1,\\, 2^3, \\, 3^3,\\, \\ldots,\\, 10^3$."
   ]
  },
  {
   "cell_type": "code",
   "execution_count": null,
   "metadata": {},
   "outputs": [],
   "source": []
  },
  {
   "cell_type": "markdown",
   "metadata": {},
   "source": [
    "**b).** Korzystając z listy $L$, utwórz listę $P$, która składa się z tych liczb w $L$, które są parzyste."
   ]
  },
  {
   "cell_type": "code",
   "execution_count": null,
   "metadata": {},
   "outputs": [],
   "source": []
  },
  {
   "cell_type": "markdown",
   "metadata": {},
   "source": [
    "**c).** Poszerz listę $L$ o wszystkie elementy z $P$. Znajdź komendę, która podaje długość otrzymanej listy."
   ]
  },
  {
   "cell_type": "code",
   "execution_count": null,
   "metadata": {},
   "outputs": [],
   "source": []
  },
  {
   "cell_type": "markdown",
   "metadata": {},
   "source": [
    "**d).** Napisz `L.` i przyciśnij tabulator. Wtedy pojawi się lista komend, które można zastosować do listy $L$. Wybierz tę, która pozwala usunąć dany element listy. Użyj go, aby usunąć $8^3$. Wyświetl uzyskaną listę."
   ]
  },
  {
   "cell_type": "code",
   "execution_count": null,
   "metadata": {},
   "outputs": [],
   "source": []
  },
  {
   "cell_type": "markdown",
   "metadata": {},
   "source": [
    "**e).** Sprawdź działanie komend `zip(L,P)` oraz `list(zip(L,P))`.  Na czym polega działanie komendy `list`?"
   ]
  },
  {
   "cell_type": "code",
   "execution_count": null,
   "metadata": {},
   "outputs": [],
   "source": []
  },
  {
   "cell_type": "markdown",
   "metadata": {},
   "source": [
    "**Zadanie 3.2**  \n",
    "Niech $L = [1, 3, 4, [1,5,6], 8, -9]$.  "
   ]
  },
  {
   "cell_type": "markdown",
   "metadata": {},
   "source": [
    "**a).** Odwołaj się do odpowiednich komórek listy $L$ aby wyświetlić $[1,5,6]$ oraz $5$. "
   ]
  },
  {
   "cell_type": "code",
   "execution_count": null,
   "metadata": {},
   "outputs": [],
   "source": []
  },
  {
   "cell_type": "markdown",
   "metadata": {},
   "source": [
    "**b).** Usuń element $[1,5,6]$ z listy $L$. Następnie sprawdź działanie komendy `list(map(lambda x: x^3, L))`. Jak myślisz, na czym polega działanie komend `map()` i `lambda`?"
   ]
  },
  {
   "cell_type": "code",
   "execution_count": null,
   "metadata": {},
   "outputs": [],
   "source": []
  },
  {
   "cell_type": "markdown",
   "metadata": {},
   "source": [
    "## 4. Dodawanie i mnożenie modulo n "
   ]
  },
  {
   "cell_type": "markdown",
   "metadata": {},
   "source": [
    "Przypomnijmy, że dodawanie i mnożenie modulo $n$ (gdzie $n>1$ jest ustaloną liczbą naturalną) są działaniami zdefiniowanymi na zbiorze $\\mathbb{Z}_n=\\{0,1,2,\\ldots , n-1\\}$. Dla $a,b\\in \\mathbb{Z}_n$:\n",
    "$$a+b \\stackrel{def}{=} \\mbox{reszta z dzielenia } a+b \\mbox{ przez } n,$$\n",
    "$$a\\cdot b \\stackrel{def}{=} \\mbox{reszta z dzielenia } a\\cdot b \\mbox{ przez } n.$$"
   ]
  },
  {
   "cell_type": "markdown",
   "metadata": {},
   "source": [
    "W SageMath można je łatwo stosować korzystając z operacji `%`. **Na przykład**:"
   ]
  },
  {
   "cell_type": "code",
   "execution_count": null,
   "metadata": {},
   "outputs": [],
   "source": [
    "print((23+8) % 13) # wynik dodania 23 i 8 modulo 13, czyli reszta z dzielenia liczby 23 + 8 przez 13\n",
    "show((23*7) % 13) # wynik pomnożenia 23 i 7 modulo 13"
   ]
  },
  {
   "cell_type": "markdown",
   "metadata": {},
   "source": [
    "Można też bezpośrednio definiować dane liczby jako elementy zbioru $\\mathbb{Z}_n$ i wykonywać na nich operacje bez użycia `%`, **na przykład**:"
   ]
  },
  {
   "cell_type": "code",
   "execution_count": null,
   "metadata": {},
   "outputs": [],
   "source": [
    "R=Integers(137) # Definiujemy R jako zbiór {0,1,...,136} z dodawaniem i mnożeniem modulo 137.\n",
    "a=R(89)\n",
    "b=R(5)\n",
    "print(a*b)\n",
    "print(89*5 % 137)"
   ]
  },
  {
   "cell_type": "markdown",
   "metadata": {},
   "source": [
    "Więcej na ten temat można poczytać na stronie https://mosullivan.sdsu.edu/sagetutorial/mathstruct.html#integers-and-modular-arithmetic."
   ]
  },
  {
   "cell_type": "markdown",
   "metadata": {},
   "source": [
    "**Zadanie 4.1** \n",
    "\n",
    "**a).** Kod przedstawiony poniżej definiuje funkcję `add_mod`, która przyjmuje trzy argumenty: dwie liczby całkowite $a$ i $b$ oraz liczbę naturalną $n>1$, i która ma zwrócić sumę liczb $a+b$ modulo $n$. Uzupełnij go bez wykorzystywania funkcji `%`. \n",
    "\n",
    "Zwróć uwagę na to, że w SageMath są wbudowane operacje `in`, `not in`, `and`, `or`."
   ]
  },
  {
   "cell_type": "markdown",
   "metadata": {},
   "source": [
    "**Uwaga:** Przy korzystaniu z pętli `if`, `while`, `for` bardzo ważne jest utrzymywanie tych samych tabulacji."
   ]
  },
  {
   "cell_type": "code",
   "execution_count": null,
   "metadata": {},
   "outputs": [],
   "source": [
    "def add_mod(a,b,n):\n",
    "    if n not in NN: # NN oznacza zbiór liczb naturalnych\n",
    "        return print('moduł musi być liczbą naturalną')\n",
    "    if \n",
    "    # podaj warunek, który zakończy funkcję, jeśli a lub b nie jest liczbą całkowitą\n",
    "    # możesz podać dwa osobne warunki lub użyć funkcji or\n",
    "    s=a+b\n",
    "    while : # podaj warunek do pętli while (przed znakiem :) oraz co ma być wykonywane w ramach tej pętli\n",
    "    while : \n",
    "    return(s)"
   ]
  },
  {
   "cell_type": "markdown",
   "metadata": {},
   "source": [
    "**b).** Sprawdź czas działania funkcji `add_mod(a,b,n)` dla konkretnych wartości liczb $a$, $b$, $n$. Możesz to zrobić za pomocą magicznej funkcji `%timeit`. Zapytaj chat GPT o jej działanie lub o inne szczegóły, które cię interesują."
   ]
  },
  {
   "cell_type": "code",
   "execution_count": null,
   "metadata": {},
   "outputs": [],
   "source": [
    "%timeit add_mod(a, b, n) # zamień a, b, n na konkretne wartości liczbowe"
   ]
  },
  {
   "cell_type": "markdown",
   "metadata": {},
   "source": [
    "Do sprawdzenia czasu wykonywania danego kodu można też wykorzystać moduł `time` z pythona. Trzeba mieć jednak przy tym świadomość, że inne procesy wykonywane na komputerze mogą mieć wpływ na wynik funkcji `time.time()`."
   ]
  },
  {
   "cell_type": "code",
   "execution_count": null,
   "metadata": {},
   "outputs": [],
   "source": [
    "import time\n",
    "a=time.time()\n",
    "# kod, który ma być wykonywany\n",
    "\n",
    "b=time.time()\n",
    "b-a"
   ]
  },
  {
   "cell_type": "markdown",
   "metadata": {},
   "source": [
    "**c).** Zdefiniuj funkcję, która mnoży dwie liczby modulo $n$. Porównaj czas jej wykonywania z czasem wykonywania operacji `%`."
   ]
  },
  {
   "cell_type": "code",
   "execution_count": null,
   "metadata": {},
   "outputs": [],
   "source": []
  },
  {
   "cell_type": "markdown",
   "metadata": {},
   "source": [
    "\n",
    "## 5. Dodawanie i mnożenie wielomianów"
   ]
  },
  {
   "cell_type": "markdown",
   "metadata": {},
   "source": [
    "W tej części przydatne mogą być wyjaśnienia, które można znaleźć na stronie https://mosullivan.sdsu.edu/sagetutorial/mathstruct.html#polynomial-rings."
   ]
  },
  {
   "cell_type": "markdown",
   "metadata": {},
   "source": [
    "W SageMath można bezpośrednio zdefiniować pierścień wielomianów nad danym ciałem lub pierścieniem, **na przykład**:"
   ]
  },
  {
   "cell_type": "code",
   "execution_count": null,
   "metadata": {},
   "outputs": [],
   "source": [
    "R.<x>=PolynomialRing(ZZ) # ZZ oznacza pierścień liczb całkowitych\n",
    "F.<t>=PolynomialRing(GF(2)) # GF(2) oznacza 2-elementowe ciało {0,1} z dodawaniem i mnożeniem modulo 2\n",
    "# Napisy <x> i <t> wskazują tylko na oznaczenie zmiennej używanej w zbiorach R i F, odpowiednio. \n",
    "f=x^2+1\n",
    "g=t^3+1\n",
    "show(R); print(R)\n",
    "show(F); print(F)\n",
    "show(parent(f),',', f+x+1)\n",
    "show(parent(g),',', g+t+1)"
   ]
  },
  {
   "cell_type": "markdown",
   "metadata": {},
   "source": [
    "**Ćwiczenie:** Sprawdź, że dodanie dwóch elementów ze zbiorów $R$ i $F$, np. $x+t$ spowoduje błąd. SageMath wie tylko jak dodawać elementy w obrębie zbioru $R$ lub w obrębie zbioru $F$."
   ]
  },
  {
   "cell_type": "code",
   "execution_count": null,
   "metadata": {},
   "outputs": [],
   "source": []
  },
  {
   "cell_type": "markdown",
   "metadata": {},
   "source": [
    "W poniższym zadaniu będziemy chcieli samodzielnie zdefiniować dodawanie i odejmowanie wielomianów nad danym ciałem. Zrobimy to za pomocą list. Zauważmy bowiem, że wielomian $a_0+a_1x+\\ldots +a_nx^n$ jest jeddnoznacznie wyznaczony za pomocą swoich współczynników, które możemy zakodować w postaci listy $[a_0,a_1,\\ldots ,a_n]$ długości $n+1$. Będziemy przyjmować, że współczynniki wielomianu zapisane są w kolejności od współczynnika przy $x^0$ do współczynnika przy najwyższej potędze $x$."
   ]
  },
  {
   "cell_type": "markdown",
   "metadata": {},
   "source": [
    "**Zadanie 5.1**  "
   ]
  },
  {
   "cell_type": "markdown",
   "metadata": {},
   "source": [
    "**a).** Zdefiniuj funkcję, która:  \n",
    "- przyjmuje dwa argumenty: dwie listy $f$ i $g$, niekoniecznie tej samej długości;  \n",
    "- zwraca listę, która odpowiada sumie wielomianów $f$ i $g$."
   ]
  },
  {
   "cell_type": "code",
   "execution_count": null,
   "metadata": {},
   "outputs": [],
   "source": []
  },
  {
   "cell_type": "markdown",
   "metadata": {},
   "source": [
    "**b).** Korzystając z wzoru na mnożenie dwóch wielomianów:\n",
    "$$(a_0+a_1x+\\ldots +a_nx^n)(b_0+b_1x+\\ldots +b_mx^m)=\\sum_{k=0}^{m+n} \\left(\\sum_{i=0}^k a_ib_{k-i}\\right) x^k$$\n",
    "zdefiniuj funkcję, która jako argumenty przyjmuje dwie listy $f$ i $g$ (niekoniecznie tej samej długości) i zwraca listę, która odpowiada iloczynowi wielomianów $f$ i $g$."
   ]
  },
  {
   "cell_type": "code",
   "execution_count": null,
   "metadata": {},
   "outputs": [],
   "source": []
  }
 ],
 "metadata": {
  "kernelspec": {
   "display_name": "SageMath 9.3",
   "language": "sage",
   "name": "sagemath"
  },
  "language_info": {
   "codemirror_mode": {
    "name": "ipython",
    "version": 3
   },
   "file_extension": ".py",
   "mimetype": "text/x-python",
   "name": "python",
   "nbconvert_exporter": "python",
   "pygments_lexer": "ipython3",
   "version": "3.7.10"
  }
 },
 "nbformat": 4,
 "nbformat_minor": 4
}
