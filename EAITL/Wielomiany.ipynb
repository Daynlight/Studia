{
 "cells": [
  {
   "cell_type": "markdown",
   "metadata": {},
   "source": [
    "# Wielomiany nad ciałem skończonym"
   ]
  },
  {
   "cell_type": "markdown",
   "metadata": {},
   "source": [
    "Ten zestaw jest przygotowany w oparciu o rozdział 14 książki \"Modern computer algebra\" Joachima von zur Gathena i Jurgena Gerharda."
   ]
  },
  {
   "cell_type": "markdown",
   "metadata": {},
   "source": [
    "Niech $\\mathbb{F}_q$ będzie ciałem $q$-elementowym, gdzie $q$ jest potęgą liczby pierwszej. Konstrukcja tego ciała pojawiła się m.in. w części trzeciej zestawu \"Permutacje, generatory i grupy cykliczne\". Przypomnijmy, że dla ustalonego $q$ wszystkie ciała $q$-elementowe są takiej samej postaci (bardziej precyzyjnie: są ze sobą izomorficzne). W SageMath ciało $\\mathbb{F}_q$ jest już zdefiniowane za pomocą komendy `GF(q)`. \n",
    "\n",
    "Na przykład:"
   ]
  },
  {
   "cell_type": "code",
   "execution_count": 1,
   "metadata": {},
   "outputs": [
    {
     "data": {
      "text/html": [
       "<html><script type=\"math/tex; mode=display\">\\newcommand{\\Bold}[1]{\\mathbf{#1}}\\left[0, 1, 2\\right]</script></html>"
      ],
      "text/latex": [
       "$$\\newcommand{\\Bold}[1]{\\mathbf{#1}}\\left[0, 1, 2\\right]$$"
      ],
      "text/plain": [
       "[0, 1, 2]"
      ]
     },
     "metadata": {},
     "output_type": "display_data"
    },
    {
     "data": {
      "text/html": [
       "<html><script type=\"math/tex; mode=display\">\\newcommand{\\Bold}[1]{\\mathbf{#1}}\\left[0, z_{2}, z_{2} + 1, 2 z_{2} + 1, 2, 2 z_{2}, 2 z_{2} + 2, z_{2} + 2, 1\\right]</script></html>"
      ],
      "text/latex": [
       "$$\\newcommand{\\Bold}[1]{\\mathbf{#1}}\\left[0, z_{2}, z_{2} + 1, 2 z_{2} + 1, 2, 2 z_{2}, 2 z_{2} + 2, z_{2} + 2, 1\\right]$$"
      ],
      "text/plain": [
       "[0, z2, z2 + 1, 2*z2 + 1, 2, 2*z2, 2*z2 + 2, z2 + 2, 1]"
      ]
     },
     "metadata": {},
     "output_type": "display_data"
    },
    {
     "data": {
      "text/html": [
       "<html><script type=\"math/tex; mode=display\">\\newcommand{\\Bold}[1]{\\mathbf{#1}}\\left[0, z_{3}, z_{3}^{2}, z_{3} + 2, z_{3}^{2} + 2 z_{3}, 2 z_{3}^{2} + z_{3} + 2, z_{3}^{2} + z_{3} + 1, z_{3}^{2} + 2 z_{3} + 2, 2 z_{3}^{2} + 2, z_{3} + 1, z_{3}^{2} + z_{3}, z_{3}^{2} + z_{3} + 2, z_{3}^{2} + 2, 2, 2 z_{3}, 2 z_{3}^{2}, 2 z_{3} + 1, 2 z_{3}^{2} + z_{3}, z_{3}^{2} + 2 z_{3} + 1, 2 z_{3}^{2} + 2 z_{3} + 2, 2 z_{3}^{2} + z_{3} + 1, z_{3}^{2} + 1, 2 z_{3} + 2, 2 z_{3}^{2} + 2 z_{3}, 2 z_{3}^{2} + 2 z_{3} + 1, 2 z_{3}^{2} + 1, 1\\right]</script></html>"
      ],
      "text/latex": [
       "$$\\newcommand{\\Bold}[1]{\\mathbf{#1}}\\left[0, z_{3}, z_{3}^{2}, z_{3} + 2, z_{3}^{2} + 2 z_{3}, 2 z_{3}^{2} + z_{3} + 2, z_{3}^{2} + z_{3} + 1, z_{3}^{2} + 2 z_{3} + 2, 2 z_{3}^{2} + 2, z_{3} + 1, z_{3}^{2} + z_{3}, z_{3}^{2} + z_{3} + 2, z_{3}^{2} + 2, 2, 2 z_{3}, 2 z_{3}^{2}, 2 z_{3} + 1, 2 z_{3}^{2} + z_{3}, z_{3}^{2} + 2 z_{3} + 1, 2 z_{3}^{2} + 2 z_{3} + 2, 2 z_{3}^{2} + z_{3} + 1, z_{3}^{2} + 1, 2 z_{3} + 2, 2 z_{3}^{2} + 2 z_{3}, 2 z_{3}^{2} + 2 z_{3} + 1, 2 z_{3}^{2} + 1, 1\\right]$$"
      ],
      "text/plain": [
       "[0,\n",
       " z3,\n",
       " z3^2,\n",
       " z3 + 2,\n",
       " z3^2 + 2*z3,\n",
       " 2*z3^2 + z3 + 2,\n",
       " z3^2 + z3 + 1,\n",
       " z3^2 + 2*z3 + 2,\n",
       " 2*z3^2 + 2,\n",
       " z3 + 1,\n",
       " z3^2 + z3,\n",
       " z3^2 + z3 + 2,\n",
       " z3^2 + 2,\n",
       " 2,\n",
       " 2*z3,\n",
       " 2*z3^2,\n",
       " 2*z3 + 1,\n",
       " 2*z3^2 + z3,\n",
       " z3^2 + 2*z3 + 1,\n",
       " 2*z3^2 + 2*z3 + 2,\n",
       " 2*z3^2 + z3 + 1,\n",
       " z3^2 + 1,\n",
       " 2*z3 + 2,\n",
       " 2*z3^2 + 2*z3,\n",
       " 2*z3^2 + 2*z3 + 1,\n",
       " 2*z3^2 + 1,\n",
       " 1]"
      ]
     },
     "metadata": {},
     "output_type": "display_data"
    }
   ],
   "source": [
    "show(list(GF(3))) # lista elementów ciała 3-elementowego\n",
    "show(list(GF(9))) # lista elementów ciała 9-elementowego\n",
    "show(list(GF(27))) # lista elementów ciała 27-elementowego"
   ]
  },
  {
   "cell_type": "markdown",
   "metadata": {},
   "source": [
    "Widzimy, że ciało $\\mathbb{F}_{p^n}$ składa się z wszystkich możliwych wielomianów stopnia mniejszego od $n$ o współczynnikach z ciała $\\mathbb{F}_p=\\mathbb{Z}_p$. Możemy narzucić nazwę zmiennej występującej w tych wielomianach w następujący sposób:"
   ]
  },
  {
   "cell_type": "code",
   "execution_count": 2,
   "metadata": {},
   "outputs": [
    {
     "data": {
      "text/plain": [
       "[0, a, a + 1, 2*a + 1, 2, 2*a, 2*a + 2, a + 2, 1]"
      ]
     },
     "execution_count": 2,
     "metadata": {},
     "output_type": "execute_result"
    }
   ],
   "source": [
    "R.<a>=GF(9)\n",
    "list(R)"
   ]
  },
  {
   "cell_type": "markdown",
   "metadata": {},
   "source": [
    "Przypomnijmy, że aby zdefiniować pierścień wielomianów o współczynnikach z ciała $\\mathbb{F}_q$, a następnie elemety tego pierścienia, możemy użyć następujących komend:"
   ]
  },
  {
   "cell_type": "code",
   "execution_count": 10,
   "metadata": {},
   "outputs": [
    {
     "data": {
      "text/plain": [
       "x^4 + 2*x^3 + 2*x^2 + 3"
      ]
     },
     "execution_count": 10,
     "metadata": {},
     "output_type": "execute_result"
    }
   ],
   "source": [
    "q=5\n",
    "R.<x>=PolynomialRing(GF(q))\n",
    "f=x^4 + 2*x^3 + 2*x^2 + 3\n",
    "f"
   ]
  },
  {
   "cell_type": "markdown",
   "metadata": {},
   "source": [
    "## 1. Algorytmy wstępne"
   ]
  },
  {
   "cell_type": "markdown",
   "metadata": {},
   "source": [
    "**Zadanie 1.1**  Dostosuj algorytm szybkiego potęgowania z poprzedniego zestawu tak, by dla wielomianów $a,f\\in\\mathbb{F}_q[x]$ oraz liczby naturalnej $e$ obliczyć $a^e$ modulo $f$. Każde mnożenie wykonuj modulo $f$."
   ]
  },
  {
   "cell_type": "code",
   "execution_count": null,
   "metadata": {},
   "outputs": [],
   "source": []
  },
  {
   "cell_type": "markdown",
   "metadata": {},
   "source": [
    "**Sprawdzenie:** $\\quad$ dla $\\quad q=5$, $\\quad a=x^3 + 2x^2 + 1$, $\\quad e=5$, $\\quad f=x^4 + 2x^3 + 2x^2 + 3\\quad$ mamy $\\quad a^e=x^2 + 2x + 3\\pmod f$."
   ]
  },
  {
   "cell_type": "markdown",
   "metadata": {},
   "source": [
    "## 2. Faktoryzacja wielomianu nad ciałem skończonym"
   ]
  },
  {
   "cell_type": "markdown",
   "metadata": {},
   "source": [
    "Ustalmy wielomian $f\\in\\mathbb{F}_q[x]$ stopnia $n\\geq 1$. Załóżmy najpierw, że $f$ jest **wielomianem bezkwadratowym**, tzn. że $f$ nie jest podzielny przez kwadrat żadnego wielomianu. Faktoryzacja bezkwadratowego wielomianu $f$ składa się z dwóch kroków:  \n",
    "1. distinct degree factorization: dla każdego $d\\leq n$ znajdujemy wielomian $g$, który jest iloczynem wszystkich różnych nierozkładalnych wielomianów stopnia $d$ dzielących wielomian $f$;\n",
    "2. equal degree factorization: dla wielomianu $g$ postaci $g=f_1\\cdot\\ldots\\cdot f_s$, gdzie $f_1,\\ldots ,f_s$ są różnymi nierozkładalnymi wielomianami tego samego stopnia $d$, znajdujemy wielomiany $f_1,\\ldots ,f_s$.\n",
    "\n",
    "Algorytmy distinct degree factorization i equal degree factorization połączone w odpowiedni sposób pozwalają przeprowadzić faktoryzację dowolnego wielomianu - zobacz krok 3 poniżej."
   ]
  },
  {
   "cell_type": "markdown",
   "metadata": {},
   "source": [
    "### Krok 1: distinct degree factorization  \n",
    "\n",
    "Ten krok bazuje na następującym twierdzeniu.  \n",
    "\n",
    "**Twierdzenie.** Niech $d\\in\\mathbb{N}$. Wielomian $x^{q^d}-x\\in\\mathbb{F}_q[x]$ jest iloczynem wszystkich nierozkładalnych unormowanych wielomianów z $\\mathbb{F}_q[x]$, których stopień dzieli $d$.\n",
    "\n",
    "Przypomnijmy, że wielomian $f(x)=a_n x^n+\\ldots a_1 x+a_0$ jest **unormowany**, gdy $a_n=1$."
   ]
  },
  {
   "cell_type": "markdown",
   "metadata": {},
   "source": [
    "Algorytm wykonujący distinct degree factorization można opisać za pomocą następującego pseudokodu:  \n",
    "\n",
    "wejście: wielomian bezkwadratowy unormowany $f\\in\\mathbb{F}_q[x]$ stopnia $n>0$  \n",
    "\n",
    "$h_0 = x$, $\\quad f_0=f$, $\\quad i=0$  \n",
    "\n",
    "jak długo $f_i\\neq 1$:  \n",
    "\n",
    "$\\qquad\\quad i=i+1$  \n",
    "        \n",
    "$\\qquad\\quad h_i=h_{i-1}^q$ modulo $f$  \n",
    "        \n",
    "$\\qquad\\quad g_i=\\mathrm{NWD}(h_i - x, f_{i-1})$, $\\quad f_i=\\frac{f_{i-1}}{g_i}$  \n",
    "        \n",
    "wyjście: $(g_1, g_2, \\ldots )$  \n",
    "\n",
    "Zauważmy, że każdy wielomian $g_i$ otrzymany powyżej jest iloczynem wszystkich parami różnych wielomianów nierozkładalnych stopnia $i$, które dzielą wielomian $f$. W szczególności, $g_i$ jest wielomianem bezkwadratowym."
   ]
  },
  {
   "cell_type": "markdown",
   "metadata": {},
   "source": [
    "**Zadanie 2.1** Wykonaj distinct degree factorization dla następujących wielomianów:"
   ]
  },
  {
   "cell_type": "markdown",
   "metadata": {},
   "source": [
    "**a).** $f(x)=x^{17}+2x^{15}+4x^{13}+x^{12}+2x^{11}+2x^{10}+3x^9+4x^8+4x^4+3x^3+2x^2+4x\\in\\mathbb{F}_{5}[x]$"
   ]
  },
  {
   "cell_type": "code",
   "execution_count": null,
   "metadata": {},
   "outputs": [],
   "source": [
    "q=5\n",
    "R.<x>=PolynomialRing(GF(q))\n",
    "f=x^(17)+2*x^(15)+4*x^(13)+x^(12)+2*x^(11)+2*x^(10)+3*x^9+4*x^8+4*x^4+3*x^3+2*x^2+4*x\n"
   ]
  },
  {
   "cell_type": "markdown",
   "metadata": {},
   "source": [
    "**b).** $f(x)=x^8 + x^7 - x^6 + x^5 - x^3 - x^2 - x\\in\\mathbb{F}_3[x]$"
   ]
  },
  {
   "cell_type": "code",
   "execution_count": null,
   "metadata": {},
   "outputs": [],
   "source": [
    "q=3\n",
    "R.<x>=PolynomialRing(GF(q))\n",
    "f=x^8+x^7-x^6+x^5-x^3-x^2-x\n"
   ]
  },
  {
   "cell_type": "markdown",
   "metadata": {},
   "source": [
    "**Sprawdzenie:** $\\quad$ Jak łatwo można sprawdzić czy uzyskane wyniki są poprawne?"
   ]
  },
  {
   "cell_type": "markdown",
   "metadata": {},
   "source": [
    "**Uwaga.** Napisanie funkcji, która wykonuje distinct degree factorization dla wielomianu $f$ wymaga znajomości zmiennej tego wielomianu oraz ciała, nad którym mają być wykonywane obliczenia. W konsekwencji, kod napisany powyżej nie będzie działał dla wielomianu zmiennej $t$ lub jakiejkolwiek innej zmiennej różnej od $x$. Za każdym razem trzeba bedzie też osobno podać $q$, liczbę elementów ciała $\\mathbb{F}_q$, nad którym wykonywane są obliczenia. Aby sobie z tym poradzić i zaimplementować ogólny algorytm, można postąpić na kilka sposobów. \n",
    "\n",
    "Informacje o zmiennej wielomianu $f$ oraz o ciele, nad którym jest zdefiniowany, można uzyskać z $f$ za pomocą następujących komend:"
   ]
  },
  {
   "cell_type": "code",
   "execution_count": null,
   "metadata": {},
   "outputs": [],
   "source": [
    "p=(f.base_ring()).order()\n",
    "a=f.variables()[0]\n",
    "K=PolynomialRing(GF(p),a)"
   ]
  },
  {
   "cell_type": "markdown",
   "metadata": {},
   "source": [
    "Na przykład, aby zdefiniowanć wielomian $g$ tej samej zmiennej co $f$ i obliczyć $\\mathrm{NWD}(g,f)$ można postąpić w następujący sposób:"
   ]
  },
  {
   "cell_type": "code",
   "execution_count": 3,
   "metadata": {},
   "outputs": [
    {
     "data": {
      "text/plain": [
       "x"
      ]
     },
     "execution_count": 3,
     "metadata": {},
     "output_type": "execute_result"
    }
   ],
   "source": [
    "q=9\n",
    "R.<x>=PolynomialRing(GF(q))\n",
    "f=x^8+x^7-x^6+x^5-x^3-x^2-x\n",
    "p=(f.base_ring()).order()\n",
    "a=f.variables()[0]\n",
    "K=PolynomialRing(GF(p),a)\n",
    "g=a^2-a\n",
    "gcd(g,f)"
   ]
  },
  {
   "cell_type": "markdown",
   "metadata": {},
   "source": [
    "Można też uczynić kod bardziej interaktywnym i poprosić użytkownika aby sam podał zmienną wielomianu, $q$ oraz wielomian, dla którego chciałby przeprowadzić faktoryzację:"
   ]
  },
  {
   "cell_type": "code",
   "execution_count": 32,
   "metadata": {},
   "outputs": [
    {
     "name": "stdout",
     "output_type": "stream",
     "text": [
      "Podaj wielomian, dla którego ma zostać wykonana faktoryzacja:t^2+2*t+1\n",
      "Podaj zmienną wielomianu: t\n",
      "Podaj liczbę elementów ciała, nad którym wielomian jest zdefiniowany: 9\n"
     ]
    },
    {
     "data": {
      "text/plain": [
       "t^3 + 1"
      ]
     },
     "execution_count": 32,
     "metadata": {},
     "output_type": "execute_result"
    }
   ],
   "source": [
    "f = input(\"Podaj wielomian, dla którego ma zostać wykonana faktoryzacja: \")\n",
    "x = input(\"Podaj zmienną wielomianu: \")\n",
    "q = ZZ(input(\"Podaj liczbę elementów ciała, nad którym wielomian jest zdefiniowany: \"))\n",
    "R=PolynomialRing(GF(q),x)\n",
    "x=R(x) # dzięki temu x jest traktowany jako element pierścienia R\n",
    "f=R(f)\n",
    "f*(x+1) # sprawdzenie czy można pomnożyć f przez wielomian zmiennej x"
   ]
  },
  {
   "cell_type": "markdown",
   "metadata": {},
   "source": [
    "### Zastosowanie: badanie nierozkładalności wielomianu nad ciałem skończonym"
   ]
  },
  {
   "cell_type": "markdown",
   "metadata": {},
   "source": [
    "Przypomnijmy, że wielomian $f$ jest nierozkładalny jeśli nie istnieją wielomiany $g$ i $h$ stopnia co najmniej $1$ takie, że $f=gh$. "
   ]
  },
  {
   "cell_type": "markdown",
   "metadata": {},
   "source": [
    "**Zadanie 2.2** Korzystając z funkcji z zadania 2.1, rozstrzygnij czy poniższe wielomiany są rozkładalne czy nie."
   ]
  },
  {
   "cell_type": "markdown",
   "metadata": {},
   "source": [
    "**a).** $f(x)=5x^6 + 6x^5 + 4x^3 + 2x + 2\\in\\mathbb{F}_7[x]$"
   ]
  },
  {
   "cell_type": "code",
   "execution_count": null,
   "metadata": {},
   "outputs": [],
   "source": [
    "q=7\n",
    "R.<x>=PolynomialRing(GF(q))\n",
    "f=5*x^6 + 6*x^5 + 4*x^3 + 2*x + 2\n"
   ]
  },
  {
   "cell_type": "markdown",
   "metadata": {},
   "source": [
    "**b).** $f(x)=3x^5 + 3x^4 + 5x^3 + 4x^2 + 4x + 1\\in\\mathbb{F}_{13}[x]$"
   ]
  },
  {
   "cell_type": "code",
   "execution_count": null,
   "metadata": {},
   "outputs": [],
   "source": [
    "q=13\n",
    "R.<x>=PolynomialRing(GF(q))\n",
    "f=3*x^5 + 3*x^4 + 5*x^3 + 4*x^2 + 4*x + 1\n"
   ]
  },
  {
   "cell_type": "markdown",
   "metadata": {},
   "source": [
    "**Sprawdzenie:** $\\quad$ Jeśli masz wątpliwości co do swojego wyniku, wykorzystaj funkcję SageMath `factor()`."
   ]
  },
  {
   "cell_type": "markdown",
   "metadata": {},
   "source": [
    "### Krok 2: equal degree factorization (algorytm Cantora i Zassenhausa)\n",
    "\n",
    "Krok 2. faktoryzacji wielomianu różni się w zależności od tego czy dla ciała $\\mathbb{F}_q$, gdzie $q=p^n$, mamy $p=2$ czy $p\\neq 2$."
   ]
  },
  {
   "cell_type": "markdown",
   "metadata": {},
   "source": [
    "Załóżmy najpierw, że $p\\neq 2$. Niech $f\\in\\mathbb{F}_q[x]$ będzie wielomianem unormowanym bezkwadratowym stopnia $n>0$, który jest iloczynem wielomianów nierozkładalnych tego samego stopnia $d$.  \n",
    "\n",
    "Jeśli $n=d$, to $f$ jest wielomianem nierozkładalnym.  \n",
    "\n",
    "Jeśli $d<n$, to powtarzając następującą probabilistyczną procedurę wystarczająco długo, znajdziemy wielomian $g\\in\\mathbb{F}_q[x]$, który dzieli $f$:  \n",
    "1. losujemy $a\\in\\mathbb{F}_q[x]$; $\\quad$ jeśli $a\\in\\mathbb{F}_q$, zwróć $0$  \n",
    "2. niech $g_1=\\mathrm{NWD}(a,f)$; $\\quad$ jeśli $g_1\\neq 1$, zwróć $g_1$  \n",
    "\n",
    "3. oblicz $b= a^{(q^d-1)/2}$ modulo $f$  \n",
    "\n",
    "4. niech $g_2=\\mathrm{NWD}(b-1,f)$;  \n",
    "jeśli $g_2\\neq 1$ i $g_2\\neq f$, zwróć $g_2$, w przeciwnym wypadku zwróć $0$.  \n",
    "\n",
    "Znaleźliśmy wielomian $g$, który dzieli $f$. Możemy zastosować powyższą procedurę do wielomianów $g$ i $f/g$. Powtarzamy ją rekurencyjnie dla każdej pary wielomianów aż znajdziemy wszystkie dzieliniki stopnia $d$ wielomianu $f$. "
   ]
  },
  {
   "cell_type": "markdown",
   "metadata": {},
   "source": [
    "**Zadanie 2.3** (algorytm Cantora i Zassenhausa)  \n",
    "\n",
    "**a).** Zaimplementuj punkty 1 - 4 opisane powyżej."
   ]
  },
  {
   "cell_type": "code",
   "execution_count": null,
   "metadata": {},
   "outputs": [],
   "source": []
  },
  {
   "cell_type": "markdown",
   "metadata": {},
   "source": [
    "**b).** Niech $f\\in\\mathbb{F}_q$, gdzie $2\\nmid q$, będzie wielomianem unormowanym bezkwadratowym stopnia $n>0$, który jest iloczynem wielomianów nierozkładalnych tego samego stopnia $d$. Zaimplementuj procedurę opisaną powyżej do znalezienia wszystkich wielomianów stopnia $d$ dzielących $f$."
   ]
  },
  {
   "cell_type": "code",
   "execution_count": null,
   "metadata": {},
   "outputs": [],
   "source": []
  },
  {
   "cell_type": "markdown",
   "metadata": {},
   "source": [
    "**Zadanie 2.4** Wykorzystaj funkcje (lub ich fragmenty) z zadań 2.1 i 2.2 do znalezienia pierwiastków (o ile istnieją) wielomianów z zadania 2.1."
   ]
  },
  {
   "cell_type": "code",
   "execution_count": 2,
   "metadata": {},
   "outputs": [],
   "source": [
    "q=5\n",
    "R.<x>=PolynomialRing(GF(q))\n",
    "f=x^(17)+2*x^(15)+4*x^(13)+x^(12)+2*x^(11)+2*x^(10)+3*x^9+4*x^8+4*x^4+3*x^3+2*x^2+4*x\n"
   ]
  },
  {
   "cell_type": "code",
   "execution_count": null,
   "metadata": {},
   "outputs": [],
   "source": [
    "q=3\n",
    "R.<x>=PolynomialRing(GF(q))\n",
    "f=x^8+x^7-x^6+x^5-x^3-x^2-x\n"
   ]
  },
  {
   "cell_type": "markdown",
   "metadata": {},
   "source": [
    "**Sprawdzenie:** $\\quad$ Wykorzystaj funkcje SageMath `roots()` lub `factor()`."
   ]
  },
  {
   "cell_type": "markdown",
   "metadata": {},
   "source": [
    "### Krok 3: faktoryzacja dowolnego wielomianu $f$"
   ]
  },
  {
   "cell_type": "markdown",
   "metadata": {},
   "source": [
    "Niech $f(x)=a_n x^n+\\ldots +a_1 x+a_0\\in\\mathbb{F}_q[x]$, $q$ nieparzyste. Powyżej opisane procedury można połączyć jak następuje, aby uzyskać pełną faktoryzację wielomianu $f$. "
   ]
  },
  {
   "cell_type": "markdown",
   "metadata": {},
   "source": [
    "$h_0 = x$, $\\quad f_0=\\frac{f}{a_n}$, $\\quad i=0$,  $\\quad U=\\emptyset$   \n",
    "\n",
    "jak długo $f_0\\neq 1$:  \n",
    "\n",
    "$\\qquad\\quad i=i+1$  \n",
    "        \n",
    "$\\qquad\\quad h_i=h_{i-1}^q$ modulo $f$  \n",
    "        \n",
    "$\\qquad\\quad g_i=\\mathrm{NWD}(h_i - x, f_{0})$ \n",
    "\n",
    "$\\qquad\\quad$ jeśli $g_i\\neq 1$, znajdź wszystkie wielomiany nierozkładalne $k_1,\\ldots , k_s\\in\\mathbb{F}_q[x]$ stopnia $i$, które dzielą $g_i$ (equal degree factorization)\n",
    "\n",
    "$\\qquad\\quad$ dla każdego $j\\in\\{ 1\\ldots ,s\\}$:   \n",
    "$\\qquad\\quad\\qquad\\quad e=0$  \n",
    "$\\qquad\\quad\\qquad\\quad f_0=\\frac{f_{0}}{k_j}$, $\\quad e=e+1$  \n",
    "$\\qquad\\quad\\qquad\\quad U=U\\cup \\{ (k_j,e)\\}$\n",
    "\n",
    "zwróć $U$"
   ]
  },
  {
   "cell_type": "markdown",
   "metadata": {},
   "source": [
    "**Zadanie 2.5** Znajdź faktoryzację następujących wielomianów."
   ]
  },
  {
   "cell_type": "markdown",
   "metadata": {},
   "source": [
    "**a).** $f(x)=x^{17}+2x^{15}+4x^{13}+x^{12}+2x^{11}+2x^{10}+3x^9+4x^8+4x^4+3x^3+2x^2+4x\\in\\mathbb{F}_{5}[x]$"
   ]
  },
  {
   "cell_type": "code",
   "execution_count": null,
   "metadata": {},
   "outputs": [],
   "source": [
    "q=5\n",
    "R.<x>=PolynomialRing(GF(q))\n",
    "f=x^(17)+2*x^(15)+4*x^(13)+x^(12)+2*x^(11)+2*x^(10)+3*x^9+4*x^8+4*x^4+3*x^3+2*x^2+4*x\n"
   ]
  },
  {
   "cell_type": "markdown",
   "metadata": {},
   "source": [
    "**b).** $f(x)=x^8 + x^7 - x^6 + x^5 - x^3 - x^2 - x\\in\\mathbb{F}_3[x]$"
   ]
  },
  {
   "cell_type": "code",
   "execution_count": null,
   "metadata": {},
   "outputs": [],
   "source": [
    "q=3\n",
    "R.<x>=PolynomialRing(GF(q))\n",
    "f=x^8+x^7-x^6+x^5-x^3-x^2-x\n"
   ]
  },
  {
   "cell_type": "markdown",
   "metadata": {},
   "source": [
    "**c).** $f(x)=x^{20} + 6x^{19} + 2x^{18} + x^{17} + 3x^{16} + 5x^{15} + 2x^{14} + 6x^{13} + 3x^{12} + 5x^{11} + 2x^{10} + 4x^9 + 4x^7 + 5x^6 + 3x^4 + 3x^3 + 5x^2 + 5x + 6\\in\\mathbb{F}_7[x]$"
   ]
  },
  {
   "cell_type": "code",
   "execution_count": null,
   "metadata": {},
   "outputs": [],
   "source": [
    "q=7\n",
    "R.<x>=PolynomialRing(GF(q))\n",
    "f=x^(20) + 6*x^(19) + 2*x^(18) + x^(17) + 3*x^(16) + 5*x^(15) + 2*x^(14) + 6*x^(13) + 3*x^(12) + 5*x^(11) + 2*x^(10) + 4*x^9 + 4*x^7 + 5*x^6 + 3*x^4 + 3*x^3 + 5*x^2 + 5*x + 6\n"
   ]
  },
  {
   "cell_type": "markdown",
   "metadata": {},
   "source": [
    "### Algorytm Cantora i Zassenhausa dla ciała $\\mathbb{F}_q$, gdzie $q=2^n$"
   ]
  },
  {
   "cell_type": "markdown",
   "metadata": {},
   "source": [
    "Zobacz: Joachim von zur Gathen, Jurgen Gerhard, \"Modern computer algebra\", zadanie 14.16 (iii), str. 423."
   ]
  }
 ],
 "metadata": {
  "kernelspec": {
   "display_name": "SageMath 9.3",
   "language": "sage",
   "name": "sagemath"
  },
  "language_info": {
   "codemirror_mode": {
    "name": "ipython",
    "version": 3
   },
   "file_extension": ".py",
   "mimetype": "text/x-python",
   "name": "python",
   "nbconvert_exporter": "python",
   "pygments_lexer": "ipython3",
   "version": "3.7.10"
  }
 },
 "nbformat": 4,
 "nbformat_minor": 4
}
