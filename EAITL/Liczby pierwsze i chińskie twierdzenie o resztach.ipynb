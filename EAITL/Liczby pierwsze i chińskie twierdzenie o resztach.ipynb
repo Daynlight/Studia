{
 "cells": [
  {
   "cell_type": "markdown",
   "metadata": {},
   "source": [
    "# Liczby pierwsze i chińskie twierdzenie o resztach"
   ]
  },
  {
   "cell_type": "markdown",
   "metadata": {},
   "source": [
    "## 1. Sito Eratostenesa"
   ]
  },
  {
   "cell_type": "markdown",
   "metadata": {},
   "source": [
    "Sito Eratostenesa jest algorytmem, który dla liczby naturalnej $n$ wyznacza wszystkie liczby pierwsze mniejsze lub równe $n$. Można go opisać za pomocą następującego pseudokodu:  \n",
    "\n",
    "wejście: liczba naturalna $n>1$\n",
    "\n",
    "A = tablica indeksowana liczbami całkowitymi od $2$ do $n$, początkowo wypełniona wartościami $1$\n",
    "\n",
    "dla $\\quad i = 2, 3, 4, \\ldots , \\mathrm{\\;nie\\; więcej\\; niż\\;} \\sqrt{𝑛}\\quad$:  \n",
    "    $\\qquad$ jeśli $\\quad A[i] = 1\\quad$:  \n",
    "        $\\qquad\\qquad$ dla $j =  i^2, i^2+i, i^2+2i, i^2+3i, ..., \\mathrm{\\;nie\\; więcej\\; niż\\;} n\\quad$:  \n",
    "            $\\qquad\\qquad\\qquad$ $A[j] = 0$  \n",
    " \n",
    "wyjście: wartości $i$, dla których $A[i]=1$"
   ]
  },
  {
   "cell_type": "markdown",
   "metadata": {},
   "source": [
    "Zauważmy, że zapis\n",
    "$$\\mathrm{dla}\\quad j =  i^2, i^2+i, i^2+2i, i^2+3i, ..., \\mathrm{\\;nie\\; więcej\\; niż\\;} n\\; : \\qquad A[j] = 0$$\n",
    "oznacza wykreślanie z tablicy $A$ wszystkich liczb większych od $i$, które są podzielne przez $i$. Nie ma potrzeby uwzględniania tutaj liczby postaci $\\; ki\\;$ gdzie $k<i$, gdyż te liczby zostały wykreślone podczas wykreślania wielokrotności liczby $k$."
   ]
  },
  {
   "cell_type": "markdown",
   "metadata": {},
   "source": [
    "**Zadanie 1.1** Zaimplementuj sito Eratostenesa. Następnie, wypisz wszystkie liczby pierwsze mniejsze lub równe $1009$. "
   ]
  },
  {
   "cell_type": "code",
   "execution_count": null,
   "metadata": {},
   "outputs": [],
   "source": []
  },
  {
   "cell_type": "markdown",
   "metadata": {},
   "source": [
    "### Zapisywanie do pliku i czytanie z pliku"
   ]
  },
  {
   "cell_type": "markdown",
   "metadata": {},
   "source": [
    "Przy wykonywaniu czasochłonnych obliczeń, które będą później wykorzystywane wiele razy lub osobno analizowane, dobrze jest zapisywać wyniki danych algorytmów do pliku. Opiszemy jak to zrobić w SageMath na podstawie poprzedniego zadania. Załóżmy, że funkcja, która wypisuje wszystkie liczby pierwsze mniejsze lub równe $n$ została nazwana ``Eratostenes(n)``."
   ]
  },
  {
   "cell_type": "code",
   "execution_count": null,
   "metadata": {},
   "outputs": [],
   "source": [
    "with open(\"Liczby pierwsze.txt\", \"w\") as f: # Tworzymy nowy plik o nazwie Lczby pierwsze.txt\n",
    "    f.write(str(Eratostenes(1000)))         # Do pliku możemy zapisywać tylko elementy typu string; dlatego używamy str()\n",
    "    f.write('\\n') # W ten sposób dodajemy pustą linię\n",
    "    # tu może być jakaś funkcja, która coś liczy\n",
    "    f.write('Dodatkowe rzeczy, które chcemy dopisać.')"
   ]
  },
  {
   "cell_type": "markdown",
   "metadata": {},
   "source": [
    "W ten sposób utworzyliśmy nowy plik o nazwie `Lczby pierwsze.txt` i zapisaliśmy w nim wynik działania funkcji `Eratostenes(1000)` i ewentualne dodatkowe rzeczy. Jednakże, jeśli później znowu użyjemy komendy `with open(\"Liczby pierwsze.txt\", \"w\")`, to nadpiszemy zawartość tego pliku. Argument `\"w\"` oznacza tu zapisywanie do pliku (ang. write).  \n",
    "\n",
    "Gdybyśmy później chcieli dopisać coś do tego pliku, powinniśmy użyć parametru `\"a\"` (ang. append). Na przykład: "
   ]
  },
  {
   "cell_type": "code",
   "execution_count": null,
   "metadata": {},
   "outputs": [],
   "source": [
    "with open(\"Liczby pierwsze.txt\", \"a\") as f:\n",
    "    f.write('\\n')\n",
    "    f.write(str([2^k for k in range(10)]))        "
   ]
  },
  {
   "cell_type": "markdown",
   "metadata": {},
   "source": [
    "Aby przeczytać zawartość tego pliku i wykonać na niej dodatkowe operacje, w komendzie `open()` dodajemy argument `\"r\"` (ang. read). Aby traktować otwarty plik jako listę stringów, gdzie elementami listy są kolejne wiersze tekstu, możemy postąpić na dwa sposoby:"
   ]
  },
  {
   "cell_type": "code",
   "execution_count": null,
   "metadata": {},
   "outputs": [],
   "source": [
    "# Pierwszy sposób\n",
    "with open(\"Liczby pierwsze.txt\", \"r\") as f:\n",
    "    text = f.readlines()\n",
    "text"
   ]
  },
  {
   "cell_type": "code",
   "execution_count": null,
   "metadata": {},
   "outputs": [],
   "source": [
    "# Drugi sposób\n",
    "with open(\"Liczby pierwsze.txt\", \"r\") as f:\n",
    "    text=[l for l in f]\n",
    "text"
   ]
  },
  {
   "cell_type": "markdown",
   "metadata": {},
   "source": [
    "Aby wykonywać dalsze operacje na `text` musimy:\n",
    "- pozbyć się oznaczeń pustych linii za pomocą `strip()`,\n",
    "- użyć funkcji `eval()` do traktowania obiektów programu SageMath takimi jakie są. Zauważ, że funkcja `eval()` może być stosowana tylko do tych wierszy, które zawierają obiekty programu SageMath (zbiory, liczby, wektory, macierze, itp.) a nie zwykły tekst.  \n",
    "\n",
    "Na przykład:"
   ]
  },
  {
   "cell_type": "code",
   "execution_count": null,
   "metadata": {},
   "outputs": [],
   "source": [
    "with open(\"Liczby pierwsze.txt\", \"r\") as f:\n",
    "    text=[l.strip() for l in f]\n",
    "t=eval(text[0])\n",
    "product([t[i] for i in range(4)]) # iloczyn pierwszych czterech liczb w liście t"
   ]
  },
  {
   "cell_type": "code",
   "execution_count": null,
   "metadata": {},
   "outputs": [],
   "source": [
    "eval(text[1]) # Funkcji eval() nie można stosować do zwykłego tekstu."
   ]
  },
  {
   "cell_type": "markdown",
   "metadata": {},
   "source": [
    "Oczywiście, zapisywanie do pliku może (a nawet powinno) się odbywać w czasie działania danego algorytmu.\n",
    "\n"
   ]
  },
  {
   "cell_type": "markdown",
   "metadata": {},
   "source": [
    "**Zadanie 1.2** Celem tego zadania jest znalezienie małych dzielników pierwszych dla liczb z przedziału $[100000,100030]$."
   ]
  },
  {
   "cell_type": "markdown",
   "metadata": {},
   "source": [
    "**a).** Korzystając z funkcji z zadania 1.1, utwórz plik zawierający wszystkie liczby pierwsze mniejsze od $1000$."
   ]
  },
  {
   "cell_type": "code",
   "execution_count": null,
   "metadata": {},
   "outputs": [],
   "source": []
  },
  {
   "cell_type": "markdown",
   "metadata": {},
   "source": [
    "**b).** Odczytując informacje z utworzonego pliku, sprawdź, które z zamieszczonych tam liczb pierwszych - i z jakimi potęgami - dzielą liczby z przedziału $[100000,100030]$. Wynik przedstaw w postaci listy. Na przykład, dla liczby $773366312=2^3\\cdot 17^2\\cdot 167\\cdot 2003$ wynikiem mogłaby być lista $[[2,3],[17,2],[167,1],[2003,1]]$."
   ]
  },
  {
   "cell_type": "code",
   "execution_count": null,
   "metadata": {},
   "outputs": [],
   "source": []
  },
  {
   "cell_type": "markdown",
   "metadata": {},
   "source": [
    "## 2. Test pierwszości Fermata"
   ]
  },
  {
   "cell_type": "markdown",
   "metadata": {},
   "source": [
    "Test pierwszości Fermata bazuje na następującym twierdzeniu."
   ]
  },
  {
   "cell_type": "markdown",
   "metadata": {},
   "source": [
    "**Twierdzenie.** Jeśli $p$ jest liczbą pierwszą, to dla każdego $a\\in\\mathbb{Z}_p\\backslash\\{ 0\\}$ mamy $\\quad a^{p-1}=1\\pmod p$."
   ]
  },
  {
   "cell_type": "markdown",
   "metadata": {},
   "source": [
    "Aby sprawdzić czy liczba naturalna $n$ jest złożona, algorytm losowo wybiera element $a\\in\\mathbb{Z}_n\\backslash\\{ 0\\}$ i sprawdza czy $a^{n-1}=1\\pmod n$. Jeśli ta równość nie zachodzi, to algorytm zwraca informację, że $n$ jest liczbą złożoną. Jeśli równość jest spełniona, to algorytm zwraca informację, że $n$ może być liczbą pierwszą. Aby zwiększyć prawdopodobieństwo na to, że dana liczba jest pierwsza, algorytm ten jest wykonywany kilka razy."
   ]
  },
  {
   "cell_type": "markdown",
   "metadata": {},
   "source": [
    "**Zadanie 2.1**  \n",
    "\n",
    "**a).** Dostosuj algorytm szybkiego potęgowania z poprzedniego zestawu tak, by mnożenie odbywało się modulo $n$.  Możesz wykorzystać do tego obiekt SageMath ``Integers(n)`` reprezentujący pierścień $\\mathbb{Z}_n$ z dodawaniem i mnożeniem modulo $n$."
   ]
  },
  {
   "cell_type": "code",
   "execution_count": null,
   "metadata": {},
   "outputs": [],
   "source": []
  },
  {
   "cell_type": "markdown",
   "metadata": {},
   "source": [
    "**b).** Zaimplementuj test pierwszości Fermata tak by zwracał on FALSE, gdy $n$ jest liczbą złożoną, oraz TRUE, gdy jest szansa na to, że $n$ jest liczbą pierwszą. Wykorzystaj szybkie potęgowanie."
   ]
  },
  {
   "cell_type": "code",
   "execution_count": null,
   "metadata": {},
   "outputs": [],
   "source": []
  },
  {
   "cell_type": "markdown",
   "metadata": {},
   "source": [
    "**c).** Zastosuj test pierwszości Fermata maksymalnie pięć razy do liczb z przedziału $(252601,252699)$. Wypisz w postaci listy te liczby, które mogą być liczbami pierwszymi."
   ]
  },
  {
   "cell_type": "code",
   "execution_count": null,
   "metadata": {},
   "outputs": [],
   "source": []
  },
  {
   "cell_type": "markdown",
   "metadata": {},
   "source": [
    "**d).** Niech  $n=252601$. Sprawdź po kolei dla wszystkich elementów $a\\in\\mathbb{Z}_n\\backslash\\{ 0\\}$ czy $a^{n-1}=1\\pmod n$. Utwórz listę $L$ złożoną z tych $a$, dla których $a^{n-1}\\neq 1\\pmod n$ (każdy element na tej liście jest dowodem na to, że liczba $n$ jest liczbą złożoną). Przerwij algorytm, gdy liczba elementów tej listy przkroczy $20$. Czy jest jakiś związek pomiędzy elementami listy $L$ a liczbą $n$?"
   ]
  },
  {
   "cell_type": "code",
   "execution_count": null,
   "metadata": {},
   "outputs": [],
   "source": []
  },
  {
   "cell_type": "code",
   "execution_count": null,
   "metadata": {},
   "outputs": [],
   "source": []
  },
  {
   "cell_type": "markdown",
   "metadata": {},
   "source": [
    "## 3. Chińskie twierdzenie o resztach"
   ]
  },
  {
   "cell_type": "markdown",
   "metadata": {},
   "source": [
    "**Twierdzenie.** Niech $m_1,\\ldots , m_k\\in\\mathbb{N}$ będą parami względnie pierwsze, $M=m_1\\cdot\\ldots\\cdot m_k$. Wtedy dla dowolnych $a_1,\\ldots , a_k\\in\\mathbb{Z}$ istnieje $x\\in\\mathbb{Z}$ takie, że\n",
    "$$\\begin{cases}\n",
    "x=a_1\\pmod{m_1}\\\\\n",
    "\\hspace{0.4cm}\\vdots \\\\\n",
    "x=a_k\\pmod{m_k}\n",
    "\\end{cases}\\qquad\\qquad\\qquad (\\star)$$\n",
    "Ponadto, różnica pomiędzy dowolnymi dwoma rozwiązaniami tego układu jest całkowitą wielokrotnością liczby $M$."
   ]
  },
  {
   "cell_type": "markdown",
   "metadata": {},
   "source": [
    "Dowód tego twierdzenia podaje algorytm na to jak znaleźć rozwiązanie układu $(\\star )$. Jest nim \n",
    "$$x=\\sum_{i=1}^k a_iM_iN_i +Mt,$$\n",
    "gdzie $t\\in\\mathbb{Z}$ jest dowolne, a dla $i\\in\\{ 1,\\ldots ,k\\}$ definiujemy\n",
    "$$M_i=\\frac{M}{m_i},\\qquad\\qquad N_i =M_i^{-1} \\;\\;\\mathrm{w}\\;\\; \\mathbb{Z}_{m_i} .$$\n",
    "Przypomnijmy, że liczby $N_i$ można znaleźć za pomocą rozszerzonego algorytmu Euklidesa."
   ]
  },
  {
   "cell_type": "markdown",
   "metadata": {},
   "source": [
    "Układ $(\\star)$ może być rozwiązany za pomocą funkcji `crt()` programu SageMath: wystarczy wpisać `crt([a_1, ..., a_k],[m_1, ..., m_k])` dla odpowiednich $a_1, \\ldots, a_k, m_1, \\ldots, m_k$. Funkcja `crt()` podaje rozwiązanie, które należy do zbioru $\\{ 0,1,\\ldots ,M-1\\}$."
   ]
  },
  {
   "cell_type": "markdown",
   "metadata": {},
   "source": [
    "**Zadanie 3.1** Wykorzystując funkcję `crt()` rozwiąż następujące układy równań:"
   ]
  },
  {
   "cell_type": "markdown",
   "metadata": {},
   "source": [
    "**a).** $\\quad\\begin{cases} X\\equiv 1\\pmod{25}\\\\ X\\equiv 2\\pmod{4}\\\\ X\\equiv 3\\pmod{7}\\\\ X\\equiv 4\\pmod{9}\\end{cases}$"
   ]
  },
  {
   "cell_type": "code",
   "execution_count": null,
   "metadata": {},
   "outputs": [],
   "source": []
  },
  {
   "cell_type": "markdown",
   "metadata": {},
   "source": [
    "**b).** $\\quad\\begin{cases} 3X\\equiv 4\\pmod{5}\\\\ 5X\\equiv 1\\pmod{12}\\\\ 2X\\equiv 3\\pmod{7}\\end{cases}$"
   ]
  },
  {
   "cell_type": "code",
   "execution_count": null,
   "metadata": {},
   "outputs": [],
   "source": []
  },
  {
   "cell_type": "markdown",
   "metadata": {},
   "source": [
    "**c).** $\\quad\\begin{cases} X\\equiv 7\\pmod{10}\\\\ X\\equiv 2\\pmod{15}\\\\ X\\equiv 11\\pmod{12}\\end{cases}$"
   ]
  },
  {
   "cell_type": "code",
   "execution_count": null,
   "metadata": {},
   "outputs": [],
   "source": []
  },
  {
   "cell_type": "markdown",
   "metadata": {},
   "source": [
    "**d).** $\\quad\\begin{cases} X\\equiv 4\\pmod{15}\\\\ X\\equiv 1\\pmod{21}\\\\ X\\equiv 8\\pmod{18}\\end{cases}$"
   ]
  },
  {
   "cell_type": "code",
   "execution_count": null,
   "metadata": {},
   "outputs": [],
   "source": []
  },
  {
   "cell_type": "markdown",
   "metadata": {},
   "source": [
    "**Zadanie 3.2** Celem tego zadania jest wykorzystanie chińskiego twierdzenia o resztach do pomnożenia macierzy danych poniżej:\n",
    "\n",
    "$$A=\\begin{pmatrix} 494160 &  -183550 &   459373\\\\\n",
    "2909777 & -849794 &   439366\\\\\n",
    "268059 &  460896 & -3350159\\end{pmatrix} ,\\qquad\n",
    "B=\\begin{pmatrix} -276876 &   239768 &  -21571\\\\\n",
    "457891 &  -1212026 &  -8382908\\\\\n",
    "643490 &  3330228 &   827605\\end{pmatrix} .$$"
   ]
  },
  {
   "cell_type": "code",
   "execution_count": null,
   "metadata": {},
   "outputs": [],
   "source": [
    "A=matrix(3, [\n",
    "[ 494160,  -183550,   459373],\n",
    "[2909777,  -849794,   439366],\n",
    "[ 268059,   460896, -3350159]])\n",
    "B=matrix(3, [\n",
    "[-276876,    239768,    -21571],\n",
    "[ 457891,  -1212026,  -8382908],\n",
    "[ 643490,   3330228,    827605]])    "
   ]
  },
  {
   "cell_type": "markdown",
   "metadata": {},
   "source": [
    "**a).** Zgodnie z oznaczeniami twierdzenia, $M$ powinno być liczbą, która jest nie mniejsza niż największa możliwa wartość bezwzględna z komórki macierzy $A\\cdot B$. Natomiast $m_i$ będą potęgami różnych liczb pierwszych dzielących $M$. Wyznacz $M$ i zapisz w postaci listy potęgi liczb pierwszych dzielących $M$. (W tym ćwiczeniu nie musisz wyznaczać $M$ algorytmicznie. Do rozkładu $M$ na czynniki pierwsze możesz wykorzystać funkcję `factor()`.)"
   ]
  },
  {
   "cell_type": "code",
   "execution_count": null,
   "metadata": {},
   "outputs": [],
   "source": []
  },
  {
   "cell_type": "markdown",
   "metadata": {},
   "source": [
    "**b).** Zaimplementuj chińskie twierdzenie o resztach do pomnożenia macierzy $A$ i $B$. Jeśli wcześniej nie zaimplementował(a)eś rozszerzonego algorytmu Euklidesa, do wyznaczenia liczb $N_i$ możesz wykorzystać rozszerzony algorytm Euklidesa `xgcd()` z programu SageMath lub bezpośrednio skorzystać z odwracania liczb w pierścieniu $\\mathbb{Z}_{m_i}$, w SageMath jest to `Integers(m_i)`. Dla ułatwienia zadania, fragment kodu jest podany poniżej."
   ]
  },
  {
   "cell_type": "code",
   "execution_count": null,
   "metadata": {},
   "outputs": [],
   "source": [
    "P= # lista złożona z liczb m_1, ..., m_k, której długość jest k\n",
    "AA=list(var('A_%d' % i) for i in range(k)) # Definicja k różnych zmiennych. Można się do nich odwoływać poprzez A[i].\n",
    "BB=list(var('B_%d' % i) for i in range(k))  \n",
    "for i in range(k):\n",
    "    AA[i]=matrix(Integers(P[i]),A) # W ten sposób traktujemy macierz A jako macierz nad pierścieniem Z_{P[i]}\n",
    "    BB[i]=matrix(Integers(P[i]),B)\n"
   ]
  },
  {
   "cell_type": "markdown",
   "metadata": {},
   "source": [
    "**c).** Sprawdź czy wynik zgadza się z rzeczywistym iloczynem $AB$."
   ]
  },
  {
   "cell_type": "code",
   "execution_count": null,
   "metadata": {},
   "outputs": [],
   "source": []
  },
  {
   "cell_type": "markdown",
   "metadata": {},
   "source": [
    "Zapewne zauważysz, że algorytm z punktu $b).$ zwraca macierz, która zawiera tylko liczby dodatnie, a w rzeczywistości $AB$ posiada także współczynniki, które są ujemne. Czy masz pomysł na to jak poprawić algorytm z punktu $b).$ aby zwracał poprawny wynik?"
   ]
  },
  {
   "cell_type": "code",
   "execution_count": null,
   "metadata": {},
   "outputs": [],
   "source": []
  },
  {
   "cell_type": "markdown",
   "metadata": {},
   "source": [
    "Mnożenie macierzy w programie SageMath jest już zoptymalizowane. Dlatego, aby porównać czas mnożenia macierzy za pomocą chińskiego twierdzenia o resztach i zwykłego mnożenia macierzowego, trzeba by zaimplementować samemu zwykłe mnożenie macierzy i porównać czas działania obu metod."
   ]
  }
 ],
 "metadata": {
  "kernelspec": {
   "display_name": "SageMath 9.3",
   "language": "sage",
   "name": "sagemath"
  },
  "language_info": {
   "codemirror_mode": {
    "name": "ipython",
    "version": 3
   },
   "file_extension": ".py",
   "mimetype": "text/x-python",
   "name": "python",
   "nbconvert_exporter": "python",
   "pygments_lexer": "ipython3",
   "version": "3.7.10"
  }
 },
 "nbformat": 4,
 "nbformat_minor": 4
}
