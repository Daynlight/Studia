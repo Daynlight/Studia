{
 "cells": [
  {
   "cell_type": "markdown",
   "id": "356970f8",
   "metadata": {},
   "source": [
    "# Temat"
   ]
  },
  {
   "cell_type": "markdown",
   "id": "e99914b5",
   "metadata": {},
   "source": [
    "Opisz działanie testu pierwszości Millera-Rabina i zaimplementuj go. W przypadku, gdy\n",
    "ten test zwróci <b>FALSE</b> mamy pewność, że dana liczba jest złożona - wyjaśnij dlaczego.\n",
    "Przedstaw działanie testu Millera-Rabina na losowo wygenerowanych liczbach nie mniejszych\n",
    "od 105\n",
    "(wykorzystaj wbudowaną funkcję do generowania liczb pseudolosowych). Wykonaj\n",
    "ten test tyle razy, by prawdopodobieństwo błędu było mniejsze od 10−6\n",
    ". Przykłady wykonaj\n",
    "za pomocą programu SageMath. Część informacji na ten temat znajdziesz w rozdziale 2.4\n",
    "książki https://wstein.org/ent/ent.pdf\n"
   ]
  },
  {
   "cell_type": "code",
   "execution_count": null,
   "id": "55393ffe",
   "metadata": {
    "vscode": {
     "languageId": "sage"
    }
   },
   "outputs": [],
   "source": [
    "DEFAULT_NUMBER_BOUND = (105, 10**6)\n",
    "DEFAULT_TESTS = 10\n",
    "DEFAULT_MAX_PROBABILITY = 10^-6"
   ]
  },
  {
   "cell_type": "markdown",
   "id": "6e6a1192",
   "metadata": {},
   "source": [
    "## Side Code"
   ]
  },
  {
   "cell_type": "code",
   "execution_count": null,
   "id": "6270cb32",
   "metadata": {
    "vscode": {
     "languageId": "sage"
    }
   },
   "outputs": [],
   "source": [
    "import sys\n",
    "import matplotlib.pyplot as plt\n",
    "from ipywidgets import interactive\n",
    "import ipywidgets as widgets\n",
    "from IPython.display import display"
   ]
  },
  {
   "cell_type": "markdown",
   "id": "04375829",
   "metadata": {},
   "source": [
    "## What is Miller-Rabin Test?"
   ]
  },
  {
   "cell_type": "markdown",
   "id": "a3e25161",
   "metadata": {},
   "source": [
    "Algorytm Millera–Rabina to probabilistyczny test pierwszości, służący do sprawdzania, czy dana liczba całkowita n > 2 jest prawdopodobnie pierwsza. W odróżnieniu od deterministycznych metod (np. testu dzielenia przez wszystkie możliwe dzielniki), MR pozwala na bardzo szybkie odrzucanie liczb złożonych z bardzo wysokim prawdopodobieństwem."
   ]
  },
  {
   "cell_type": "markdown",
   "id": "6c53efcf-669d-4947-8166-7cb55fb87b42",
   "metadata": {},
   "source": [
    "### Idea ogólna"
   ]
  },
  {
   "cell_type": "markdown",
   "id": "b7be0242-e8e1-429b-88b3-062980c11380",
   "metadata": {},
   "source": [
    "1. Dla liczby nieparzystej `n`, zapisujemy `n-1` w postaci:\n",
    "\n",
    "    $$\n",
    "     n - 1 = 2^r \\cdot d,\\quad d\\text{ nieparzyste}.\n",
    "    $$\n",
    "\n",
    "2. Wybieramy losową bazę `a` z przedziału \\([2, n-2]\\) i obliczamy\n",
    "\n",
    "   $$\n",
    "     x = a^d \\bmod n.\n",
    "   $$\n",
    "\n",
    "3. Jeśli `x == 1` lub `x == n-1`, uważamy, że `a` nie obala pierwszości `n` i idziemy do następnej rundy.  \n",
    "4. W przeciwnym razie wykonujemy **s-1** iteracji:  \n",
    "   - `x = x^2 mod n`  \n",
    "   - Jeśli `x == n-1`, uznajemy rundę za bezpieczną i przechodzimy dalej.  \n",
    "5. Jeżeli w żadnym kroku `x` nie osiągnęło wartości `n-1`, to `a` jest świadkiem złożoności i `n` jest złożona.\n",
    "\n",
    "Powtarzamy test dla **k** różnych, losowych baz. Jeśli żadna runda nie wykryje złożoności, uznajemy `n` za **prawdopodobnie pierwszą**.\n",
    "\n",
    "---"
   ]
  },
  {
   "cell_type": "markdown",
   "id": "6fb14a37",
   "metadata": {},
   "source": [
    "## Implementation"
   ]
  },
  {
   "cell_type": "markdown",
   "id": "58a4e06a",
   "metadata": {},
   "source": [
    "### Miller-Rabin Test"
   ]
  },
  {
   "cell_type": "markdown",
   "id": "83ce2bc6",
   "metadata": {},
   "source": [
    "#### SageMath"
   ]
  },
  {
   "cell_type": "code",
   "execution_count": null,
   "id": "b8f1ddf9",
   "metadata": {
    "vscode": {
     "languageId": "sage"
    }
   },
   "outputs": [],
   "source": [
    "def millerRabinTest(n, k=DEFAULT_NUMBER_BOUND):\n",
    "    \"\"\"\n",
    "    Silny test Millera–Rabina:\n",
    "    - n: liczba do sprawdzenia\n",
    "    - k: liczba rund (im więcej, tym mniejsze prawodopodobieństwo błędu)\n",
    "    Zwraca True, jeśli n jest prawdopodobnie pierwsze; False, jeśli stwierdzono złożoność.\n",
    "    \"\"\"\n",
    "    n = Integer(n)\n",
    "    # 1) Proste przypadki\n",
    "    if n < 2:\n",
    "        return False         # wszystko < 2 nie jest pierwsze\n",
    "    if n in [2, 3]:\n",
    "        return True          # 2 i 3 są pierwsze\n",
    "    if n % 2 == 0:\n",
    "        return False         # parzyste > 2 są złożone\n",
    "\n",
    "    # 2) podział n-1 = 2^r * d\n",
    "    r = (n-1).valuation(2)\n",
    "    d = (n-1) // 2^r\n",
    "\n",
    "    # 3) k rund testu\n",
    "    for _ in range(k):\n",
    "        a = randint(2, n - 2)    # losowa baza a ∈ [2, n-2]\n",
    "        x = power_mod(a, d, n)   # a^d mod n (wbudowane potęgowanie modularne)\n",
    "\n",
    "        # 4) Jeśli od razu 1 lub n-1, baza nic nie obala\n",
    "        if x == 1 or x == n - 1:\n",
    "            continue\n",
    "\n",
    "        # 5) Sprawdzanie kolejnych kwadratów:\n",
    "        #    Powtarzamy r-1 razy: x = x^2 mod n.\n",
    "        #    Jeśli kiedykolwiek x == n-1, ta baza przechodzi test.\n",
    "        for _ in range(r - 1):\n",
    "            x = power_mod(x, 2, n)\n",
    "            if x == n - 1:\n",
    "                break\n",
    "        else:\n",
    "            # pętla wykonała się bez break → świadek złożoności\n",
    "            return False\n",
    "        \n",
    "    return True"
   ]
  },
  {
   "cell_type": "markdown",
   "id": "8e86bd00",
   "metadata": {},
   "source": [
    "#### Python"
   ]
  },
  {
   "cell_type": "code",
   "execution_count": null,
   "id": "8c194dc1",
   "metadata": {
    "vscode": {
     "languageId": "sage"
    }
   },
   "outputs": [],
   "source": [
    "from random import randint\n",
    "\n",
    "def millerRabinTestPython(n, k=DEFAULT_NUMBER_BOUND):\n",
    "    \"\"\"\n",
    "    Silny test Millera–Rabina w czystym Pythonie:\n",
    "    - n: liczba do sprawdzenia\n",
    "    - k: liczba rund (im więcej, tym mniejsze P_błąd)\n",
    "    Zwraca True, jeśli n jest prawdopodobnie pierwsze; False, jeśli wykryto złożoność.\n",
    "    \"\"\"\n",
    "\n",
    "    # 1) Obsługa małych i parzystych\n",
    "    if n < 2:\n",
    "        return False         # wszystko < 2 nie jest pierwsze\n",
    "    if n in (2, 3):\n",
    "        return True          # 2 i 3 są pierwsze\n",
    "    if n % 2 == 0:\n",
    "        return False         # wszystkie inne parzyste są złożone\n",
    "\n",
    "    # 2) Rozkład n-1 = 2^r * d, z nieparzystym d\n",
    "    r, d = 0, n - 1\n",
    "    while d % 2 == 0:\n",
    "        d //= 2\n",
    "        r += 1\n",
    "    # teraz n-1 = 2^r * d\n",
    "\n",
    "    # 3) k rund testu\n",
    "    for _ in range(k):\n",
    "        a = randint(2, n - 2)    # losowa baza a ∈ [2, n-2]\n",
    "        x = pow(a, d, n)         # a^d mod n (wbudowane potęgowanie modularne)\n",
    "\n",
    "        # 4) Jeśli od razu 1 lub n-1, baza nic nie obala\n",
    "        if x == 1 or x == n - 1:\n",
    "            continue\n",
    "\n",
    "        # 5) Sprawdzanie kolejnych kwadratów:\n",
    "        #    Powtarzamy r-1 razy: x = x^2 mod n.\n",
    "        #    Jeśli kiedykolwiek x == n-1, ta baza przechodzi test.\n",
    "        for _ in range(r - 1):\n",
    "            x = pow(x, 2, n)\n",
    "            if x == n - 1:\n",
    "                break\n",
    "        else:\n",
    "            # pętla wykonała się bez break → świadek złożoności\n",
    "            return False\n",
    "\n",
    "    # 6) Jeśli żadna baza nie wykryła złożoności → prawdopodobnie pierwsza\n",
    "    return True"
   ]
  },
  {
   "cell_type": "markdown",
   "id": "e3b5a668",
   "metadata": {},
   "source": [
    "### Miller-Rabin Test Probability\n",
    "Probability is size of number factors divided by set of numbers that you can chose from [2, n-2] numbers soo n - 2 numbers\n",
    "\n",
    "\n",
    "<b> [TODO] Explain why this codes </b>\n"
   ]
  },
  {
   "cell_type": "code",
   "execution_count": null,
   "id": "972f528e",
   "metadata": {
    "vscode": {
     "languageId": "sage"
    }
   },
   "outputs": [],
   "source": [
    "def probabilityOfMillerRabinTest(number, tests):\n",
    "  if (number < 2): raise ValueError(\"number can't be less then 3\")\n",
    "  factors = [a for a, _ in factor(number)]\n",
    "  probability = len(factors)/((number - 2)**tests)\n",
    "  return probability"
   ]
  },
  {
   "cell_type": "code",
   "execution_count": null,
   "id": "8079caa4",
   "metadata": {
    "vscode": {
     "languageId": "sage"
    }
   },
   "outputs": [],
   "source": [
    "def testsOfMillerRabinTestToSatisfyProbability(number, probability):\n",
    "  factors = [a for a, _ in factor(number)]\n",
    "  tests = math.log(len(factors) / probability) / math.log(number - 2)\n",
    "  return math.ceil(tests)"
   ]
  },
  {
   "cell_type": "markdown",
   "id": "e88bc77b",
   "metadata": {},
   "source": [
    "<b>[TODO] explain this estimations</b>"
   ]
  },
  {
   "cell_type": "code",
   "execution_count": null,
   "id": "59168476",
   "metadata": {
    "vscode": {
     "languageId": "sage"
    }
   },
   "outputs": [],
   "source": [
    "def estimatedProbabilityForMillerRabinTest(tests):\n",
    "  return (1/4)**tests"
   ]
  },
  {
   "cell_type": "code",
   "execution_count": null,
   "id": "9c9deb75-e4d5-4650-8f44-5dcedf53474a",
   "metadata": {
    "vscode": {
     "languageId": "sage"
    }
   },
   "outputs": [],
   "source": [
    "def estimatedTestForMillerRabinTestToSatisfyProbability(probability):\n",
    "    if not (0 < probability < 1): raise ValueError(\"probability must be is (0,1)\")\n",
    "    tests = math.log(1/probability, 4)\n",
    "    return math.ceil(tests)"
   ]
  },
  {
   "cell_type": "markdown",
   "id": "302d9a6b",
   "metadata": {},
   "source": [
    "## Random Number Test"
   ]
  },
  {
   "cell_type": "code",
   "execution_count": null,
   "id": "6e82a88e",
   "metadata": {
    "vscode": {
     "languageId": "sage"
    }
   },
   "outputs": [],
   "source": [
    "NUMBER = randint(DEFAULT_NUMBER_BOUND[0], DEFAULT_NUMBER_BOUND[1])\n",
    "TESTS = DEFAULT_TESTS\n",
    "PROBABILITY = DEFAULT_MAX_PROBABILITY"
   ]
  },
  {
   "cell_type": "markdown",
   "id": "1599cb1a",
   "metadata": {},
   "source": [
    "### Test if number is prime"
   ]
  },
  {
   "cell_type": "code",
   "execution_count": null,
   "id": "d7817573",
   "metadata": {
    "vscode": {
     "languageId": "sage"
    }
   },
   "outputs": [
    {
     "name": "stdout",
     "output_type": "stream",
     "text": [
      "Number: 265104\n",
      "Tests: 10\n",
      "Is Prime?: False\n"
     ]
    }
   ],
   "source": [
    "print(\"Number:\", NUMBER)\n",
    "print(\"Tests:\", TESTS)\n",
    "\n",
    "result = millerRabinTest(NUMBER, TESTS)\n",
    "print(\"Is Prime?:\", result)"
   ]
  },
  {
   "cell_type": "markdown",
   "id": "beec7c36",
   "metadata": {},
   "source": [
    "### Calculate probability for number and tests"
   ]
  },
  {
   "cell_type": "code",
   "execution_count": null,
   "id": "cbe27cfa",
   "metadata": {
    "vscode": {
     "languageId": "sage"
    }
   },
   "outputs": [
    {
     "name": "stdout",
     "output_type": "stream",
     "text": [
      "Probability: 2.33308171252445e-54\n",
      "Estimated probability: 9.53674316406250e-7\n",
      "Is probability less then estimated? True\n"
     ]
    }
   ],
   "source": [
    "probability = probabilityOfMillerRabinTest(NUMBER, TESTS)\n",
    "estimated_probability = estimatedProbabilityForMillerRabinTest(TESTS)\n",
    "\n",
    "print(\"Probability:\" ,N(probability))\n",
    "print(\"Estimated probability:\" , N(estimated_probability))\n",
    "print(\"Is probability less then estimated?\", probability < estimated_probability)"
   ]
  },
  {
   "cell_type": "markdown",
   "id": "4a461135",
   "metadata": {},
   "source": [
    "### Calculate tests for number and probability"
   ]
  },
  {
   "cell_type": "code",
   "execution_count": null,
   "id": "41b31b51",
   "metadata": {
    "tags": [],
    "vscode": {
     "languageId": "sage"
    }
   },
   "outputs": [
    {
     "name": "stdout",
     "output_type": "stream",
     "text": [
      "Tests: 2\n",
      "Estimated Tests: 10\n",
      "Are tests less then estimated tests? True\n"
     ]
    }
   ],
   "source": [
    "tests = testsOfMillerRabinTestToSatisfyProbability(NUMBER, PROBABILITY)\n",
    "estimated_tests = estimatedTestForMillerRabinTestToSatisfyProbability(PROBABILITY)\n",
    "print(\"Tests:\", tests)\n",
    "print(\"Estimated Tests:\", estimated_tests)\n",
    "print(\"Are tests less then estimated tests?\", tests < estimated_tests)"
   ]
  },
  {
   "cell_type": "markdown",
   "id": "39a6b3a5",
   "metadata": {},
   "source": [
    "## Chart of that number is prime by tests"
   ]
  },
  {
   "cell_type": "code",
   "execution_count": null,
   "id": "2d15bcf7",
   "metadata": {
    "vscode": {
     "languageId": "sage"
    }
   },
   "outputs": [],
   "source": [
    "# Probability to number\n",
    "NUMBER_BOUND = (10**2, 10**6)\n",
    "NUMBER_STEP = 10**2\n",
    "PROBABILITY = 10**-10\n",
    "TESTS = 1\n",
    "# Tests to probability\n",
    "PROBABILITY_BOUND = (10**-10, 10**-9)\n",
    "PROBABILITY_STEP = 10**-10\n",
    "# Probability to tests\n",
    "TESTS_BOUND = (10**2, 10**6)\n",
    "TESTS_STEP = 10**2"
   ]
  },
  {
   "cell_type": "markdown",
   "id": "c89f704e",
   "metadata": {},
   "source": [
    "### Calculate Data and drawGraph function"
   ]
  },
  {
   "cell_type": "code",
   "execution_count": null,
   "id": "3f0d10ee",
   "metadata": {
    "vscode": {
     "languageId": "sage"
    }
   },
   "outputs": [],
   "source": [
    "number = []\n",
    "probability = []\n",
    "tests = []\n",
    "\n",
    "i = NUMBER_BOUND[0]\n",
    "while i <= NUMBER_BOUND[1]:\n",
    "  number.append(i)\n",
    "  probability.append(probabilityOfMillerRabinTest(i, TESTS))\n",
    "  tests.append(testsOfMillerRabinTestToSatisfyProbability(i, PROBABILITY))\n",
    "  i += NUMBER_STEP"
   ]
  },
  {
   "cell_type": "code",
   "execution_count": null,
   "id": "60b3e589",
   "metadata": {
    "vscode": {
     "languageId": "sage"
    }
   },
   "outputs": [],
   "source": [
    "probability_values = []\n",
    "estimated_tests = []\n",
    "\n",
    "i = PROBABILITY_BOUND[0]\n",
    "while i <= PROBABILITY_BOUND[1]:\n",
    "  probability_values.append(i)\n",
    "  estimated_tests.append(estimatedTestForMillerRabinTestToSatisfyProbability(i))\n",
    "  i += PROBABILITY_STEP"
   ]
  },
  {
   "cell_type": "code",
   "execution_count": null,
   "id": "4a5a29e0",
   "metadata": {
    "vscode": {
     "languageId": "sage"
    }
   },
   "outputs": [],
   "source": [
    "test_values = []\n",
    "estimated_probability = []\n",
    "\n",
    "i = TESTS_BOUND[0]\n",
    "while i <= TESTS_BOUND[1]:\n",
    "  test_values.append(i)\n",
    "  estimated_probability.append(estimatedProbabilityForMillerRabinTest(i))\n",
    "  i += TESTS_STEP"
   ]
  },
  {
   "cell_type": "code",
   "execution_count": null,
   "id": "bcc66293",
   "metadata": {
    "vscode": {
     "languageId": "sage"
    }
   },
   "outputs": [],
   "source": [
    "def drawGraph():\n",
    "  fig, axes = plt.subplots(2, 2, figsize=(15, 12))  # 2 rows, 2 columns\n",
    "\n",
    "  axes[0, 0].plot(number, probability, linestyle='-', marker='o', color='blue')\n",
    "  axes[0, 0].set_title(f\"Probability for Number in {TESTS} tests of Miller-Rabin Test\")\n",
    "  axes[0, 0].set_xlabel(\"Number\")\n",
    "  axes[0, 0].set_ylabel(\"Probability\")\n",
    "  axes[0, 0].grid(True)\n",
    "\n",
    "  axes[0, 1].plot(number, tests, linestyle='-', marker='o', color='green')\n",
    "  axes[0, 1].set_title(f\"Tests for Number of Miller-Rabin that satisfy {PROBABILITY} probability\")\n",
    "  axes[0, 1].set_xlabel(\"Number\")\n",
    "  axes[0, 1].set_ylabel(\"Tests\")\n",
    "  axes[0, 1].grid(True)\n",
    "\n",
    "  axes[1, 0].plot(test_values, estimated_probability, linestyle='-', marker='o', color='red')\n",
    "  axes[1, 0].set_title(\"Estimated Probability for Tests of Miller-Rabin Test\")\n",
    "  axes[1, 0].set_xlabel(\"Tests\")\n",
    "  axes[1, 0].set_ylabel(\"Probability\")\n",
    "  axes[1, 0].grid(True)\n",
    "\n",
    "  axes[1, 1].plot(probability_values, estimated_tests, linestyle='-', marker='o', color='purple')\n",
    "  axes[1, 1].set_title(\"Estimated Tests for Probability of Miller-Rabin\")\n",
    "  axes[1, 1].set_xlabel(\"Probability\")\n",
    "  axes[1, 1].set_ylabel(\"Tests\")\n",
    "  axes[1, 1].grid(True)\n",
    "\n",
    "  plt.tight_layout()  # Adjust spacing between subplots\n",
    "  plt.show()\n"
   ]
  },
  {
   "cell_type": "markdown",
   "id": "0f0ff168",
   "metadata": {},
   "source": [
    "### Draw Graph\n"
   ]
  },
  {
   "cell_type": "code",
   "execution_count": null,
   "id": "5c2e216d",
   "metadata": {
    "vscode": {
     "languageId": "sage"
    }
   },
   "outputs": [
    {
     "data": {
      "image/png": "[encoded data removed]",
      "text/plain": [
       "<Figure size 1500x1200 with 4 Axes>"
      ]
     },
     "metadata": {},
     "output_type": "display_data"
    }
   ],
   "source": [
    "drawGraph()"
   ]
  },
  {
   "cell_type": "code",
   "execution_count": null,
   "id": "b9db300c",
   "metadata": {
    "vscode": {
     "languageId": "sage"
    }
   },
   "outputs": [],
   "source": []
  }
 ],
 "metadata": {
  "kernelspec": {
   "display_name": "SageMath 10.6",
   "language": "sage",
   "name": "sagemath"
  },
  "language_info": {
   "codemirror_mode": {
    "name": "ipython",
    "version": 3
   },
   "file_extension": ".py",
   "mimetype": "text/x-python",
   "name": "python",
   "nbconvert_exporter": "python",
   "pygments_lexer": "ipython3",
   "version": "3.12.5"
  }
 },
 "nbformat": 4,
 "nbformat_minor": 5
}
