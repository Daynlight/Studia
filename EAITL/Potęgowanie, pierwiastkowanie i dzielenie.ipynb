{
 "cells": [
  {
   "cell_type": "markdown",
   "metadata": {},
   "source": [
    "# Potęgowanie, pierwiastkowanie i dzielenie"
   ]
  },
  {
   "cell_type": "markdown",
   "metadata": {},
   "source": [
    "## 1. Szybkie potęgowanie"
   ]
  },
  {
   "cell_type": "markdown",
   "metadata": {},
   "source": [
    "Szybkie potęgowanie bazuje na obserwacji, że dla $a\\in\\mathbb{Z}$, $e\\in\\mathbb{N}$ mamy:\n",
    "$$a^e=\\begin{cases}\\left( a^{e/2}\\right)^2 & \\mathrm{jeśli}\\; e\\; \\mathrm{jest\\; parzysta},\\\\\n",
    "a^{e-1}\\cdot a & \\mathrm{jeśli}\\; e\\; \\mathrm{jest\\; nieparzysta}.\n",
    "\\end{cases}$$\n",
    "Zatem, możemy wykorzystać przedstawienie liczby $e$ w postaci  \n",
    "$$e=e_02^0+e_12^1+e_22^2+\\ldots +e_m2^m,\\quad\\quad e_0,e_1,e_2,\\ldots ,e_m\\in\\{ 0,1\\}$$\n",
    "aby obliczyć\n",
    "$$a^e=a^{e_02^0+e_12^1+e_2 2^2+\\ldots +e_m2^m}=a^{e_02^0}\\cdot a^{e_12^1}\\cdot a^{e_2 2^2}\\cdot\\ldots\\cdot a^{e_m2^m} = a^{e_0}\\cdot (a^{2})^{e_1}\\cdot (a^{2^2})^{e_2}\\cdot\\ldots\\cdot (a^{2^m})^{e_m}.$$"
   ]
  },
  {
   "cell_type": "markdown",
   "metadata": {},
   "source": [
    "Aby przedstawić daną liczbę całkowitą w postaci binarnej możemy wykorzystać komendy `binary()` i `digits(2)` (oczywiście, samodzielnie też można napisać ten prosty program - spróbuj). Na przykład, dla liczby $22$ mamy:"
   ]
  },
  {
   "cell_type": "code",
   "execution_count": null,
   "metadata": {},
   "outputs": [],
   "source": [
    "a=22.digits(2)\n",
    "b=22.binary()\n",
    "print('a = ', a, ',', type(a))\n",
    "print('b = ', b, ',', type(b))\n",
    "b\n",
    "# Wciśnij SHIFT ENTER"
   ]
  },
  {
   "cell_type": "markdown",
   "metadata": {},
   "source": [
    "Zwróć uwagę na kolejność cyfr w obu przypadkach. Zuważ też, że komenda `binary()` zwraca element typu `string`, ale przy wyświetlaniu jej przez `print` ten aspekt nie jest widoczny. Aby przekształcić element typu string na konkretny obiekt, można użyć komendy `eval()`. Na przykład:"
   ]
  },
  {
   "cell_type": "code",
   "execution_count": null,
   "metadata": {},
   "outputs": [],
   "source": [
    "a=22.binary()\n",
    "aa=eval(a)\n",
    "print(type(aa))\n",
    "eval('ZZ')"
   ]
  },
  {
   "cell_type": "markdown",
   "metadata": {},
   "source": [
    "Jednakże, z komend `binary()` lub `digits(2)` można skorzystać tylko wtedy, gdy SageMath traktuje ich argument jako liczbę całkowitą. Na przykład:"
   ]
  },
  {
   "cell_type": "code",
   "execution_count": null,
   "metadata": {},
   "outputs": [],
   "source": [
    "print(ZZ(22/2).digits(2))\n",
    "ZZ(22/2).binary()"
   ]
  },
  {
   "cell_type": "markdown",
   "metadata": {},
   "source": [
    "zwracają poprawny wynik, gdyż zapis `ZZ(22/2)` przekształca liczbę wymierną $22/2$ na całkowitą. Ale już w przypadku zapisu `(22/2).digits(2)` lub `(22/2).binary()` dostaniemy błąd - sprawdź to."
   ]
  },
  {
   "cell_type": "code",
   "execution_count": null,
   "metadata": {},
   "outputs": [],
   "source": [
    "(22/2).digits(2)\n",
    "# Wciśnij SHIFT ENTER"
   ]
  },
  {
   "cell_type": "code",
   "execution_count": null,
   "metadata": {},
   "outputs": [],
   "source": [
    "(22/2).binary()\n",
    "# Wciśnij SHIFT ENTER"
   ]
  },
  {
   "cell_type": "markdown",
   "metadata": {},
   "source": [
    "**Zadanie 1.1** (zapis w systemie binarnym)  \n",
    "Aby uniknąć wyżej wymienionych problemów, zdefiniuj funkcję `bin()`, która dla nieujemnej liczby całkowitej zwróci jej zapis w systemie binarnym. Dla przyszłych zastosowań wygodnie będzie, by funkcja `bin()` zwracała listę, w której reszta z dzielenia danej liczby przez $2$ będzie po lewej stronie; czyli żeby na przykład: $\\quad$ `bin(11) = [1,1,0,1]`."
   ]
  },
  {
   "cell_type": "code",
   "execution_count": null,
   "metadata": {},
   "outputs": [],
   "source": []
  },
  {
   "cell_type": "markdown",
   "metadata": {},
   "source": [
    "**Zadanie 1.2** (szybkie potęgowanie)  \n",
    "Dla liczb całkowitych $a$ i $e$, $e\\geq 0$, napisz algorytm, który wykorzystuje reprezentację binarną liczby $e$ aby obliczyć $a^e$."
   ]
  },
  {
   "cell_type": "code",
   "execution_count": null,
   "metadata": {},
   "outputs": [],
   "source": []
  },
  {
   "cell_type": "markdown",
   "metadata": {},
   "source": [
    "**Zadanie 1.3**  \n",
    "Liczby Fibonacciego to ciąg liczb całkowitych określony następującą formułą rekurencyjną:\n",
    "$$F_0=0,\\quad F_1 =1, \\quad F_{n+2} = F_{n+1}+F_{n}\\quad\\mathrm{dla}\\quad n\\geq 0.$$\n",
    "Taką formułę rekurencyjną można również zapisać za pomocą macierzy:\n",
    "$$\\left[\\begin{matrix} F_{n+2} & F_{n+1}\\\\ F_{n+1} & F_n\\end{matrix}\\right] =\n",
    "\\left[\\begin{matrix} F_{n+1} & F_{n}\\\\ F_{n} & F_{n-1}\\end{matrix}\\right]\n",
    "\\left[\\begin{matrix} 1 & 1\\\\ 1 & 0 \\end{matrix}\\right] .$$"
   ]
  },
  {
   "cell_type": "markdown",
   "metadata": {},
   "source": [
    "**a).** Zdefiniuj funkcję `Fib(n)`, której argumentem jest liczba całkowita nieujemna $n$ i która zwraca liczbę Fibonacciego $F_n$. Do definicji funkcji `Fib(n)` wykorzystaj tylko dodawanie. Sprawdź czas działania tej funkcji dla $n=20$."
   ]
  },
  {
   "cell_type": "code",
   "execution_count": null,
   "metadata": {},
   "outputs": [],
   "source": [
    "def Fib(n):\n",
    "\n",
    "    return \n",
    "print(Fib(20))\n",
    "%timeit Fib(20)"
   ]
  },
  {
   "cell_type": "markdown",
   "metadata": {},
   "source": [
    "**b).** Korzystając z postaci macierzowej oraz szybkiego potęgowania, oblicz $F_{20}$. Sprawdź, że wynik jest poprawny poprzez porównanie go z wartością `Fib(20)`. Sprawdź średni czas szybkiego potęgowania. Zwróć uwagę, że jest on znacznie krótszy niż dla `Fib(20)`."
   ]
  },
  {
   "cell_type": "code",
   "execution_count": null,
   "metadata": {},
   "outputs": [],
   "source": []
  },
  {
   "cell_type": "markdown",
   "metadata": {},
   "source": [
    "## 2. Równanie $\\quad x^2=a$."
   ]
  },
  {
   "cell_type": "markdown",
   "metadata": {},
   "source": [
    "Niech $\\mathbb{F}$ będzie ciałem skończonym. Mówimy, że $x\\in\\mathbb{F}$ jest **pierwiastkiem** (stopnia drugiego) z elementu $a\\in\\mathbb{F}$, gdy $\\quad x^2=a$.  \n",
    "Jeśli równanie $x^2=a$ ma rozwiązanie w $\\mathbb{F}$, to mówimy, że $a$ jest **kwadratem** lub **resztą kwadratową** w $\\mathbb{F}$. Zauważmy, że:\n",
    "- równanie $x^2=a$ posiada co najwyżej dwa rozwiązania;\n",
    "- jeśli $x_0$ spełnia równanie $x^2=a$, to $-x_0$ również."
   ]
  },
  {
   "cell_type": "markdown",
   "metadata": {},
   "source": [
    "Niech $\\mathbb{F}$ będzie ciałem skończonym charakterystki $2$, tzn. $\\mathbb{F}\\cong\\mathbb{Z}_2[x]/f(x)\\mathbb{Z}_2[x]$, gdzie $f\\in\\mathbb{Z}_2[x]$ jest pewnym wielomianem nierozkładalnym stopnia $n\\in\\mathbb{N}$. Wtedy ciało $\\mathbb{F}$ ma $2^n$ elementów. Zatem, jak wiemy z wykładu, dla każdego elementu $a\\in\\mathbb{F}\\backslash\\{ 0\\}$ mamy: \n",
    "$$a^{2^n-1}=1,\\quad \\mathrm{więc}\\quad a^{2^n}=a,\\quad \\mathrm{więc}\\quad \\sqrt{a}=a^{1/2}=(a^{2^n})^{1/2}=a^{2^{n-1}}.$$\n",
    "Zatem w ciele charakterystyki $2$ każdy element posiada pierwiastek stopnia drugiego. Ponieważ w $\\mathbb{Z}_2$ mamy $a^{2^{n-1}}=-a^{2^{n-1}}$, więc taki pierwiastek jest dokładnie jeden."
   ]
  },
  {
   "cell_type": "markdown",
   "metadata": {},
   "source": [
    "**Zadanie 2.1** Niech $\\mathbb{F}_{2^7}\\cong\\mathbb{Z}_2[x]/(x^7+x^6+1)\\mathbb{Z}_2[x]$."
   ]
  },
  {
   "cell_type": "markdown",
   "metadata": {},
   "source": [
    "**a).** Sprawdź, że $\\mathbb{F}_{2^7}$ jest ciałem."
   ]
  },
  {
   "cell_type": "code",
   "execution_count": null,
   "metadata": {},
   "outputs": [],
   "source": [
    "R.<x> = PolynomialRing(GF(2)) # pierścień wielomianów zmiennej x nad ciałem F_2={0,1} z dodawaniem i mnożeniem modulo 2\n",
    "f=x^7+x^6+1\n",
    "F.<w>=R.quotient(f*R)\n",
    "# Sprawdź, że F.<w> jest ciałem.\n"
   ]
  },
  {
   "cell_type": "markdown",
   "metadata": {},
   "source": [
    "**b).** Wykorzystując szybkie potęgowanie, oblicz pierwiastek z $a= x^5+1 +(x^7+x^6+1)\\mathbb{Z}_2[x]$ w ciele $\\mathbb{F}_{2^7}$. Sprawdź, że uzyskany wynik jest prawdziwy."
   ]
  },
  {
   "cell_type": "code",
   "execution_count": null,
   "metadata": {},
   "outputs": [],
   "source": [
    "a=w^5+1\n",
    "# Znajdź pierwiastek z elementu a."
   ]
  },
  {
   "cell_type": "markdown",
   "metadata": {},
   "source": [
    "#####  \n",
    "Załóżmy teraz, że $\\mathbb{F}$ jest ciałem skończonym charakterystki $p\\neq 2$, tzn. $\\mathbb{F}\\cong\\mathbb{Z}_p[x]/f(x)\\mathbb{Z}_p[x]$, gdzie $f\\in\\mathbb{Z}_p[x]$ jest pewnym wielomianem nierozkładalnym stopnia $n\\in\\mathbb{N}$ i $p$ jest liczbą pierwszą różną od $2$. Wtedy ciało $\\mathbb{F}$ ma $p^n$ elementów. Zatem, jak wiemy z wykładu, dla każdego elementu $a\\in\\mathbb{F}\\backslash\\{ 0\\}$ mamy $a^{p^n-1}=1$. Zauważmy, że:\n",
    "$$a^{p^n-1}=1 \\quad\\Leftrightarrow\\quad (a^{(p^n-1)/2}-1)(a^{(p^n-1)/2}+1)=0 \\quad\\Leftrightarrow\\quad a^{(p^n-1)/2}=1\\;\\; \\mathrm{lub}\\;\\; a^{(p^n-1)/2}=-1.$$\n",
    "Zatem dla każdego elementu $a\\in\\mathbb{F}\\backslash\\{ 0\\}\\quad$ albo $\\quad a^{(p^n-1)/2}=1\\quad $ albo $\\quad a^{(p^n-1)/2}=-1.\\quad$\n",
    "Okazuje się, że dokłanie połowa elementów $a\\in\\mathbb{F}\\backslash\\{ 0\\}$ spełnia każdy z tych warunków. **Kryterium Eulera** stwierdza, że:\n",
    "$$\\exists_{x\\in\\mathbb{F}}\\, x^2 =a\\quad\\Leftrightarrow\\quad a^{(p^n-1)/2}=1.$$\n",
    "Jeśli $n=1$ i $p=4k+3$ dla pewnego $k\\in\\mathbb{N}$, to \n",
    "$$x^2=x\\cdot x=x^p\\cdot x =x^{p+1}=x^{4k+4}.$$\n",
    "Zatem:\n",
    "$$a=x^2\\quad\\Leftrightarrow\\quad a=x^{4(k+1)}\\quad\\Leftrightarrow\\quad\\sqrt{a}=\\pm x^{2(k+1)}=\\pm (x^2)^{k+1} ,$$\n",
    "co oznacza, że $$\\mathrm{jeśli} \\quad a=x^2\\quad \\mathrm{to}\\quad \\sqrt{a}=\\pm a^{(p+1)/4} .$$\n",
    "Podobny wzór zachodzi, gdy $n$ jest liczbą nieparzystą."
   ]
  },
  {
   "cell_type": "markdown",
   "metadata": {},
   "source": [
    "**Zadanie 2.2** "
   ]
  },
  {
   "cell_type": "markdown",
   "metadata": {},
   "source": [
    "**a).** Niech $p=163$. Sprawdź, że $p$ jest liczbą pierwszą postaci $4k+3$, $k\\in\\mathbb{Z}$. Dla sześciu losowo wybranych elementów $a\\in\\mathbb{Z}_{163}$ oblicz ich pierwiastki stopnia drugiego (o ile istnieją)."
   ]
  },
  {
   "cell_type": "code",
   "execution_count": null,
   "metadata": {},
   "outputs": [],
   "source": []
  },
  {
   "cell_type": "markdown",
   "metadata": {},
   "source": [
    "**b).** Niech $p\\neq 2$ będzie liczbą pierwszą. Napisz algorytm, który w ciele $\\mathbb{Z}_{p}$ znajduje element, który nie jest resztą kwadratową."
   ]
  },
  {
   "cell_type": "code",
   "execution_count": null,
   "metadata": {},
   "outputs": [],
   "source": []
  },
  {
   "cell_type": "markdown",
   "metadata": {},
   "source": [
    "#####  \n",
    "Ciało $\\mathbb{Z}_p$, gdzie $p$ jest liczbą pierwszą postaci $p=4k+1$, $k\\in\\mathbb{N}$, nie ma swojego własnego algorytmu na znajdowanie pierwiastków drugiego stopnia. W tym przypadku możemy stosować algorytmy, które działają dla dowolnej potęgi liczby pierwszej, np. algorytm Tonelli-Shanks'a lub algorytm Cipolli. Można o nich przeczytać w notatkach dr J. Booher'a https://www.math.canterbury.ac.nz/~j.booher/expos/sqr_qnr.pdf (dla ciała $\\mathbb{Z}_p$) lub w książce E. Bach, J. Shallit, \"Algorithmic number theory. Volume I: Efficient algorithms\" (dla dowolnego ciała skończonego).  \n"
   ]
  },
  {
   "cell_type": "markdown",
   "metadata": {},
   "source": [
    "  "
   ]
  },
  {
   "cell_type": "markdown",
   "metadata": {},
   "source": [
    "## 3. Równanie $\\quad ax=1$."
   ]
  },
  {
   "cell_type": "markdown",
   "metadata": {},
   "source": [
    "Rozważmy najpierw powyższe równanie w pierścieniu $\\mathbb{Z}_n$, to znaczy $n\\in\\mathbb{N}$, $a\\in\\mathbb{Z}_n$ i szukamy $x\\in\\mathbb{Z}_n$ takiego, że $\\quad ax=1\\quad$ w $\\mathbb{Z}_n$; taki $x$ jest elementem odwrotnym do $a$ w pierścieniu $\\mathbb{Z}_n$. Zauważmy, że:\n",
    "$$\\exists_{x\\in\\mathbb{Z}_n}\\; ax=1\\quad\\Leftrightarrow\\quad \\exists_{x, y\\in\\mathbb{Z}}\\; ax+ny=1.$$\n",
    "Można udowodnić, że: $\\quad \\exists_{x, y\\in\\mathbb{Z}}\\; ax+ny=1 \\quad\\Leftrightarrow\\quad \\mathrm{NWD}(a,n)=1$.  \n",
    "Ogólniejsze twierdzenie przyjmuje postać:  \n",
    "$$\\forall_{a,n,d\\in\\mathbb{Z}}\\,\\exists_{x,y\\in\\mathbb{Z}}\\; ax+ny=d\\quad\\Leftrightarrow\\quad \\mathrm{NWD}(a,n)\\;\\mathrm{dzieli}\\; d.$$\n",
    "\n",
    "Mając dane liczby $a,n,d\\in\\mathbb{Z}$ takie, że $\\mathrm{NWD}(a,n)=d$, możemy znaleźć $x,y\\in\\mathbb{Z}$ spełniające równanie $ax+ny=d$  za pomocą **rozszerzonego algorytmu Euklidesa**. Mianowicie, definiujemy rekurencyjnie\n",
    "$$(r_0,s_0,t_0) = (a,1,0),\\quad (r_1,s_1,t_1) = (n,0,1),\\quad (r_{i+1},s_{i+1},t_{i+1}) = (r_{i-1},s_{i-1},t_{i-1})-q_i(r_{i},s_{i},t_{i}),$$\n",
    "gdzie $q_i=\\left[\\frac{r_{i-1}}{r_i}\\right]$ jest cechą (podłogą) z liczby $\\frac{r_{i-1}}{r_i}$. Kończymy algorytm, gdy $r_m=0$; wtedy \n",
    "$$r_{m-1}=\\mathrm{NWD}(a,n)=as_{m-1}+nt_{m-1}.$$"
   ]
  },
  {
   "cell_type": "markdown",
   "metadata": {},
   "source": [
    "**Zadanie 3.1** (rozszerzony algorytm Euklidesa)  \n",
    "Zaimplementuj rozszerzony algorytm Euklidesa. Mianowicie, napisz funkcję, która:\n",
    "- przyjmuje dwa argumenty: $a,n\\in\\mathbb{Z}$,\n",
    "- zwraca $x,y,d\\in\\mathbb{Z}$ takie, że $ax+ny=d$, gdzie $d=\\mathrm{NWD}(a,n)$."
   ]
  },
  {
   "cell_type": "code",
   "execution_count": null,
   "metadata": {},
   "outputs": [],
   "source": [
    "  "
   ]
  },
  {
   "cell_type": "markdown",
   "metadata": {},
   "source": [
    "**Zadanie 3.2**  \n",
    "**a).** Wykorzystaj rozszerzony algorytm Euklidesa do rozwiązania równania $\\quad 17x=1\\quad $ w $\\mathbb{Z}_{61}$."
   ]
  },
  {
   "cell_type": "code",
   "execution_count": null,
   "metadata": {},
   "outputs": [],
   "source": []
  },
  {
   "cell_type": "markdown",
   "metadata": {},
   "source": [
    "**b).** Zdefiniuj funkcję, która dla $n\\in\\mathbb{N}$ i $a\\in\\mathbb{Z}_n$ znajduje element odwrotny do $a$ w $\\mathbb{Z}_n$ (o ile taki element istnieje)."
   ]
  },
  {
   "cell_type": "code",
   "execution_count": null,
   "metadata": {},
   "outputs": [],
   "source": []
  },
  {
   "cell_type": "markdown",
   "metadata": {},
   "source": [
    "  "
   ]
  },
  {
   "cell_type": "markdown",
   "metadata": {},
   "source": [
    "**Zadanie 3.3**  \n",
    "Wykorzystaj rozszerzony algorytm Euklidesa do znalezienia jednego rozwiązania następujących równań w zbiorze liczb całkowitych: "
   ]
  },
  {
   "cell_type": "markdown",
   "metadata": {},
   "source": [
    "**a).** $\\quad 320x+73y=1$"
   ]
  },
  {
   "cell_type": "code",
   "execution_count": null,
   "metadata": {},
   "outputs": [],
   "source": []
  },
  {
   "cell_type": "markdown",
   "metadata": {},
   "source": [
    "**b).** $\\quad 3x+4y=13$"
   ]
  },
  {
   "cell_type": "code",
   "execution_count": null,
   "metadata": {},
   "outputs": [],
   "source": []
  },
  {
   "cell_type": "markdown",
   "metadata": {},
   "source": [
    "**c).** $\\quad 21x+111y=2$"
   ]
  },
  {
   "cell_type": "code",
   "execution_count": null,
   "metadata": {},
   "outputs": [],
   "source": []
  },
  {
   "cell_type": "markdown",
   "metadata": {},
   "source": [
    "## 4. Algorytm Euklidesa dla wielomianów"
   ]
  },
  {
   "cell_type": "markdown",
   "metadata": {},
   "source": [
    "Przypomnijmy, że w programie SageMath można zdefiniować pierścień wielomianów o współczynnikach z dowolnego pierścienia. **Na przykład**:"
   ]
  },
  {
   "cell_type": "code",
   "execution_count": null,
   "metadata": {},
   "outputs": [],
   "source": [
    "R.<x> = PolynomialRing(QQ) # QQ oznacza pierścień liczb wymiernych\n",
    "f=18*x^3-42*x^2+30*x-6\n",
    "print('R = ', R)\n",
    "print('f(x) = ', f)\n",
    "print('st(f) = ', f.degree())\n",
    "print(f.leading_coefficient())"
   ]
  },
  {
   "cell_type": "markdown",
   "metadata": {},
   "source": [
    "Jak widać z powyższego przykładu, komenda `degree()` wyznacza stopień danego wielomianu, a komenda `leading_coefficient()` wyznacza jego współczynnik wiodący, tzn. współczynnik przy najwyższej potędze zmiennej $x$. Oczywiście, za pomocą odpowiednich komend, możemy łatwo podzielić wielomiany lub znaleźć ich największy wspólny dzielnik:"
   ]
  },
  {
   "cell_type": "code",
   "execution_count": null,
   "metadata": {},
   "outputs": [],
   "source": [
    "R.<x> = PolynomialRing(QQ)\n",
    "f=18*x^3-42*x^2+30*x-6\n",
    "g=-12*x^2+10*x-2\n",
    "r = (f % g) # reszta z dzielenia f przez g\n",
    "q=f//g # q jest takie, że f = q*g +r\n",
    "print('f = ', f)\n",
    "print('q*g + r = ', q*g+r)\n",
    "print('q = ', q)\n",
    "print('r = ', r)\n",
    "print('f/g = ', f/g)\n",
    "print('gcd(f,g) = ', gcd(f,g))"
   ]
  },
  {
   "cell_type": "markdown",
   "metadata": {},
   "source": [
    "**Zadanie 4.1** Wykorzystując komendy `degree()` oraz `leading_coefficient()`, zdefiniuj funkcję, która wykonuje dzielenie z resztą dla wielomianów, to znaczy:\n",
    "- przyjmuje dwa argumenty: wielomiany $f$ i $g$, \n",
    "- porządkuje argumenty tak by $\\mathrm{st}(f)\\geq\\mathrm{st}(g)$ (o ile to konieczne),\n",
    "- zwraca $[q,r]$ takie, że $f = q\\cdot g + r$, gdzie $\\mathrm{st}(r)<\\mathrm{st}(g)$.  \n",
    "\n",
    "Nie używaj komend `//` oraz `%`."
   ]
  },
  {
   "cell_type": "code",
   "execution_count": null,
   "metadata": {},
   "outputs": [],
   "source": [
    "       \n",
    "    "
   ]
  },
  {
   "cell_type": "markdown",
   "metadata": {},
   "source": [
    "**Zadanie 4.2** Wykorzystując funkcję z zadania 3.1, napisz algorytm, który znajduje największy wspólny dzielnik dwóch wielomianów zmiennej $x$ o współczynnikach z ustalonego pierścienia (algorytm Euklidesa dla wielomianów)."
   ]
  },
  {
   "cell_type": "code",
   "execution_count": null,
   "metadata": {},
   "outputs": [],
   "source": []
  },
  {
   "cell_type": "markdown",
   "metadata": {},
   "source": [
    "**Zadanie 4.3** Napisz rozszerzony algorytm Euklidesa dla wielomianów, tzn. napisz funkcję, która:\n",
    "- przyjmuje dwa argumenty: wielomiany $f$ i $g$, \n",
    "- zwraca $[s,t,d]$ takie, że $\\quad sf + tg = d\\quad$, gdzie $d=\\mathrm{NWD}(f,g)$."
   ]
  },
  {
   "cell_type": "code",
   "execution_count": null,
   "metadata": {},
   "outputs": [],
   "source": []
  }
 ],
 "metadata": {
  "kernelspec": {
   "display_name": "SageMath 9.3",
   "language": "sage",
   "name": "sagemath"
  },
  "language_info": {
   "codemirror_mode": {
    "name": "ipython",
    "version": 3
   },
   "file_extension": ".py",
   "mimetype": "text/x-python",
   "name": "python",
   "nbconvert_exporter": "python",
   "pygments_lexer": "ipython3",
   "version": "3.7.10"
  }
 },
 "nbformat": 4,
 "nbformat_minor": 4
}
