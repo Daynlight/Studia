{
 "cells": [
  {
   "cell_type": "markdown",
   "metadata": {},
   "source": [
    "# Permutacje, generatory i grupy cykliczne"
   ]
  },
  {
   "cell_type": "markdown",
   "metadata": {},
   "source": [
    "Jednym z celów tego zestawu jest zrozumienie pojęć takich jak `rząd grupy`, `grupa cykliczna` i jej `generator`, oraz `rząd elementu` na przykładach grupy permutacji oraz grup multyplikatywnych ciał skończonych.\n",
    "\n",
    "Przypomnijmy, że **rzędem grupy** nazywamy liczbę elementów tej grupy; jest to liczba naturalna lub nieskończoność.\n",
    "\n",
    "Mówimy, że grupa $(G,*)$ jest **cykliczna**, jeśli istnieje element $g\\in G$ za pomocą, którego można wygenerować cały zbiór $G$, tzn.\n",
    "$$G=\\{ g, g*g, g*g*g, \\ldots\\}\\cup\\{g^{-1}, g^{-1}*g^{-1}, g^{-1}*g^{-1}*g^{-1}, \\ldots\\}\\cup\\{ e\\} ,$$\n",
    "gdzie $e$ jest elementem neutralnym grupy $G$, a $ g^{-1}$ jest elementem odwrotnym do $g$; taki element $g$ nazywamy **generatorem grupy** $G$. \n",
    "\n",
    "Dla dowolnego elementu $g\\in G$, zbiór\n",
    "$$\\langle g\\rangle \\stackrel{def}{=} \\{ g,g*g,\\ldots \\}\\cup\\{g^{-1}, g^{-1}*g^{-1},\\ldots\\}\\cup\\{ e\\}$$\n",
    "wraz z działaniem $*$ jest podgrupą grupy $G$.  \n",
    "**Rzędem elementu** $g$ nazywamy rząd grupy $\\langle g\\rangle$ (jest to liczba naturalna lub nieskończoność). Jeśli rząd elementu $g$ jest liczbą naturalną, to istnieje takie $n\\in\\mathbb{N}$, że\n",
    "$$\\langle g\\rangle=\\{ g,g*g,\\ldots ,\\underbrace{g*\\ldots *g}_{n\\; \\mathrm{składników}}\\} .$$\n",
    "Najmniejsze $n\\in\\mathbb{N}$ o takiej własności jest równe rzędowi elementu $g$;  wtedy $\\underbrace{g*\\ldots *g}_{n \\;\\mathrm{składników}}=e$.\n",
    "\n",
    "W poniższych przykładach będziemy rozważać tylko grupy skończone, a działaniem w tych grupach będzie mnożenie. Wtedy \n",
    "$$\\langle g\\rangle = \\{ g,g^2,\\ldots ,g^n \\}$$\n",
    "dla pewnego $n\\in\\mathbb{N}$.  \n",
    "(W przypadku grupy permutacji działaniem jest oczywiście składanie permutacji, ale w programie SageMath zapisuje się je dokładnie tak samo jak mnożenie.)"
   ]
  },
  {
   "cell_type": "markdown",
   "metadata": {},
   "source": [
    "## 1. Permutacje"
   ]
  },
  {
   "cell_type": "markdown",
   "metadata": {},
   "source": [
    "Grupa permutacji $S_n$ zbioru $n$-elementowego jest zaimplementowana w SageMath pod nazwą `SymmetricGroup(n)`. Można do niej stosować między innymi następujące komendy: `random_element()`, `order()`, `is_cyclic()`, `list()`."
   ]
  },
  {
   "cell_type": "markdown",
   "metadata": {},
   "source": [
    "**Zadanie 1.1** Spróbuj zastosować komendy wymienione powyżej do grupy permutacji $S_4$ zbioru $4$-elementowego. Czy domyślasz się co one znaczą? Jeśli masz wątpliwości, sprawdź opis tych komend dopisując do nich znak zapytania (np. `order?`) i wciskając SHIFT ENTER. Które z tych komend można również zastosować do elementów zbioru $S_4$?"
   ]
  },
  {
   "cell_type": "code",
   "execution_count": null,
   "metadata": {},
   "outputs": [],
   "source": [
    "S4 = SymmetricGroup(4)\n"
   ]
  },
  {
   "cell_type": "markdown",
   "metadata": {},
   "source": [
    "Zauważ, że elementy grupy `SymmetricGroup(n)` są automatycznie wyświetlane w postaci iloczynu cykli. W szczególności, jeśli chcemy rozłożyć permutację \n",
    "$$\\left(\\begin{array}{} \n",
    "1 & 2 & 3 & 4 & 5 & 6 & 7 & 8 & 9 & 10 & 11 & 12\\\\\n",
    "5 & 7 & 3 & 6 & 4 & 1 & 2 & 11 & 10 & 8 & 12 & 9\n",
    "\\end{array}\\right)$$\n",
    "na iloczyn cykli rozłącznych, wystarczy napisać:"
   ]
  },
  {
   "cell_type": "code",
   "execution_count": null,
   "metadata": {},
   "outputs": [],
   "source": [
    "S12 = SymmetricGroup(12)\n",
    "S12([5,7,3,6,4,1,2,11,10,8,12,9])\n",
    "# Sprawdź wynik przyciskając jednocześnie SHIFT i ENTER."
   ]
  },
  {
   "cell_type": "markdown",
   "metadata": {},
   "source": [
    "**Ćwiczenie:** Niech `a = S12([5,7,3,6,4,1,2,11,10,8,12,9])`. Wyświetl permutację `a` stosując `print`, a następnie sprawdź działanie komend `a[0](5)` i `a[0](9)`. Jak myślisz, co one oznaczają?"
   ]
  },
  {
   "cell_type": "code",
   "execution_count": null,
   "metadata": {},
   "outputs": [],
   "source": []
  },
  {
   "cell_type": "markdown",
   "metadata": {},
   "source": [
    "**Zadanie 1.2** "
   ]
  },
  {
   "cell_type": "markdown",
   "metadata": {},
   "source": [
    "**a).** Jakiej komendy należy użyć aby znaleźć złożenie dwóch permutacji? Sprawdź swoje przypuszczenie na konkretnym przykładzie. Czy przy wykonywaniu złożenia permutacji $\\sigma\\tau$ program SageMath najpierw patrzy na $\\tau$ a potem na $\\sigma$, czy odwrotnie?"
   ]
  },
  {
   "cell_type": "code",
   "execution_count": null,
   "metadata": {},
   "outputs": [],
   "source": []
  },
  {
   "cell_type": "markdown",
   "metadata": {},
   "source": [
    "**b).** Jakiej komendy należy użyć aby szybko znaleźć permutację odwrotną do permutacji `a = S12([5,7,3,6,4,1,2,11,10,8,12,9])`? Sprawdź czy uzyskana permutacja rzeczywiście jest permutacją odwrotną do $a$ poprzez złożenie ją z $a$."
   ]
  },
  {
   "cell_type": "code",
   "execution_count": null,
   "metadata": {},
   "outputs": [],
   "source": []
  },
  {
   "cell_type": "markdown",
   "metadata": {},
   "source": [
    "**c).** Wygeneruj przykład na to, że działanie składania permutacji nie jest działaniem przemiennym."
   ]
  },
  {
   "cell_type": "code",
   "execution_count": null,
   "metadata": {},
   "outputs": [],
   "source": []
  },
  {
   "cell_type": "markdown",
   "metadata": {},
   "source": [
    "**Zadanie 1.3** Rozważ grupę permutacji $S_5$ zbioru $5$-elementowego. Dla każdego elementu $a\\in S_5$ utwórz i wyświetl zbiór składający się z elementów $b a b^{-1}$, gdzie $b\\in S_5$. (Aby utworzyć zbiór, użyj komendy `Set()`. Różnica pomiędzy zbiorem `Set()` i listą `list()` jest między innymi taka, że w zbiorze żaden element się nie powtarza, a w liście może się to zdarzyć.)  \n",
    "Co możesz powiedzieć o rozkładzie na cykle dla permutacji z danego zbioru?"
   ]
  },
  {
   "cell_type": "code",
   "execution_count": null,
   "metadata": {},
   "outputs": [],
   "source": []
  },
  {
   "cell_type": "markdown",
   "metadata": {},
   "source": [
    "**Uwaga:** Jeśli $\\sigma, \\rho\\in S_n$ są permutacjami zbioru $n$-elementowego oraz $\\rho=\\tau\\circ \\sigma\\circ \\tau^{-1}$ dla pewnej permutacji $\\tau\\in S_n$, to mówimy, że permutacje $\\sigma$ i $\\rho$ są sprzężone."
   ]
  },
  {
   "cell_type": "markdown",
   "metadata": {},
   "source": [
    "**Zadanie 1.4** Rozważ grupę permutacji $S_5$ zbioru $5$-elementowego."
   ]
  },
  {
   "cell_type": "markdown",
   "metadata": {},
   "source": [
    "**a).** Zdefiniuj funkcję, która dla danego elementu $a\\in S_5$ zwraca rząd $a$. Skorzystaj przy tym tylko z definicji lub własności rzędu, a nie z komendy `order()`."
   ]
  },
  {
   "cell_type": "code",
   "execution_count": null,
   "metadata": {},
   "outputs": [],
   "source": []
  },
  {
   "cell_type": "markdown",
   "metadata": {},
   "source": [
    "**b).** Korzystając z funkcji z punktu a), dla każdego elementu $a\\in S_5$ wyświetl obok siebie: $a$ oraz rząd $a$. Zauważ, że rząd $a$ dzieli rząd grupy $S_5$ (wynika to z [twierdzenia Lagrange'a](https://pl.wikipedia.org/wiki/Twierdzenie_Lagrange%E2%80%99a_(teoria_grup)) ).  \n",
    "Czy dostrzegasz jakiś związek pomiędzy rzędem $a$ oraz rozkładem $a$ na cykle? Spróbuj podać wzór na rząd elementu $a$ w zależności od długości jego cykli."
   ]
  },
  {
   "cell_type": "code",
   "execution_count": null,
   "metadata": {},
   "outputs": [],
   "source": []
  },
  {
   "cell_type": "markdown",
   "metadata": {},
   "source": [
    "**c).** W kodzie poniżej wykorzystano komendę `subroup()`. Jak myślisz, do czego ona służy? "
   ]
  },
  {
   "cell_type": "code",
   "execution_count": null,
   "metadata": {},
   "outputs": [],
   "source": [
    "S5 = SymmetricGroup(5)\n",
    "a=S5([4,3,2,5,1])\n",
    "G=S5.subgroup([a])\n",
    "print('a =', a)\n",
    "print(G)\n",
    "print('G =', G.list())\n",
    "# wciśnij SHIFT ENTER"
   ]
  },
  {
   "cell_type": "markdown",
   "metadata": {},
   "source": [
    "Wykorzystaj komendę `subroup()` aby dla każdego elementu $a\\in S_5$ wyświetlić obok siebie: elementy grupy generowanej przez $a$ oraz rząd $a$. Zwróć uwagę na to jak wyglądają kolejne elementy grupy generowanej przez $a$."
   ]
  },
  {
   "cell_type": "code",
   "execution_count": null,
   "metadata": {},
   "outputs": [],
   "source": []
  },
  {
   "cell_type": "markdown",
   "metadata": {},
   "source": [
    "## 2. Grupa multyplikatywna ciała $\\mathbb{Z}_p$"
   ]
  },
  {
   "cell_type": "markdown",
   "metadata": {},
   "source": [
    "Zbiór $\\mathbb{Z}_p = \\{ 0,1,\\ldots , p-1\\}$ z dodawaniem i mnożeniem modulo $p$ jest ciałem wtedy i tylko wtedy, gdy $p$ jest liczbą pierwszą. Grupą multyplikatywną ciała $\\mathbb{Z}_p$ nazywamy grupę $\\{ 1,2,\\ldots , p-1\\}$ z mnożeniem modulo $p$.\n",
    "\n",
    "\n",
    "W SageMath ciało $\\mathbb{Z}_p$ z dodawaniem i mnożeniem modulo $p$ definiowane jest jako `GF(p)`, **na przykład**:"
   ]
  },
  {
   "cell_type": "code",
   "execution_count": null,
   "metadata": {},
   "outputs": [],
   "source": [
    "p=13\n",
    "Zp=GF(p)\n",
    "a=Zp(5); b=Zp(3)\n",
    "print(a*b, b-a)\n",
    "# wciśnij SHIFT ENTER"
   ]
  },
  {
   "cell_type": "markdown",
   "metadata": {},
   "source": [
    "Na kolejnych zajęciach poznasz metody weryfikacji czy dana liczba jest pierwsza. Na razie będziemy wykorzystywać komendę SageMath `is_prime()`."
   ]
  },
  {
   "cell_type": "markdown",
   "metadata": {},
   "source": [
    "**Zadanie 2.1**"
   ]
  },
  {
   "cell_type": "markdown",
   "metadata": {},
   "source": [
    "**a).** Korzystając z komendy `is_prime()` i odpowiedniej pętli, wygeneruj zbiór $P$ liczb pierwszych mniejszych od $500$."
   ]
  },
  {
   "cell_type": "code",
   "execution_count": null,
   "metadata": {},
   "outputs": [],
   "source": []
  },
  {
   "cell_type": "markdown",
   "metadata": {},
   "source": [
    "**b).** Dla każdej liczby pierwszej $p\\in P$ sprawdź czy $2$ generuje zbiór $\\mathbb{Z}_p\\backslash\\{ 0\\}$."
   ]
  },
  {
   "cell_type": "code",
   "execution_count": null,
   "metadata": {},
   "outputs": [],
   "source": []
  },
  {
   "cell_type": "markdown",
   "metadata": {},
   "source": [
    "**c).** Czy dla każdej liczby pierwszej $p\\in P$ istnieje element $a\\in\\mathbb{Z}_p$, który generuje zbiór $\\mathbb{Z}_p\\backslash\\{ 0\\}$? Aby odpowiedzieć na to pytanie, rozszerz swój kod z punktu b). Jeśli dla jakiegoś $p$ takie $a$ istnieje, napisz ile wynosi."
   ]
  },
  {
   "cell_type": "code",
   "execution_count": null,
   "metadata": {},
   "outputs": [],
   "source": []
  },
  {
   "cell_type": "markdown",
   "metadata": {},
   "source": [
    "**d).** Korzystając z  magicznej funkcji `%timeit` porównaj z koleżankami i kolegami czas twojego kodu z punktu c). Czy metoda kogoś innego jest szybsza?"
   ]
  },
  {
   "cell_type": "code",
   "execution_count": null,
   "metadata": {},
   "outputs": [],
   "source": []
  },
  {
   "cell_type": "markdown",
   "metadata": {},
   "source": [
    "## 3. Grupa multyplikatywna ciała $\\mathbb{Z}_p[x]/f\\mathbb{Z}_p[x]$"
   ]
  },
  {
   "cell_type": "markdown",
   "metadata": {},
   "source": [
    "Niech $p$ będzie liczbą pierwszą. Rozważmy zbiór $\\mathbb{Z}_p[x]/f\\mathbb{Z}_p[x]$ złożony z wszystkich wielomianów o wspołczynnikach z $\\mathbb{Z}_p$, których stopień jest mniejszy od stopnia wielomianu $f$. W SageMath można go zdefiniować w następujący sposób: "
   ]
  },
  {
   "cell_type": "code",
   "execution_count": null,
   "metadata": {},
   "outputs": [],
   "source": [
    "p=2\n",
    "R.<x> = PolynomialRing(GF(p)) # pierścień wielomianów zmiennej x nad ciałem Z_p z dodawaniem i mnożeniem modulo p\n",
    "f=x^3+x+1\n",
    "P=R.quotient(f*R)\n",
    "list(P)\n",
    "# wciśnij SHIFT ENTER"
   ]
  },
  {
   "cell_type": "markdown",
   "metadata": {},
   "source": [
    "Zauważmy, że SageMath zmienił nazwę zmiennej $x$ na xbar. Aby samemu ustalić nazwę zmiennej, np. $a$, należy postąpić w następujący sposób:"
   ]
  },
  {
   "cell_type": "code",
   "execution_count": null,
   "metadata": {},
   "outputs": [],
   "source": [
    "p=2\n",
    "R.<x> = PolynomialRing(GF(p)) # pierścień wielomianów zmiennej x nad ciałem Z_p z dodawaniem i mnożeniem modulo p\n",
    "f=x^3+x+1\n",
    "P.<a>=R.quotient(f*R)\n",
    "list(P) # lista elementów pierścienia P\n",
    "# wciśnij SHIFT ENTER"
   ]
  },
  {
   "cell_type": "markdown",
   "metadata": {},
   "source": [
    "Na zbiorze $\\mathbb{Z}_p[x]/f\\mathbb{Z}_p[x]$ definiujemy dwa działania:\n",
    "- dodawanie: zwykłe dodawanie wielomianów, przy czym współczynniki dodajemy modulo $p$\n",
    "- mnożenie: $\\quad g\\cdot h \\stackrel{def}{=}\\;$ reszta z dzielenia wielomianu  $\\; g\\cdot h\\;$ przez $\\; f.$\n",
    "\n",
    "Wraz z tymi działaniami zbiór $\\mathbb{Z}_p[x]/f\\mathbb{Z}_p[x]$ staje się pierścieniem, nazywamy go pierścieniem ilorazowym.\n",
    "\n",
    "**Uwaga:** Zwróćmy uwagę, na to że mnożenie elementów w pierścieniach $\\mathbb{Z}_p[x]$ i $\\mathbb{Z}_p[x]/f\\mathbb{Z}_p[x]$ jest zdefiniowane w zupełnie inny sposób. Program SageMath odróżnia je od siebie przez wprowadzenie nowej nazwy zmiannej."
   ]
  },
  {
   "cell_type": "markdown",
   "metadata": {},
   "source": [
    "**Przykład:**"
   ]
  },
  {
   "cell_type": "code",
   "execution_count": null,
   "metadata": {},
   "outputs": [],
   "source": [
    "p=2\n",
    "R.<x> = PolynomialRing(GF(p)) \n",
    "f=x^3+x+1\n",
    "P.<a>=R.quotient(f*R)\n",
    "print(x^2*(x+1))\n",
    "print(a^2*(a+1))\n",
    "# wciśnij SHIFT ENTER"
   ]
  },
  {
   "cell_type": "markdown",
   "metadata": {},
   "source": [
    "Zauważmy, że resztą z dzielenia wielomianu $x^3 + x^2$ przez $x^3+x+1$ jest właśnie $x^2+x+1$:\n",
    "$$x^3 + x^2 = 1\\cdot (x^3+x+1) +x^2+x+1$$\n",
    "(pamiętajmy, że współczynniki są tutaj dodawane i mnożone modulo $2$)."
   ]
  },
  {
   "cell_type": "markdown",
   "metadata": {},
   "source": [
    "**Zadanie 3.1**"
   ]
  },
  {
   "cell_type": "markdown",
   "metadata": {},
   "source": [
    "**a).** Korzystając z powyższych komend, zdefiniuj pierścień ilorazowy $\\mathbb{Z}_2[x]/(x^4 + x^2 + 1)\\mathbb{Z}_2[x]$. Korzystając z tabliczki mnożenia w pierścieniu $\\mathbb{Z}_2[x]/(x^4 + x^2 + 1)\\mathbb{Z}_2[x]$ (możesz wykorzystać komendę `multiplication_table(names='elements')`), sprawdź czy każdy element tego pierścienia posiada element odwrotny. "
   ]
  },
  {
   "cell_type": "code",
   "execution_count": null,
   "metadata": {},
   "outputs": [],
   "source": []
  },
  {
   "cell_type": "markdown",
   "metadata": {},
   "source": [
    "**b).** Sprawdź, że wielomian $x^4 + x^2 + 1$ nie jest nierozkładalny nad ciałem $\\mathbb{Z}_2$. Korzystając z komendy `factor()` możesz znaleźć rozkład tego wielomianu na czynniki nierozkładalne. "
   ]
  },
  {
   "cell_type": "code",
   "execution_count": null,
   "metadata": {},
   "outputs": [],
   "source": []
  },
  {
   "cell_type": "markdown",
   "metadata": {},
   "source": [
    "Pierścień $\\mathbb{Z}_p[x]/f\\mathbb{Z}_p[x]$ jest ciałem wtedy i tylko wtedy, gdy wielomian $f\\in\\mathbb{Z}_p[x]$ jest nierozkładalny. Będziemy o tym mówić więcej na kolejnych zajęciach. Na razie wykorzystamy komendę SageMath `is_irreducible()`. \n",
    "\n",
    "Grupą multyplikatywną ciała $\\mathbb{Z}_p[x]/f\\mathbb{Z}_p[x]$ nazywamy zbiór $\\mathbb{Z}_p[x]/f\\mathbb{Z}_p[x]$ bez zera z mnożeniem."
   ]
  },
  {
   "cell_type": "markdown",
   "metadata": {},
   "source": [
    "**Zadanie 3.2** "
   ]
  },
  {
   "cell_type": "markdown",
   "metadata": {},
   "source": [
    "**a).** Zdefiniuj pierścień ilorazowy $\\mathbb{Z}_2[x]/(x^3 + x + 1)\\mathbb{Z}_2[x]$. Korzystając z odpowiedniej komendy lub twierdzenia sprawdź, że jest to ciało. "
   ]
  },
  {
   "cell_type": "code",
   "execution_count": null,
   "metadata": {},
   "outputs": [],
   "source": []
  },
  {
   "cell_type": "markdown",
   "metadata": {},
   "source": [
    "**b).** Sprawdź czy grupa multyplikatywna ciała $\\mathbb{Z}_2/(x^3 + x + 1)\\mathbb{Z}_2[x]$  jest cykliczna. Jeśli tak, znajdź jej generator."
   ]
  },
  {
   "cell_type": "code",
   "execution_count": null,
   "metadata": {},
   "outputs": [],
   "source": []
  }
 ],
 "metadata": {
  "kernelspec": {
   "display_name": "SageMath 9.3",
   "language": "sage",
   "name": "sagemath"
  },
  "language_info": {
   "codemirror_mode": {
    "name": "ipython",
    "version": 3
   },
   "file_extension": ".py",
   "mimetype": "text/x-python",
   "name": "python",
   "nbconvert_exporter": "python",
   "pygments_lexer": "ipython3",
   "version": "3.7.10"
  }
 },
 "nbformat": 4,
 "nbformat_minor": 4
}
